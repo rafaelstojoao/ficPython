{
 "cells": [
  {
   "cell_type": "markdown",
   "metadata": {
    "id": "dgqyFQd5WLTm"
   },
   "source": [
    "# Introdução ao  Python com Ciência de Dados\n",
    "\n",
    "Professores:\n",
    "* Felipe Cavenaghi\n",
    "* Rafael Stoffalette Joao\n",
    "\n",
    "## Ementa\n",
    "1. Python: \n",
    "  * Ambiente de Programação\n",
    "  * tipos de dados, sequências e operações, estruturas de controle e repetição\n",
    "  * Python: referências, funções, funções avançadas e comprehention\n",
    "  * Python: I/O e noções básicas de classes e objetos\n",
    "2. Numpy: \n",
    "   * array, slicing, fancy index, copy e view\n",
    "   * operações com array, broadcasting\n",
    "3. Pandas: \n",
    "   * dataframes, series, index, Pandas I/O (csv, json, excell)\n",
    "   * limpeza de dados\n",
    "4. Matplotlib:  construção de gráficos\n",
    "5. Introdução ao aprendizado de máquina\n",
    "6. Introdução ao processamento de linguagem Natural com NTKL"
   ]
  },
  {
   "cell_type": "markdown",
   "metadata": {
    "id": "ZihgwGfCf0NU"
   },
   "source": [
    "# Aula 01: Introdução ao Python\n"
   ]
  },
  {
   "cell_type": "markdown",
   "metadata": {
    "id": "5ZQPZtp6Zgd9"
   },
   "source": [
    "* O que é Python\n",
    "* Variáveis e atribuição\n",
    "* Tipos de dados\n",
    "  * Tipos básicos\n",
    "  * Tipos sequências\n",
    "  * dicionários\n",
    "5. Escrita e leitura de arquivos\n",
    "6. sqlite"
   ]
  },
  {
   "cell_type": "markdown",
   "metadata": {
    "id": "f3La94cLmouh"
   },
   "source": [
    "## Python\n",
    "* Linguagem dinâmica e interpretada\n",
    "  * Tarefas são realizadas em tempo de execução \n",
    "  * Código executado diretamente ao invés de ser compilado.\n",
    "\n",
    "* Multi-paradgima\n",
    "\n",
    "  * Imperativo: programas compreendem uma sequência de declarações\n",
    "  * Orientada a objetos: permite modelos de classes para manipular objetos\n",
    "  * Procedural: código pode ser agrupado em unidades chamadas funções\n",
    "  * Funcional: Python nativamente permite funções de primeira classe, lambdas anônimos, comprehensions e geradores.\n",
    "\n",
    "* Ampla comunidade trabalhando e compartilhando código"
   ]
  },
  {
   "cell_type": "markdown",
   "metadata": {
    "id": "P3UJ86VdaVRu"
   },
   "source": [
    "## Variáveis e atribuição\n",
    "\n",
    "A atribuição é feita diretamente\n",
    "\n",
    "Sem necessidade de declarar o tipo de variável\n",
    "\n",
    "O Próprio Python se encarrega de descobrir o tipo de variável"
   ]
  },
  {
   "cell_type": "code",
   "execution_count": null,
   "metadata": {
    "colab": {
     "base_uri": "https://localhost:8080/"
    },
    "id": "dlq-B5XyaNvu",
    "outputId": "560a982d-5c45-4981-8012-ad03170f779a"
   },
   "outputs": [
    {
     "name": "stdout",
     "output_type": "stream",
     "text": [
      "<class 'int'>   x =  36\n",
      "<class 'str'>   y =  hello\n",
      "<class 'float'> z =  3.45\n"
     ]
    }
   ],
   "source": [
    "# A atribuição Cria é feita diretamente e cria e inicializa a variável\n",
    "x = 36\n",
    "y = \"hello\"\n",
    "z = 3.45\n",
    "\n",
    "# Imprimindo os resultados\n",
    "print(type(x), '  x = ', x)\n",
    "print(type(y), '  y = ', y)\n",
    "print(type(z), 'z = ', z)\n"
   ]
  },
  {
   "cell_type": "markdown",
   "metadata": {
    "id": "Dy_fa0NTqPbK"
   },
   "source": [
    "Tipos de dados\n",
    "* Tipos básicos\n",
    "  *  Inteiro\n",
    "  *  Float\n",
    "  *  Booleano\n",
    "  *  Números complexos"
   ]
  },
  {
   "cell_type": "code",
   "execution_count": null,
   "metadata": {
    "colab": {
     "base_uri": "https://localhost:8080/"
    },
    "id": "mFv6_BsrqeDZ",
    "outputId": "9c01339e-e3eb-4c45-dcd0-eee941697ae2"
   },
   "outputs": [
    {
     "name": "stdout",
     "output_type": "stream",
     "text": [
      "x = 1.89 | tipo:  <class 'float'>\n",
      "y = 1    | tipo:  <class 'int'>\n",
      "z = 1.89 | tipo:  <class 'str'>\n",
      "z = True | tipo:  <class 'bool'>\n",
      "z = (3+4j) | tipo:  <class 'complex'>\n"
     ]
    }
   ],
   "source": [
    "\n",
    "# Funções internas para converter entre tipos\n",
    "x = 1.89\n",
    "y = int(x)\n",
    "z = str(x)\n",
    "r = True\n",
    "s = 3 + 4j\n",
    "\n",
    "print(\"x =\", x, \"| tipo: \", type(x))\n",
    "print(\"y =\", y, \"   | tipo: \", type(y))\n",
    "print(\"z =\", z, \"| tipo: \", type(z))\n",
    "print(\"z =\", r, \"| tipo: \", type(r))\n",
    "print(\"z =\", s, \"| tipo: \", type(s))\n",
    "\n"
   ]
  },
  {
   "cell_type": "markdown",
   "metadata": {
    "id": "o1QDZL-GqmMD"
   },
   "source": [
    "## Operadores"
   ]
  },
  {
   "cell_type": "code",
   "execution_count": null,
   "metadata": {
    "colab": {
     "base_uri": "https://localhost:8080/"
    },
    "id": "s1Gg_ktqoLdP",
    "outputId": "37a8eb1a-54a1-464e-cb44-e7f992e52761"
   },
   "outputs": [
    {
     "name": "stdout",
     "output_type": "stream",
     "text": [
      "False\n",
      "True\n"
     ]
    }
   ],
   "source": [
    "# Comparação é feita usando os operadores convencionais <, >, ==, !=, ...\n",
    "x, y = 4, 6\n",
    "z, w = \"Ola\", \"Ola\"\n",
    "\n",
    "comparacao1 = y == x\n",
    "print(comparacao)\n",
    "\n",
    "comparacao2 = (x==y or z==w)\n",
    "print(comparacao2)"
   ]
  },
  {
   "cell_type": "code",
   "execution_count": null,
   "metadata": {
    "colab": {
     "base_uri": "https://localhost:8080/"
    },
    "id": "WEqBcIksa45-",
    "outputId": "f850fa04-f694-47af-f9db-76a641701627"
   },
   "outputs": [
    {
     "name": "stdout",
     "output_type": "stream",
     "text": [
      "Olá Mundo\n",
      "Já pode sair?Já pode sair?Já pode sair?Já pode sair?Já pode sair?\n"
     ]
    }
   ],
   "source": [
    "#Exemplo de aritmética com strings\n",
    "\n",
    "y = \"Olá\"\n",
    "x = y + ' Mundo'\n",
    "print(x)\n",
    "\n",
    "z = \"Já pode sair?\"\n",
    "w = 5*z\n",
    "print(w)"
   ]
  },
  {
   "cell_type": "code",
   "execution_count": null,
   "metadata": {
    "colab": {
     "base_uri": "https://localhost:8080/"
    },
    "id": "FUtbfeYlcxsm",
    "outputId": "1b02497a-9663-4467-91fa-0a3014fc7539"
   },
   "outputs": [
    {
     "name": "stdout",
     "output_type": "stream",
     "text": [
      "\n",
      "Inserido o elemento 5 via variável y\n",
      "x =  [1, 2, 3, 4, 5]\n",
      "y =  [1, 2, 3, 4, 5]\n",
      "\n",
      "Inserido o elemento 7 via variável x\n",
      "x =  [1, 2, 3, 4, 5, 7]\n",
      "y =  [1, 2, 3, 4, 5, 7]\n"
     ]
    }
   ],
   "source": [
    "# Atribuição de referência ao objeto e não do valor\n",
    "x = [1, 2, 3, 4]\n",
    "y = x\n",
    "\n",
    "# Assim quando modificamos x, modificamos o valor mostrado em y também e vice-versa\n",
    "y.append(5)\n",
    "print(\"\\nInserido o elemento 5 via variável y\")\n",
    "print(\"x = \",  x)\n",
    "print(\"y = \", y)\n",
    "\n",
    "x.append(7)\n",
    "print(\"\\nInserido o elemento 7 via variável x\")\n",
    "print(\"x = \",  x)\n",
    "print(\"y = \", y)\n"
   ]
  },
  {
   "cell_type": "markdown",
   "metadata": {
    "id": "d6w2wUCfrcVV"
   },
   "source": [
    "Tipos de dados sequências \n",
    "* Tuplas\n",
    "* Lista\n",
    "* String"
   ]
  },
  {
   "cell_type": "markdown",
   "metadata": {
    "id": "rI2URBOHtip8"
   },
   "source": [
    "Tuplas:\n",
    "\n",
    "*   Definida entre parênteses - ()\n",
    "*   Sequência de elementos que podem ser de tipos distintos\n",
    "*   Após criada, elementos não podem ser alterados\n",
    "\n"
   ]
  },
  {
   "cell_type": "code",
   "execution_count": null,
   "metadata": {
    "colab": {
     "base_uri": "https://localhost:8080/"
    },
    "id": "XMZjDQyYrsIo",
    "outputId": "3c96b4de-72ce-49f9-aed3-062a62a51479"
   },
   "outputs": [
    {
     "name": "stdout",
     "output_type": "stream",
     "text": [
      "<class 'tuple'> | (1, 2, 3, 'cinco', 7.0)\n",
      "<class 'tuple'> | (7, 8, '9', True, (1, 2, 3, 4))\n"
     ]
    }
   ],
   "source": [
    "# Tuplas\n",
    "# Declaração utiliza parênteses () e pode ser de tipos distintos\n",
    "t1 = (1, 2, 3, \"cinco\", 7.0)\n",
    "print(type(t1), \"|\", t1)\n",
    "\n",
    "\n",
    "# Se não colocar parênteses também aceita\n",
    "t2 = 7,8,\"9\", True, (1, 2, 3, 4)\n",
    "print(type(t2), \"|\", t2)\n"
   ]
  },
  {
   "cell_type": "code",
   "execution_count": null,
   "metadata": {
    "colab": {
     "base_uri": "https://localhost:8080/"
    },
    "id": "FiqlizrbseVF",
    "outputId": "87e1071c-6f1e-4fdb-d006-820b680e56a2"
   },
   "outputs": [
    {
     "name": "stdout",
     "output_type": "stream",
     "text": [
      "<class 'int'>   | t1[0] =  1\n",
      "<class 'str'>   | t1[3] =  cinco\n",
      "<class 'bool'>  | t2[3] =  True\n",
      "<class 'tuple'> | t2[4] =  (1, 2, 3, 4)\n",
      "<class 'int'>   | t2[4][1] =  2\n"
     ]
    }
   ],
   "source": [
    "# acessando um elemento da tupla via []\n",
    "print(type(t1[0]), \"  | t1[0] = \", t1[0])\n",
    "print(type(t1[3]), \"  | t1[3] = \", t1[3])\n",
    "print(type(t2[3]), \" | t2[3] = \", t2[3])\n",
    "print(type(t2[4]), \"| t2[4] = \", t2[4])\n",
    "print(type(t2[4][1]), \"  | t2[4][1] = \", t2[4][1])"
   ]
  },
  {
   "cell_type": "code",
   "execution_count": null,
   "metadata": {
    "colab": {
     "base_uri": "https://localhost:8080/",
     "height": 189
    },
    "id": "IcV6GiaGs_va",
    "outputId": "8dcc5651-17a0-427e-c08b-9fb477afb230"
   },
   "outputs": [
    {
     "ename": "NameError",
     "evalue": "ignored",
     "output_type": "error",
     "traceback": [
      "\u001b[0;31m---------------------------------------------------------------------------\u001b[0m",
      "\u001b[0;31mNameError\u001b[0m                                 Traceback (most recent call last)",
      "\u001b[0;32m<ipython-input-143-09cab1839ca9>\u001b[0m in \u001b[0;36m<module>\u001b[0;34m()\u001b[0m\n\u001b[1;32m      1\u001b[0m \u001b[0;31m# Se terntar inserir ou modificar um elemento na tupla, gera erro\u001b[0m\u001b[0;34m\u001b[0m\u001b[0;34m\u001b[0m\u001b[0;34m\u001b[0m\u001b[0m\n\u001b[0;32m----> 2\u001b[0;31m \u001b[0mt\u001b[0m\u001b[0;34m[\u001b[0m\u001b[0;36m1\u001b[0m\u001b[0;34m]\u001b[0m \u001b[0;34m=\u001b[0m \u001b[0;36m7\u001b[0m\u001b[0;34m\u001b[0m\u001b[0;34m\u001b[0m\u001b[0m\n\u001b[0m",
      "\u001b[0;31mNameError\u001b[0m: name 't' is not defined"
     ]
    }
   ],
   "source": [
    "# Se terntar inserir ou modificar um elemento na tupla, gera erro\n",
    "t[1] = 7"
   ]
  },
  {
   "cell_type": "code",
   "execution_count": null,
   "metadata": {
    "colab": {
     "base_uri": "https://localhost:8080/"
    },
    "id": "b2OZ1SqRtJ40",
    "outputId": "d8a836fe-e032-4afe-d3ef-304494621b48"
   },
   "outputs": [
    {
     "name": "stdout",
     "output_type": "stream",
     "text": [
      "<class 'tuple'>\n",
      "(1, 2, 3, 'cinco', 7.0, 7, 8, '9', True, (1, 2, 3, 4))\n"
     ]
    }
   ],
   "source": [
    "# \"Somando\" duas tuplas\n",
    "t3 = t1 + t2\n",
    "print(type(t3))\n",
    "print(t3)"
   ]
  },
  {
   "cell_type": "markdown",
   "metadata": {
    "id": "i98onhz9v2kw"
   },
   "source": [
    "Listas:\n",
    "\n",
    "*  Definida entre colchetes - []\n",
    "*  Elementos podem ser modificados, adicionados e removidos"
   ]
  },
  {
   "cell_type": "code",
   "execution_count": null,
   "metadata": {
    "colab": {
     "base_uri": "https://localhost:8080/"
    },
    "id": "Xo6qOP49uBz9",
    "outputId": "b91faf86-e569-4e3a-ef7d-ef2ae2b356db"
   },
   "outputs": [
    {
     "name": "stdout",
     "output_type": "stream",
     "text": [
      "<class 'list'> | [2, 4, 3, 5]\n",
      "<class 'list'> | [2, '3']\n"
     ]
    }
   ],
   "source": [
    "# Listas\n",
    "# Atribuição para listas - []\n",
    "l1 = [2, 4, 3, 5]\n",
    "l2 = [2, \"3\"]\n",
    "\n",
    "print(type(l1), \"|\", l1)\n",
    "print(type(l2), \"|\", l2)"
   ]
  },
  {
   "cell_type": "code",
   "execution_count": null,
   "metadata": {
    "colab": {
     "base_uri": "https://localhost:8080/"
    },
    "id": "Rn6_AS0UvF10",
    "outputId": "d178df02-df46-4aa9-e4b5-c317440626a4"
   },
   "outputs": [
    {
     "name": "stdout",
     "output_type": "stream",
     "text": [
      "<class 'list'> | [2, '3']\n",
      "<class 'str'> | 3\n"
     ]
    }
   ],
   "source": [
    "# acessando um elemento\n",
    "print(type(l2), \"|\", l2)\n",
    "print(type(l2[1]), \"|\", l2[1])\n"
   ]
  },
  {
   "cell_type": "code",
   "execution_count": null,
   "metadata": {
    "colab": {
     "base_uri": "https://localhost:8080/"
    },
    "id": "Q9OCmgqUvU7Q",
    "outputId": "d1323c25-1ca0-4ee7-d533-4f62c9fc6a3a"
   },
   "outputs": [
    {
     "name": "stdout",
     "output_type": "stream",
     "text": [
      "l1 =  [2, 4, 3, 5]\n",
      "l1 =  [2, '1', 3, 5]\n"
     ]
    }
   ],
   "source": [
    "#Com listas podemos modificar os valores\n",
    "print(\"l1 = \", l1)\n",
    "\n",
    "l1[1] = \"1\"\n",
    "\n",
    "print(\"l1 = \", l1)"
   ]
  },
  {
   "cell_type": "code",
   "execution_count": null,
   "metadata": {
    "colab": {
     "base_uri": "https://localhost:8080/"
    },
    "id": "p5AE6kyBvlQC",
    "outputId": "d87ca6b1-6c1f-4d60-a027-0b3f5f70c145"
   },
   "outputs": [
    {
     "name": "stdout",
     "output_type": "stream",
     "text": [
      "l3 =  [2, '1', 3, 5, 2, '3']\n"
     ]
    }
   ],
   "source": [
    "#Somando listas\n",
    "l3 = l1 + l2\n",
    "print(\"l3 = \", l3)\n"
   ]
  },
  {
   "cell_type": "code",
   "execution_count": null,
   "metadata": {
    "colab": {
     "base_uri": "https://localhost:8080/"
    },
    "id": "FWn-RHUHwJcI",
    "outputId": "d13fea48-d784-44f2-8b12-1186dd68e980"
   },
   "outputs": [
    {
     "name": "stdout",
     "output_type": "stream",
     "text": [
      "l3 =  ['1', 3, 5, 2, '3']\n"
     ]
    }
   ],
   "source": [
    "# Removendo elementos de listas\n",
    "\n",
    "# Localiza o elemento de valor 2 e remove\n",
    "# Havendo repetição, remove o primeiro que encontrar\n",
    "l3.remove(2)\n",
    "print(\"l3 = \", l3)"
   ]
  },
  {
   "cell_type": "code",
   "execution_count": null,
   "metadata": {
    "colab": {
     "base_uri": "https://localhost:8080/"
    },
    "id": "6_KEgu4Gwa28",
    "outputId": "8943c4b1-263c-4b6e-8d13-197a2fba8006"
   },
   "outputs": [
    {
     "name": "stdout",
     "output_type": "stream",
     "text": [
      "l3 =  ['1', 3, 5, 2, '3', 2]\n"
     ]
    }
   ],
   "source": [
    "# Adicionando item\n",
    "\n",
    "#Adiciona o elemento no final da lista\n",
    "l3.append(2)\n",
    "print(\"l3 = \", l3)"
   ]
  },
  {
   "cell_type": "code",
   "execution_count": null,
   "metadata": {
    "colab": {
     "base_uri": "https://localhost:8080/"
    },
    "id": "gcUuIqlVwlV3",
    "outputId": "464b73c2-48f1-4f79-9be4-759cee9c851b"
   },
   "outputs": [
    {
     "name": "stdout",
     "output_type": "stream",
     "text": [
      "l3 =  ['1', 3, 20, 5, 2, '3', 2]\n"
     ]
    }
   ],
   "source": [
    "# insert(pos, valor): isere o elemento \"valor\" na posição \"pos\" da lista\n",
    "l3.insert(2, 20)\n",
    "print(\"l3 = \", l3)"
   ]
  },
  {
   "cell_type": "code",
   "execution_count": null,
   "metadata": {
    "colab": {
     "base_uri": "https://localhost:8080/",
     "height": 207
    },
    "id": "eZytRlYxrrwK",
    "outputId": "a4683e42-62fd-42ff-ccbb-3ea0b5ac6af9"
   },
   "outputs": [
    {
     "ename": "TypeError",
     "evalue": "ignored",
     "output_type": "error",
     "traceback": [
      "\u001b[0;31m---------------------------------------------------------------------------\u001b[0m",
      "\u001b[0;31mTypeError\u001b[0m                                 Traceback (most recent call last)",
      "\u001b[0;32m<ipython-input-170-a12342c66da4>\u001b[0m in \u001b[0;36m<module>\u001b[0;34m()\u001b[0m\n\u001b[1;32m      1\u001b[0m \u001b[0;31m# Ordenando listas, não ordena\u001b[0m\u001b[0;34m\u001b[0m\u001b[0;34m\u001b[0m\u001b[0;34m\u001b[0m\u001b[0m\n\u001b[0;32m----> 2\u001b[0;31m \u001b[0ml3\u001b[0m\u001b[0;34m.\u001b[0m\u001b[0msort\u001b[0m\u001b[0;34m(\u001b[0m\u001b[0;34m)\u001b[0m\u001b[0;34m\u001b[0m\u001b[0;34m\u001b[0m\u001b[0m\n\u001b[0m\u001b[1;32m      3\u001b[0m \u001b[0mprint\u001b[0m\u001b[0;34m(\u001b[0m\u001b[0;34m\"l3 = \"\u001b[0m\u001b[0;34m,\u001b[0m \u001b[0ml3\u001b[0m\u001b[0;34m)\u001b[0m\u001b[0;34m\u001b[0m\u001b[0;34m\u001b[0m\u001b[0m\n",
      "\u001b[0;31mTypeError\u001b[0m: '<' not supported between instances of 'int' and 'str'"
     ]
    }
   ],
   "source": [
    "# Ordenando listas, vai dar erro\n",
    "l3.sort()\n",
    "print(\"l3 = \", l3)"
   ]
  },
  {
   "cell_type": "code",
   "execution_count": null,
   "metadata": {
    "colab": {
     "base_uri": "https://localhost:8080/"
    },
    "id": "KLRAF8zfr9qW",
    "outputId": "4ed3b0a4-fedf-48a5-b901-59f362181388"
   },
   "outputs": [
    {
     "name": "stdout",
     "output_type": "stream",
     "text": [
      "antes ordenação\n",
      "[3, 20, 5, 2, 2]\n",
      "\n",
      "após ordenação\n",
      "[2, 2, 3, 5, 20]\n"
     ]
    }
   ],
   "source": [
    "# Removendo os strings, teremos só um tipo de dados\n",
    "l3.remove('1')\n",
    "l3.remove('3')\n",
    "\n",
    "print(\"antes ordenação\")\n",
    "print(l3)\n",
    "\n",
    "# Agora podemos ordena\n",
    "l3.sort()\n",
    "\n",
    "print(\"\\napós ordenação\")\n",
    "print(l3)"
   ]
  },
  {
   "cell_type": "code",
   "execution_count": null,
   "metadata": {
    "colab": {
     "base_uri": "https://localhost:8080/"
    },
    "id": "vJgkUF_asybA",
    "outputId": "b50f929f-0f2d-4ae4-a922-9bcfaacb786d"
   },
   "outputs": [
    {
     "name": "stdout",
     "output_type": "stream",
     "text": [
      "['a', 'c', 'd']\n"
     ]
    }
   ],
   "source": [
    "# Ou só com strings\n",
    "Letras = ['a', 'd', 'c']\n",
    "Letras.sort()\n",
    "print(Letras)"
   ]
  },
  {
   "cell_type": "markdown",
   "metadata": {
    "id": "akAIjWTHxhUV"
   },
   "source": [
    "Strings\n",
    "\n",
    "*  definida entre apas simples ('') ou duplas (\"\")\n",
    "*  Conceitualmente similares a tuplas\n",
    "*  Elementos são caracteres"
   ]
  },
  {
   "cell_type": "code",
   "execution_count": null,
   "metadata": {
    "colab": {
     "base_uri": "https://localhost:8080/"
    },
    "id": "4_w4zqbav1mW",
    "outputId": "61cf0655-0efb-4fcc-c39b-da75bcfe38b0"
   },
   "outputs": [
    {
     "name": "stdout",
     "output_type": "stream",
     "text": [
      "<class 'str'> Olá\n",
      "<class 'str'> O\n"
     ]
    }
   ],
   "source": [
    "# String\n",
    "# Atrbuição de strings\n",
    "str1 = \"Olá\"\n",
    "\n",
    "print(type(str1), str1)\n",
    "print(type(str1[0]), str1[0])"
   ]
  },
  {
   "cell_type": "code",
   "execution_count": null,
   "metadata": {
    "colab": {
     "base_uri": "https://localhost:8080/",
     "height": 189
    },
    "id": "kw4Q_5q1xXt0",
    "outputId": "ec1ebba0-1cb1-457c-dd67-fe250f555f08"
   },
   "outputs": [
    {
     "ename": "TypeError",
     "evalue": "ignored",
     "output_type": "error",
     "traceback": [
      "\u001b[0;31m---------------------------------------------------------------------------\u001b[0m",
      "\u001b[0;31mTypeError\u001b[0m                                 Traceback (most recent call last)",
      "\u001b[0;32m<ipython-input-106-98453f565c67>\u001b[0m in \u001b[0;36m<module>\u001b[0;34m()\u001b[0m\n\u001b[1;32m      1\u001b[0m \u001b[0;31m# não pode editar depois de criada, similar à tupla\u001b[0m\u001b[0;34m\u001b[0m\u001b[0;34m\u001b[0m\u001b[0;34m\u001b[0m\u001b[0m\n\u001b[0;32m----> 2\u001b[0;31m \u001b[0mstr1\u001b[0m\u001b[0;34m[\u001b[0m\u001b[0;36m0\u001b[0m\u001b[0;34m]\u001b[0m \u001b[0;34m=\u001b[0m \u001b[0;34m\"x\"\u001b[0m\u001b[0;34m\u001b[0m\u001b[0;34m\u001b[0m\u001b[0m\n\u001b[0m",
      "\u001b[0;31mTypeError\u001b[0m: 'str' object does not support item assignment"
     ]
    }
   ],
   "source": [
    "# não pode editar depois de criada, similar à tupla\n",
    "str1[0] = \"x\""
   ]
  },
  {
   "cell_type": "markdown",
   "metadata": {
    "id": "AVf8mnhdx8RE"
   },
   "source": [
    "## Resumo tuplas, listas e strings\n",
    "*  Os elementos de uma tupla, lista ou string podem ser acessados utilizando colchetes [ ] de forma indexada.\n",
    "\n",
    "*  O índice dos elementos varia de 0 até 𝑛−1, onde 𝑛 é o número de elementos na sequência.\n",
    "\n",
    "*  OBS: Tuplas e strings são imutáveis (seus valores são fixos), Listas são mutáveis (é possível alterar seus valores)\n"
   ]
  },
  {
   "cell_type": "markdown",
   "metadata": {
    "id": "5_HfUw_QBrjf"
   },
   "source": [
    "## Tipos de dados dicionários\n",
    "\n",
    "* Criados usando cahves - {}\n",
    "* Mapeamento Chave:valores\n",
    "   * Chave pode ser qualquer tipo imutável\n",
    "   * Valores podem ser de qualquer tipo\n",
    "* Pares chave/valores podem ser modificados, visualizados e apagados"
   ]
  },
  {
   "cell_type": "code",
   "execution_count": null,
   "metadata": {
    "colab": {
     "base_uri": "https://localhost:8080/"
    },
    "id": "p92iBQSwq6EV",
    "outputId": "c42cf633-0628-46b7-f3d8-d8fa4cdcd6f3"
   },
   "outputs": [
    {
     "name": "stdout",
     "output_type": "stream",
     "text": [
      "<class 'dict'> {'chave1': 4.0, 'chave2': 23, 'chave3': 'Outro valor', 'chave4': (1, 2, 3, 4)}\n"
     ]
    }
   ],
   "source": [
    "# dicionários\n",
    "# Atribuição\n",
    "d1 = {'chave1': 4.0,\n",
    "     'chave2': 23,\n",
    "     'chave3': 'Outro valor',\n",
    "     'chave4': (1,2,3,4)}\n",
    "\n",
    "print(type(d1), d1)"
   ]
  },
  {
   "cell_type": "code",
   "execution_count": null,
   "metadata": {
    "colab": {
     "base_uri": "https://localhost:8080/"
    },
    "id": "EjJclX5Srag7",
    "outputId": "0b826ec6-a607-4f05-fa54-db8b18da469c"
   },
   "outputs": [
    {
     "name": "stdout",
     "output_type": "stream",
     "text": [
      "chave1 =  4.0          | tipo: <class 'float'>\n",
      "chave2 =  23           | tipo: <class 'int'>\n",
      "chave3 =  Outro valor  | tipo: <class 'str'>\n",
      "chave4 =  (1, 2, 3, 4) | tipo: <class 'tuple'>\n"
     ]
    }
   ],
   "source": [
    "# Acessando valores a partir da chave\n",
    "print(\"chave1 = \", d1['chave1'], \"         | tipo:\", type(d1['chave1']))\n",
    "print(\"chave2 = \", d1['chave2'], \"          | tipo:\", type(d1['chave2']))\n",
    "print(\"chave3 = \", d1['chave3'], \" | tipo:\", type(d1['chave3']))\n",
    "print(\"chave4 = \", d1['chave4'], \"| tipo:\", type(d1['chave4']))"
   ]
  },
  {
   "cell_type": "code",
   "execution_count": null,
   "metadata": {
    "colab": {
     "base_uri": "https://localhost:8080/"
    },
    "id": "ZueCH69W_swK",
    "outputId": "8d34d082-e8c0-4a78-dea6-bd1fdd5615b6"
   },
   "outputs": [
    {
     "name": "stdout",
     "output_type": "stream",
     "text": [
      "{'chave1': 4.0, 'chave2': 23, 'chave3': 'Outro valor', 'chave4': (1, 2, 3, 4)}\n",
      "{'chave1': 4.0, 'chave2': 23, 'chave3': 'Outro valor', 'chave4': (1, 2, 3, 4), 5: 'cinco'}\n",
      "{'chave1': 4.0, 'chave2': 23, 'chave3': 'Outro valor', 'chave4': (1, 2, 3, 4), 5: [5]}\n"
     ]
    }
   ],
   "source": [
    "print(d1)\n",
    "\n",
    "# dada a chave, se ela não existe, cria uma nova\n",
    "d1[5] = 'cinco'\n",
    "print(d1)\n",
    "\n",
    "#se já exsite, atualiza o valor\n",
    "d1[5] = [5]\n",
    "print(d1)\n"
   ]
  },
  {
   "cell_type": "code",
   "execution_count": null,
   "metadata": {
    "colab": {
     "base_uri": "https://localhost:8080/"
    },
    "id": "6PQeYpCGAAYX",
    "outputId": "e224c4f7-fbd9-46c1-cd5d-171eb85ac5b5"
   },
   "outputs": [
    {
     "name": "stdout",
     "output_type": "stream",
     "text": [
      "{'chave1': 4.0, 'chave2': 23, 'chave3': 'Outro valor', 5: [5]}\n"
     ]
    }
   ],
   "source": [
    "#Removendo item\n",
    "del d1['chave4']\n",
    "print(d1)"
   ]
  },
  {
   "cell_type": "code",
   "execution_count": null,
   "metadata": {
    "colab": {
     "base_uri": "https://localhost:8080/"
    },
    "id": "F2PZmGhGAy-O",
    "outputId": "f3cb6b1f-f98d-4671-daa6-8f043d1e79da"
   },
   "outputs": [
    {
     "name": "stdout",
     "output_type": "stream",
     "text": [
      "<class 'dict_items'> | dict_items([('chave1', 4.0), ('chave2', 23), ('chave3', 'Outro valor'), (5, [5])])\n"
     ]
    }
   ],
   "source": [
    "#itens\n",
    "itens = d1.items()\n",
    "print(type(itens), '|', itens)"
   ]
  },
  {
   "cell_type": "code",
   "execution_count": null,
   "metadata": {
    "colab": {
     "base_uri": "https://localhost:8080/"
    },
    "id": "mjyyRsYCAGmn",
    "outputId": "3167c790-f5aa-4c95-b43d-72fc86bbd9aa"
   },
   "outputs": [
    {
     "name": "stdout",
     "output_type": "stream",
     "text": [
      "<class 'dict_keys'> | dict_keys(['chave1', 'chave2', 'chave3', 5])\n"
     ]
    }
   ],
   "source": [
    "# Propriedaes\n",
    "# Chaves\n",
    "chaves = d1.keys()\n",
    "print(type(chaves), '|', chaves)"
   ]
  },
  {
   "cell_type": "code",
   "execution_count": null,
   "metadata": {
    "colab": {
     "base_uri": "https://localhost:8080/"
    },
    "id": "wtXodQQKAhIc",
    "outputId": "48c5fb41-317d-45bf-ed1e-16388d42cc0d"
   },
   "outputs": [
    {
     "name": "stdout",
     "output_type": "stream",
     "text": [
      "<class 'dict_values'> | dict_values([4.0, 23, 'Outro valor', [5]])\n"
     ]
    }
   ],
   "source": [
    "# Valores\n",
    "valores = d1.values()\n",
    "print(type(valores), '|', valores)"
   ]
  },
  {
   "cell_type": "code",
   "execution_count": null,
   "metadata": {
    "colab": {
     "base_uri": "https://localhost:8080/"
    },
    "id": "Q8ezb0s9VI4f",
    "outputId": "715f0e95-b4a8-4b16-b8e4-b10ac86c1568"
   },
   "outputs": [
    {
     "name": "stdout",
     "output_type": "stream",
     "text": [
      "1 --> um\n",
      "2 --> dois\n",
      "3 --> tres\n"
     ]
    }
   ],
   "source": [
    "# criando um dicionario\n",
    "d = {1: 'um', 2: 'dois', 3:'tres'}\n",
    "for key, value in d.items():\n",
    "  print(key, '-->', value)"
   ]
  },
  {
   "cell_type": "markdown",
   "metadata": {
    "id": "ETudZkfryyth"
   },
   "source": [
    "## Exemplos"
   ]
  },
  {
   "cell_type": "code",
   "execution_count": null,
   "metadata": {
    "colab": {
     "base_uri": "https://localhost:8080/"
    },
    "id": "ofTMEIyvwjl6",
    "outputId": "203a408d-eb29-4d4a-c1ff-d3c5972a15db"
   },
   "outputs": [
    {
     "name": "stdout",
     "output_type": "stream",
     "text": [
      "{0: 'Par', 1: 'Impar', 2: 'Par', 3: 'Impar', 4: 'Par', 5: 'Impar', 6: 'Par', 7: 'Impar', 8: 'Par', 9: 'Impar', 10: 'Par', 11: 'Impar', 12: 'Par', 13: 'Impar', 14: 'Par', 15: 'Impar'}\n"
     ]
    }
   ],
   "source": [
    "#dicionarío de números ímpares e pares\n",
    "\n",
    "my_list = [0,1,2,3,4,5,6,7,8,9, 10, 11, 12, 13, 14, 15]\n",
    "\n",
    "# dicionário vazio\n",
    "Numeros = {}\n",
    "\n",
    "for val in my_list:\n",
    "    if val%2 == 0:\n",
    "        Numeros[val] = 'Par'\n",
    "    else:\n",
    "        Numeros[val] = 'Impar'  \n",
    "\n",
    "print(Numeros)"
   ]
  },
  {
   "cell_type": "markdown",
   "metadata": {
    "id": "I3hyXMrakWD7"
   },
   "source": [
    "## Incluindo módulos\n"
   ]
  },
  {
   "cell_type": "code",
   "execution_count": null,
   "metadata": {
    "colab": {
     "base_uri": "https://localhost:8080/"
    },
    "id": "L9DCYWPDJQuY",
    "outputId": "83dadcd7-208a-499b-c8be-e13bffb09e0d"
   },
   "outputs": [
    {
     "name": "stdout",
     "output_type": "stream",
     "text": [
      "Media =  8.666666666666666\n",
      "Mediana =  9\n",
      "Desvio padrão =  1.247219128924647\n",
      "Variância =  2.3333333333333335\n"
     ]
    }
   ],
   "source": [
    "# colocar mais exemplos mostrar o caminho para achar as funções\n",
    "\n",
    "import  statistics as st\n",
    "lista = [10,9,7]\n",
    "\n",
    "media = st.mean(lista)\n",
    "desviopadrao = st.pstdev(lista)\n",
    "variancia = st.variance(lista)\n",
    "mediana = st.median(lista)\n",
    "\n",
    "print(\"Media = \", media)\n",
    "print(\"Mediana = \", mediana)\n",
    "print(\"Desvio padrão = \", desviopadrao)\n",
    "print(\"Variância = \", variancia)\n",
    "\n",
    "\n",
    "\n",
    "\t\n",
    "\n"
   ]
  },
  {
   "cell_type": "code",
   "execution_count": null,
   "metadata": {
    "colab": {
     "base_uri": "https://localhost:8080/",
     "height": 243
    },
    "id": "vRFOAxs-_CpC",
    "outputId": "22a58dd4-a196-47df-e82a-b9b1fae75219"
   },
   "outputs": [
    {
     "ename": "NameError",
     "evalue": "ignored",
     "output_type": "error",
     "traceback": [
      "\u001b[0;31m---------------------------------------------------------------------------\u001b[0m",
      "\u001b[0;31mNameError\u001b[0m                                 Traceback (most recent call last)",
      "\u001b[0;32m<ipython-input-303-64f62655cd6c>\u001b[0m in \u001b[0;36m<module>\u001b[0;34m()\u001b[0m\n\u001b[1;32m      4\u001b[0m \u001b[0mmedia\u001b[0m \u001b[0;34m=\u001b[0m \u001b[0mmean\u001b[0m\u001b[0;34m(\u001b[0m\u001b[0mlista\u001b[0m\u001b[0;34m)\u001b[0m\u001b[0;34m\u001b[0m\u001b[0;34m\u001b[0m\u001b[0m\n\u001b[1;32m      5\u001b[0m \u001b[0;31m# Vai dar erro\u001b[0m\u001b[0;34m\u001b[0m\u001b[0;34m\u001b[0m\u001b[0;34m\u001b[0m\u001b[0m\n\u001b[0;32m----> 6\u001b[0;31m \u001b[0mdesviopadrao\u001b[0m \u001b[0;34m=\u001b[0m \u001b[0mpstdev\u001b[0m\u001b[0;34m(\u001b[0m\u001b[0mlista\u001b[0m\u001b[0;34m)\u001b[0m\u001b[0;34m\u001b[0m\u001b[0;34m\u001b[0m\u001b[0m\n\u001b[0m\u001b[1;32m      7\u001b[0m \u001b[0;34m\u001b[0m\u001b[0m\n\u001b[1;32m      8\u001b[0m \u001b[0mprint\u001b[0m\u001b[0;34m(\u001b[0m\u001b[0mmedia\u001b[0m\u001b[0;34m)\u001b[0m\u001b[0;34m\u001b[0m\u001b[0;34m\u001b[0m\u001b[0m\n",
      "\u001b[0;31mNameError\u001b[0m: name 'pstdev' is not defined"
     ]
    }
   ],
   "source": [
    "from statistics import mean\n",
    "lista = [10,9,7]\n",
    "\n",
    "media = mean(lista)\n",
    "# Vai dar erro\n",
    "desviopadrao = pstdev(lista)"
   ]
  },
  {
   "cell_type": "code",
   "execution_count": null,
   "metadata": {
    "id": "plIF7z3Z_yFy"
   },
   "outputs": [],
   "source": [
    "from statistics import mean\n",
    "lista = [10,9,7]\n",
    "\n",
    "media = mean(lista)\n",
    "\n",
    "print(media)\n"
   ]
  },
  {
   "cell_type": "markdown",
   "metadata": {
    "id": "1tp9SVBV9yas"
   },
   "source": [
    "## Exemplos"
   ]
  },
  {
   "cell_type": "code",
   "execution_count": null,
   "metadata": {
    "colab": {
     "base_uri": "https://localhost:8080/"
    },
    "id": "xpsL4BRAy1WF",
    "outputId": "75179dd6-7df7-48ff-8274-61258382d61b"
   },
   "outputs": [
    {
     "name": "stdout",
     "output_type": "stream",
     "text": [
      "{'s': 2, 'c': 2, 'i': 3, 'e': 2, 'n': 2, 't': 1, 'a': 1, ' ': 1, 'v': 1}\n"
     ]
    },
    {
     "data": {
      "text/plain": [
       "Counter({' ': 1,\n",
       "         'a': 1,\n",
       "         'c': 2,\n",
       "         'e': 2,\n",
       "         'i': 3,\n",
       "         'n': 2,\n",
       "         's': 2,\n",
       "         't': 1,\n",
       "         'v': 1})"
      ]
     },
     "execution_count": 220,
     "metadata": {
      "tags": []
     },
     "output_type": "execute_result"
    }
   ],
   "source": [
    "# verificando o número de ocorrência de uma letra dada uma string\n",
    "from collections import Counter\n",
    "minha_string = \"scientia vinces\"\n",
    "\n",
    "# dicionario de ocorrências\n",
    "ocor = {}\n",
    "\n",
    "# Para cadas elemento (caractere) da palavra, verifica se está no dicionário\n",
    "# Se é a primeira vez que econtrou, começa a contagem\n",
    "# Senão, incrementa\n",
    "for letra in minha_string: \n",
    "    if letra not in ocor:\n",
    "        ocor[letra] = 1\n",
    "    else:\n",
    "        ocor[letra] += 1\n",
    "\n",
    "print(ocor)\n",
    "\n",
    "# Porém a função já está implementada em python\n",
    "Counter(minha_string)"
   ]
  },
  {
   "cell_type": "markdown",
   "metadata": {
    "id": "x3N3Mzdx32t0"
   },
   "source": [
    "## Exemplo Corretor ortográfico"
   ]
  },
  {
   "cell_type": "code",
   "execution_count": null,
   "metadata": {
    "colab": {
     "base_uri": "https://localhost:8080/"
    },
    "id": "T_sM3qExJbxf",
    "outputId": "7245bbdf-5739-4786-a7ee-5dc2799cadde"
   },
   "outputs": [
    {
     "name": "stdout",
     "output_type": "stream",
     "text": [
      "{'ão': 'pão', 'po': 'pão', 'pã': 'pão', 'e': 'de', 'd': 'de', 'ueijo': 'queijo', 'qeijo': 'queijo', 'quijo': 'queijo', 'quejo': 'queijo', 'queio': 'queijo', 'queij': 'queijo', 'asa': 'casa', 'csa': 'casa', 'caa': 'casa', 'cas': 'casa', 'rem': 'trem', 'tem': 'trem', 'trm': 'trem', 'tre': 'trem', 'om': 'bom', 'bm': 'bom', 'bo': 'bom'}\n"
     ]
    }
   ],
   "source": [
    "# Cria dicionário para correção\n",
    "Corretor = {}\n",
    "\n",
    "# Incluir correção para a variação da palavra casa\n",
    "palavra = \"pão\"\n",
    "Termo = {palavra[0:x] + palavra[x+1:len(palavra)]:palavra for x in range(0, len(palavra))}\n",
    "for chave in Termo:\n",
    "  Corretor[chave] = Termo[chave]\n",
    "\n",
    "# Incluir correção para a variação da palavra casa\n",
    "palavra = \"de\"\n",
    "Termo = {palavra[0:x] + palavra[x+1:len(palavra)]:palavra for x in range(0, len(palavra))}\n",
    "for chave in Termo:\n",
    "  Corretor[chave] = Termo[chave]\n",
    "\n",
    "\n",
    "# Incluir correção para a variação da palavra casa\n",
    "palavra = \"queijo\"\n",
    "Termo = {palavra[0:x] + palavra[x+1:len(palavra)]:palavra for x in range(0, len(palavra))}\n",
    "for chave in Termo:\n",
    "  Corretor[chave] = Termo[chave]\n",
    "\n",
    "\n",
    "# Incluir correção para a variação da palavra casa\n",
    "palavra = \"casa\"\n",
    "Termo = {palavra[0:x] + palavra[x+1:len(palavra)]:palavra for x in range(0, len(palavra))}\n",
    "\n",
    "for chave in Termo:\n",
    "  Corretor[chave] = Termo[chave]\n",
    "\n",
    "# Trem\n",
    "palavra = \"trem\"\n",
    "Termo = {palavra[0:x] + palavra[x+1:len(palavra)]:palavra for x in range(0, len(palavra))}\n",
    "\n",
    "for chave in Termo:\n",
    "  Corretor[chave] = Termo[chave]\n",
    "\n",
    "# bom\n",
    "palavra = \"bom\"\n",
    "Termo = {palavra[0:x] + palavra[x+1:len(palavra)]:palavra for x in range(0, len(palavra))}\n",
    "\n",
    "for chave in Termo:\n",
    "  Corretor[chave] = Termo[chave]\n",
    "\n",
    "print(Corretor)"
   ]
  },
  {
   "cell_type": "code",
   "execution_count": null,
   "metadata": {
    "colab": {
     "base_uri": "https://localhost:8080/"
    },
    "id": "Lx-Y-zA-3770",
    "outputId": "b3e81aa0-592a-4ea5-a306-78a925a0be4d"
   },
   "outputs": [
    {
     "name": "stdout",
     "output_type": "stream",
     "text": [
      "['pão', 'de', 'queijo', 'é', 'um', 'trem', 'bom']\n",
      "pão de queijo é um trem bom \n"
     ]
    }
   ],
   "source": [
    "frase = ['pão', 'de', 'quijo', 'é', 'um', 'trem', 'bm']\n",
    "\n",
    "#Consultando o corretor\n",
    "cont = 0\n",
    "for palavra in frase:\n",
    "  if palavra in Corretor:\n",
    "    frase[cont] = Corretor[palavra]\n",
    "  cont += 1 \n",
    "  \n",
    "print(frase)\n",
    "\n",
    "Corrigido = ''\n",
    "\n",
    "# transformando em string\n",
    "for palavra in frase:\n",
    "  Corrigido += palavra + ' '\n",
    "\n",
    "print(Corrigido)\n",
    "\n"
   ]
  }
 ],
 "metadata": {
  "colab": {
   "collapsed_sections": [],
   "name": "IPCD Aula 01.ipynb",
   "provenance": []
  },
  "kernelspec": {
   "display_name": "Python 3",
   "name": "python3"
  }
 },
 "nbformat": 4,
 "nbformat_minor": 0
}
