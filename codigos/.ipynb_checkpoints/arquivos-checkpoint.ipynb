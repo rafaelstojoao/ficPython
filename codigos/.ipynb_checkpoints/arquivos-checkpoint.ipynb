{
 "cells": [
  {
   "cell_type": "markdown",
   "metadata": {},
   "source": [
    "# Introdução ao  Python com Ciência de Dados\n",
    "## Instituto Federal de Educação, Ciência e Tecnologia de São Paulo (IFSP) \n",
    "## Campus Birigui\n",
    "\n",
    "\n",
    "\n",
    "\n",
    "\n",
    "\n",
    "Professores:\n",
    "* Felipe Cavenaghi\n",
    "* Rafael Stoffalette João\n"
   ]
  },
  {
   "cell_type": "markdown",
   "metadata": {},
   "source": [
    "# Manipulação de arquivos de texto\n"
   ]
  },
  {
   "cell_type": "markdown",
   "metadata": {},
   "source": [
    "##  Para manipular o arquivo, temos que ter um arquivo? \n",
    "## deve ser armazenado na mesma pasta que o arquivo jupyter que contém esses códigos"
   ]
  },
  {
   "cell_type": "code",
   "execution_count": 110,
   "metadata": {
    "scrolled": false
   },
   "outputs": [
    {
     "data": {
      "text/plain": [
       "['bancoDeDados.ipynb',\n",
       " 'dados.txt',\n",
       " 'ficpythonpkg',\n",
       " 'meudb_aula01.db',\n",
       " 'dataset_todas_palavras_portugues.txt',\n",
       " 'rascunhos.ipynb',\n",
       " 'scriptARGS.py',\n",
       " 'IPCD_Aula_01.ipynb',\n",
       " '__pycache__',\n",
       " 'IPCD_Aula_02.ipynb',\n",
       " 'contas.py',\n",
       " 'arquivos.ipynb',\n",
       " 'calculadora.py',\n",
       " '.ipynb_checkpoints']"
      ]
     },
     "execution_count": 110,
     "metadata": {},
     "output_type": "execute_result"
    }
   ],
   "source": [
    "#os — Miscellaneous operating system interfaces\n",
    "from os import listdir\n",
    "\n",
    "listdir('./')"
   ]
  },
  {
   "cell_type": "markdown",
   "metadata": {},
   "source": [
    "# Para abrir um arquivo, utilizamos o comando open"
   ]
  },
  {
   "cell_type": "code",
   "execution_count": 30,
   "metadata": {},
   "outputs": [],
   "source": [
    "arquivo = open(\"dados.txt\", \"r+\")\n",
    "\n",
    "# \"r\" - Read/Leitura - Default value. Abre arquivo para leitura - Erro se o arquivo não existir\n",
    "\n",
    "# \"a\" - Append/Atualização - Abre o arquivo para inserção de conteúdo ao final. Cria o arquivo se não existir\n",
    "\n",
    "# \"w\" - Write/Escrita - Abre o arquivo para escrita. Cria o arquivo caso não exista\n",
    "\n",
    "# \"x\" - Create/Criação - Cria um arquivo. Retorna erro caso o arquivo já exista.\n",
    "\n",
    "\n",
    "\n",
    "# |          Mode          |  r   |  r+  |  w   |  w+  |  a   |  a+  |\n",
    "# | :--------------------: | :--: | :--: | :--: | :--: | :--: | :--: |\n",
    "# |          Read          |  +   |  +   |      |  +   |      |  +   |\n",
    "# |         Write          |      |  +   |  +   |  +   |  +   |  +   |\n",
    "# |         Create         |      |      |  +   |  +   |  +   |  +   |\n",
    "# |         Cover          |      |      |  +   |  +   |      |      |\n",
    "# | Point in the beginning |  +   |  +   |  +   |  +   |      |      |\n",
    "# |    Point in the end    |      |      |      |      |  +   |  +   |"
   ]
  },
  {
   "cell_type": "code",
   "execution_count": 31,
   "metadata": {},
   "outputs": [
    {
     "data": {
      "text/plain": [
       "'Linha 1\\nLinha 2'"
      ]
     },
     "execution_count": 31,
     "metadata": {},
     "output_type": "execute_result"
    }
   ],
   "source": [
    "# ler o conteúdo de um arquivo\n",
    "conteudo = arquivo.read()\n",
    "conteudo\n",
    "# type(conteudo)"
   ]
  },
  {
   "cell_type": "code",
   "execution_count": null,
   "metadata": {},
   "outputs": [],
   "source": []
  },
  {
   "cell_type": "code",
   "execution_count": 41,
   "metadata": {},
   "outputs": [
    {
     "name": "stdout",
     "output_type": "stream",
     "text": [
      "Linha 1\n",
      "\n"
     ]
    }
   ],
   "source": [
    "#ler uma linha do arquivo\n",
    "\n",
    "arquivo = open('dados.txt','r+')\n",
    "\n",
    "# print(arquivo.read(10))\n",
    "\n",
    "# print(arquivo.readline())\n"
   ]
  },
  {
   "cell_type": "code",
   "execution_count": 45,
   "metadata": {},
   "outputs": [
    {
     "name": "stdout",
     "output_type": "stream",
     "text": [
      "Linha 1\n",
      "\n",
      "Linha 2Conteúdo novo inserido Conteúdo novo inserido \n"
     ]
    }
   ],
   "source": [
    "# passar por todas as linhas do arquivo\n",
    "arquivo = open('dados.txt','r+')\n",
    "\n",
    "for linha in arquivo:\n",
    "    print(linha)"
   ]
  },
  {
   "cell_type": "code",
   "execution_count": 47,
   "metadata": {},
   "outputs": [
    {
     "name": "stdout",
     "output_type": "stream",
     "text": [
      "Linha 1\n",
      "\n",
      "Linha 2Conteúdo novo inserido Conteúdo novo inserido Conteúdo novo inserido Conteúdo novo inserido \n"
     ]
    }
   ],
   "source": [
    "#Para inserir conteúdo no arquivo\n",
    "\n",
    "arquivo.write(\"Conteúdo novo inserido \")\n",
    "arquivo.seek(0) #posicionamento do ponteiro novamente no início do arquivo\n",
    "\n",
    "for linha in arquivo:\n",
    "    print(linha)\n"
   ]
  },
  {
   "cell_type": "markdown",
   "metadata": {},
   "source": [
    "# MUITO IMPORTANTE\n",
    "## Precisamos fechar o arquivo após sua utilização"
   ]
  },
  {
   "cell_type": "code",
   "execution_count": null,
   "metadata": {},
   "outputs": [],
   "source": [
    "arquivo.close()"
   ]
  },
  {
   "cell_type": "code",
   "execution_count": null,
   "metadata": {},
   "outputs": [],
   "source": [
    "#with se encarrega de fechar o arquivo quando não o utilizamos mais \n",
    "novoconteudo = \"x\"\n",
    "\n",
    "with open('dados.txt', \"r+\") as arq:\n",
    "    conteudo = arq.readlines()\n",
    "    tamanhoArquivo = len(conteudo)\n",
    "    print(tamanhoArquivo)\n"
   ]
  },
  {
   "cell_type": "code",
   "execution_count": null,
   "metadata": {},
   "outputs": [],
   "source": []
  }
 ],
 "metadata": {
  "kernelspec": {
   "display_name": "Python 3",
   "language": "python",
   "name": "python3"
  },
  "language_info": {
   "codemirror_mode": {
    "name": "ipython",
    "version": 3
   },
   "file_extension": ".py",
   "mimetype": "text/x-python",
   "name": "python",
   "nbconvert_exporter": "python",
   "pygments_lexer": "ipython3",
   "version": "3.7.3"
  }
 },
 "nbformat": 4,
 "nbformat_minor": 4
}
