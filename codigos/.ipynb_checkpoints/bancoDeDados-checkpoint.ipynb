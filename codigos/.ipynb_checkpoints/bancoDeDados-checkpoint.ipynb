{
 "cells": [
  {
   "cell_type": "markdown",
   "metadata": {},
   "source": [
    "# Introdução ao  Python com Ciência de Dados\n",
    "## Instituto Federal de Educação, Ciência e Tecnologia de São Paulo (IFSP) \n",
    "## Campus Birigui\n",
    "\n",
    "\n",
    "\n",
    "\n",
    "\n",
    "\n",
    "Professores:\n",
    "* Felipe Cavenaghi\n",
    "* Rafael Stoffalette João\n"
   ]
  },
  {
   "cell_type": "markdown",
   "metadata": {},
   "source": [
    "# Conexão com bancos de dados\n",
    "## sqlite é a forma mais rápida e fácil de lidar com a persistência de dados\n",
    "\n",
    "\n",
    "### https://www.tutorialspoint.com/sqlite/sqlite_installation.htm\n",
    "### https://www.sqlite.org/download.html\n",
    "    "
   ]
  },
  {
   "cell_type": "code",
   "execution_count": 1,
   "metadata": {},
   "outputs": [],
   "source": [
    "#precisamos da biblioteca sqlite3\n",
    "import sqlite3\n",
    "conexao = sqlite3.connect('meudb_aula01.db')"
   ]
  },
  {
   "cell_type": "code",
   "execution_count": 3,
   "metadata": {},
   "outputs": [],
   "source": [
    "#por meio de uma conexão com o bd, podemos criar um cursor \n",
    "#estrutura de controle que permite anvegar pelos registros em um banco de dados. \n",
    "cur = conexao.cursor()\n"
   ]
  },
  {
   "cell_type": "code",
   "execution_count": 4,
   "metadata": {},
   "outputs": [
    {
     "data": {
      "text/plain": [
       "<sqlite3.Cursor at 0x7f36b14b5ce0>"
      ]
     },
     "execution_count": 4,
     "metadata": {},
     "output_type": "execute_result"
    }
   ],
   "source": [
    "#criar uma tabela é simplesmente executar um comando CREATE TABLE...\n",
    "cur.execute(\"CREATE TABLE aulas (data text, assunto text, totAlunos int)\")\n",
    "\n"
   ]
  },
  {
   "cell_type": "code",
   "execution_count": 5,
   "metadata": {},
   "outputs": [
    {
     "name": "stdout",
     "output_type": "stream",
     "text": [
      "('2020-29-10', 'Introdução ao Python', 20)\n"
     ]
    }
   ],
   "source": [
    "# O comando execute (método) também é responsável por \n",
    "#Inserir conteúdo no banco de dados\n",
    "\n",
    "cur.execute(\"INSERT INTO aulas VALUES ('2020-29-10','Introdução ao Python','20')\")\n",
    "\n",
    "\n",
    "\n",
    "\n",
    "#para efetivar a alteração, devemos utilizar o comando commit\n",
    "conexao.commit()\n",
    "\n",
    "\n",
    "resultado = cur.execute(\"SELECT * FROM aulas WHERE 1 ORDER BY data ASC\")\n",
    "\n",
    "for registro in resultado:\n",
    "    print(registro)\n"
   ]
  },
  {
   "cell_type": "code",
   "execution_count": 47,
   "metadata": {},
   "outputs": [],
   "source": []
  },
  {
   "cell_type": "code",
   "execution_count": 6,
   "metadata": {},
   "outputs": [
    {
     "data": {
      "text/plain": [
       "<sqlite3.Cursor at 0x7f36b14b5ce0>"
      ]
     },
     "execution_count": 6,
     "metadata": {},
     "output_type": "execute_result"
    }
   ],
   "source": [
    "#para alterar uma tabela existente...\n",
    "\n",
    "cur.execute(\"ALTER TABLE aulas ADD COLUMN local varchar(50)\")"
   ]
  },
  {
   "cell_type": "code",
   "execution_count": 7,
   "metadata": {},
   "outputs": [
    {
     "name": "stdout",
     "output_type": "stream",
     "text": [
      "('2020-29-10', 'Introdução ao Python', 20, None)\n"
     ]
    }
   ],
   "source": [
    "resultado = cur.execute(\"SELECT * FROM aulas WHERE 1 ORDER BY data ASC\")\n",
    "\n",
    "for registro in resultado:\n",
    "    print(registro)"
   ]
  },
  {
   "cell_type": "code",
   "execution_count": 8,
   "metadata": {},
   "outputs": [],
   "source": [
    "#para alterar o conteúdo de um registro em uma tabela ...\n",
    "cur.execute(\"Update aulas set local = 'remoto' where data = '2020-30-10'\")\n",
    "conexao.commit()"
   ]
  },
  {
   "cell_type": "code",
   "execution_count": 9,
   "metadata": {},
   "outputs": [
    {
     "name": "stdout",
     "output_type": "stream",
     "text": [
      "('2020-29-10', 'Introdução ao Python', 20, None)\n"
     ]
    }
   ],
   "source": [
    "\n",
    "#resultado\n",
    "resultado = cur.execute(\"SELECT * FROM aulas WHERE 1 ORDER BY data ASC\")\n",
    "\n",
    "for registro in resultado:\n",
    "    print(registro)"
   ]
  },
  {
   "cell_type": "code",
   "execution_count": 10,
   "metadata": {},
   "outputs": [],
   "source": [
    "conexao.close() \n",
    "#Fecha essa conexão ativa "
   ]
  }
 ],
 "metadata": {
  "kernelspec": {
   "display_name": "Python 3",
   "language": "python",
   "name": "python3"
  },
  "language_info": {
   "codemirror_mode": {
    "name": "ipython",
    "version": 3
   },
   "file_extension": ".py",
   "mimetype": "text/x-python",
   "name": "python",
   "nbconvert_exporter": "python",
   "pygments_lexer": "ipython3",
   "version": "3.7.3"
  }
 },
 "nbformat": 4,
 "nbformat_minor": 4
}
