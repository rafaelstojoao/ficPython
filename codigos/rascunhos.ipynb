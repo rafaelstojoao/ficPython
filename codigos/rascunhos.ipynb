{
 "cells": [
  {
   "cell_type": "code",
   "execution_count": 17,
   "metadata": {},
   "outputs": [
    {
     "name": "stdout",
     "output_type": "stream",
     "text": [
      "{'ão': 'pão', 'po': 'pão', 'pã': 'pão', 'e': 'de', 'd': 'de', 'ueijo': 'queijo', 'qeijo': 'queijo', 'quijo': 'queijo', 'quejo': 'queijo', 'queio': 'queijo', 'queij': 'queijo', 'asa': 'casa', 'csa': 'casa', 'caa': 'casa', 'cas': 'casa', 'rem': 'trem', 'tem': 'trem', 'trm': 'trem', 'tre': 'trem', 'om': 'bom', 'bm': 'bom', 'bo': 'bom'}\n"
     ]
    },
    {
     "data": {
      "text/plain": [
       "'pão de queijo é um trem bom'"
      ]
     },
     "execution_count": 17,
     "metadata": {},
     "output_type": "execute_result"
    }
   ],
   "source": [
    "# Cria dicionário para correção\n",
    "\n",
    "\n",
    "listaDePalavras = ['pão', 'de', 'queijo', 'casa', 'trem', 'bom']\n",
    "\n",
    "def criaDicionario(listaDePalavras):\n",
    "    Corretor = {}\n",
    "    for palavra in listaDePalavras:\n",
    "        Termo = {palavra[0:x] + palavra[x+1:len(palavra)]:palavra for x in range(0, len(palavra))}\n",
    "        for chave in Termo:\n",
    "            Corretor[chave] = Termo[chave] # Incluir correção para a variação da palavra pão  \n",
    "    return Corretor\n",
    "\n",
    "\n",
    "\n",
    "Corretor = criaDicionario(listaDePalavras)\n",
    "\n",
    "def consultaFrase(Corretor,frase):\n",
    "    #Consultando o corretor\n",
    "    cont = 0\n",
    "    for palavra in frase:\n",
    "        if palavra in Corretor:\n",
    "            frase[cont] = Corretor[palavra]\n",
    "        cont += 1 \n",
    "  \n",
    "\n",
    "    corrigido = ' '.join(frase)\n",
    "    return(corrigido)\n",
    "\n",
    "\n",
    "\n",
    "for chave in Termo:\n",
    "  Corretor[chave] = Termo[chave]\n",
    "\n",
    "print(Corretor)\n",
    "\n",
    "consultaFrase(Corretor,frase = \"pão de quijo é um trem bm\".split(' '))"
   ]
  },
  {
   "cell_type": "code",
   "execution_count": null,
   "metadata": {},
   "outputs": [],
   "source": []
  }
 ],
 "metadata": {
  "kernelspec": {
   "display_name": "Python 3",
   "language": "python",
   "name": "python3"
  },
  "language_info": {
   "codemirror_mode": {
    "name": "ipython",
    "version": 3
   },
   "file_extension": ".py",
   "mimetype": "text/x-python",
   "name": "python",
   "nbconvert_exporter": "python",
   "pygments_lexer": "ipython3",
   "version": "3.7.3"
  }
 },
 "nbformat": 4,
 "nbformat_minor": 4
}
