{
 "cells": [
  {
   "cell_type": "markdown",
   "metadata": {
    "id": "dgqyFQd5WLTm"
   },
   "source": [
    "# Introdução ao  Python com Ciência de Dados\n",
    "\n",
    "Professores:\n",
    "* Felipe Cavenaghi\n",
    "* Rafael Stoffalette João\n",
    "\n",
    "## Ementa\n",
    "1. Python: \n",
    "  * Ambiente de Programação\n",
    "  * tipos de dados, sequências e operações, estruturas de controle e repetição\n",
    "  * Python: referências, funções, funções avançadas e comprehention\n",
    "  * Python: I/O e noções básicas de classes e objetos\n",
    "2. Numpy: \n",
    "   * array, slicing, fancy index, copy e view\n",
    "   * operações com array, broadcasting\n",
    "3. Pandas: \n",
    "   * dataframes, series, index, Pandas I/O (csv, json, excell)\n",
    "   * limpeza de dados\n",
    "4. Matplotlib:  construção de gráficos\n",
    "5. Introdução ao aprendizado de máquina\n",
    "6. Introdução ao processamento de linguagem Natural com NLTK"
   ]
  },
  {
   "cell_type": "markdown",
   "metadata": {
    "id": "ZihgwGfCf0NU"
   },
   "source": [
    "# Aula 02: Introdução ao Python (cont.)\n"
   ]
  },
  {
   "cell_type": "markdown",
   "metadata": {
    "id": "5ZQPZtp6Zgd9"
   },
   "source": [
    "* Classes\n",
    "* Módulos\n",
    "* Pacotes\n",
    "* Versionamento (Git)\n",
    "- pypi"
   ]
  },
  {
   "cell_type": "markdown",
   "metadata": {},
   "source": [
    "\n",
    "# Você sabe a diferença entre script e código em shell python?\n",
    "\n",
    "      ## Um código em shell não perdura após o encerramento do shell\n",
    " \n",
    "     ## Um script nada mais é que um arquivo que armazena os códigos (persistência)"
   ]
  },
  {
   "cell_type": "markdown",
   "metadata": {
    "id": "P3UJ86VdaVRu"
   },
   "source": [
    "## Classes\n",
    "\n",
    "Uma classe é uma representação computacional de um (ou conjunto de) ator(es) na vida real... OI???\n",
    "\n",
    "\n",
    "Classes proporcionam uma forma de organizar dados e funcionalidades juntos. \n",
    "\n",
    "\n",
    "Quando queremos manipular um conjunto de objetos (coisas) semelhantes, nós podemos pensar em criar uma classe de objetos que reúne informações para descrever TODOS os objetos semelhantes"
   ]
  },
  {
   "cell_type": "code",
   "execution_count": 38,
   "metadata": {
    "id": "dlq-B5XyaNvu"
   },
   "outputs": [],
   "source": [
    "# * em vez de ficar fazendo:\n",
    "# cachorro1_nome =\n",
    "# cachorro1_peso =\n",
    "# cachorro1_nascimento = \n",
    "\n",
    "# cachorro2_nome =\n",
    "# cachorro2_peso =\n",
    "# cachorro2_nascimento = \n",
    "\n",
    "# cachorro3_nome =\n",
    "# cachorro3_peso =\n",
    "# cachorro3_nascimento = \n",
    "\n",
    "\n",
    "# Para criar uma classe, basta apenas utilizar a palavra 'class'\n",
    "class Cachorro:\n",
    "    nome = \"\"\n",
    "    peso = 0.0\n",
    "    nascimento = \"\"\n",
    " \n",
    "# as características que descrevem um indivíduo dessa classe são as propriedades\n",
    "\n"
   ]
  },
  {
   "cell_type": "code",
   "execution_count": 10,
   "metadata": {
    "id": "AO4yvLyM7jl5",
    "outputId": "5cb7960d-7e02-4c51-e87e-1871c45a53bf"
   },
   "outputs": [
    {
     "data": {
      "text/plain": [
       "'Pankeka'"
      ]
     },
     "execution_count": 10,
     "metadata": {},
     "output_type": "execute_result"
    }
   ],
   "source": [
    "# Representar um ator/elemento do tipo da classe é referenciado como \"instanciar\"\n",
    "\n",
    "meudog = Cachorro()\n",
    "meudog.nome = \"Pankeka\"\n",
    "meudog.peso = 35.4\n",
    "meudog.nascimento = \"15/07/2014\"\n",
    "\n",
    "meudog.nome"
   ]
  },
  {
   "cell_type": "code",
   "execution_count": 3,
   "metadata": {
    "id": "J0pTc-oH7jl_",
    "outputId": "e92680ad-2ef0-4e92-cf13-b433c2837af7"
   },
   "outputs": [
    {
     "data": {
      "text/plain": [
       "'au au'"
      ]
     },
     "execution_count": 3,
     "metadata": {},
     "output_type": "execute_result"
    }
   ],
   "source": [
    "# e as ações são os métodos\n",
    "\n",
    "class Cachorro:\n",
    "    nome = \"\"\n",
    "    peso = 0.0\n",
    "    nascimento = \"\"\n",
    "    \n",
    "    def latir(self): #o que é esse self?]\n",
    "        return \"au au\"\n",
    "\n",
    "    \n",
    "meudog = Cachorro()\n",
    "meudog.latir()\n",
    "\n",
    "#  Em Python o objeto da instância é passado como o primeiro argumento da função.\n",
    "# é Como se estivessemos chamando Cachorro.latir(meudog)\n",
    "\n",
    "Cachorro.latir(meudog)\n"
   ]
  },
  {
   "cell_type": "code",
   "execution_count": null,
   "metadata": {
    "id": "EXVSdxBZ7jmD",
    "outputId": "eab63973-340d-4583-9195-c85a172c5691"
   },
   "outputs": [
    {
     "data": {
      "text/plain": [
       "mappingproxy({'__module__': '__main__',\n",
       "              'nome': '',\n",
       "              'peso': 0.0,\n",
       "              'nascimento': '',\n",
       "              'latir': <function __main__.Cachorro.latir(self)>,\n",
       "              '__dict__': <attribute '__dict__' of 'Cachorro' objects>,\n",
       "              '__weakref__': <attribute '__weakref__' of 'Cachorro' objects>,\n",
       "              '__doc__': None})"
      ]
     },
     "execution_count": 27,
     "metadata": {
      "tags": []
     },
     "output_type": "execute_result"
    }
   ],
   "source": [
    "#para inspecionar tudo que uma classe tem, utilize o comando vars(CLASSE_NOME)\n",
    "\n",
    "vars(Cachorro)\n"
   ]
  },
  {
   "cell_type": "code",
   "execution_count": 4,
   "metadata": {
    "id": "Q4pBtVOf7jmJ",
    "outputId": "1b42211d-dd6a-447b-ac69-c2bf4a4f2d1c"
   },
   "outputs": [
    {
     "data": {
      "text/plain": [
       "False"
      ]
     },
     "execution_count": 4,
     "metadata": {},
     "output_type": "execute_result"
    }
   ],
   "source": [
    "#Ok,  posso então \"instanciar\" quantos cachorros eu queira... Cada um com suas propriedades\n",
    "dogDoFelipe = Cachorro()\n",
    "dogDoFelipe.nome = \"Crovs\"\n",
    "dogDoFelipe.peso = 13.1\n",
    "dogDoFelipe.nascimento = \"11/12/2019\"\n",
    "\n",
    "meudog.nome == dogDoFelipe.nome  # nossos cachorros tem nomes iguais?"
   ]
  },
  {
   "cell_type": "code",
   "execution_count": 15,
   "metadata": {
    "id": "A894KhP67jmO",
    "outputId": "4bf13933-fc96-492d-e948-cca15d4c6cca"
   },
   "outputs": [
    {
     "data": {
      "text/plain": [
       "'cachorro sem nome'"
      ]
     },
     "execution_count": 15,
     "metadata": {},
     "output_type": "execute_result"
    }
   ],
   "source": [
    "# A operação de instanciação (“invocar” um objeto classe) cria um objeto vazio. \n",
    "# Muitas classes preferem criar novos objetos com um estado inicial predeterminado. \n",
    "# Para tanto, a classe pode definir um método especial chamado __init__(), assim:\n",
    "\n",
    "\n",
    "#chamado de método construtor da classe\n",
    "\n",
    "class Cachorro:\n",
    "\n",
    "    \n",
    "    def __init__(self):\n",
    "        self.nome = \"cachorro sem nome\"\n",
    "        self.peso = 0.0\n",
    "        self.nascimento  = \"ainda não definido\"\n",
    "        #self indica que essas variáveis são de dentro do objeto (escopo de variáveis)\n",
    "    \n",
    "    def latir(self):\n",
    "        return \"au au\"\n",
    "\n",
    "\n",
    "d = Cachorro()\n",
    "d.nome"
   ]
  },
  {
   "cell_type": "code",
   "execution_count": 18,
   "metadata": {
    "id": "QUSXODAk7jmS",
    "outputId": "514d3927-644a-455e-a442-289f1162f783"
   },
   "outputs": [
    {
     "ename": "NameError",
     "evalue": "name 'peso' is not defined",
     "output_type": "error",
     "traceback": [
      "\u001b[0;31m---------------------------------------------------------------------------\u001b[0m",
      "\u001b[0;31mNameError\u001b[0m                                 Traceback (most recent call last)",
      "\u001b[0;32m<ipython-input-18-ec7d86f8587f>\u001b[0m in \u001b[0;36m<module>\u001b[0;34m\u001b[0m\n\u001b[1;32m     22\u001b[0m \u001b[0mc\u001b[0m \u001b[0;34m=\u001b[0m \u001b[0mCachorro\u001b[0m\u001b[0;34m(\u001b[0m\u001b[0;34m)\u001b[0m\u001b[0;34m\u001b[0m\u001b[0;34m\u001b[0m\u001b[0m\n\u001b[1;32m     23\u001b[0m \u001b[0mc\u001b[0m\u001b[0;34m.\u001b[0m\u001b[0mpeso\u001b[0m \u001b[0;34m=\u001b[0m \u001b[0;36m5.0\u001b[0m\u001b[0;34m\u001b[0m\u001b[0;34m\u001b[0m\u001b[0m\n\u001b[0;32m---> 24\u001b[0;31m \u001b[0mc\u001b[0m\u001b[0;34m.\u001b[0m\u001b[0mcorrer\u001b[0m\u001b[0;34m(\u001b[0m\u001b[0;34m)\u001b[0m\u001b[0;34m\u001b[0m\u001b[0;34m\u001b[0m\u001b[0m\n\u001b[0m",
      "\u001b[0;32m<ipython-input-18-ec7d86f8587f>\u001b[0m in \u001b[0;36mcorrer\u001b[0;34m(self)\u001b[0m\n\u001b[1;32m     10\u001b[0m \u001b[0;34m\u001b[0m\u001b[0m\n\u001b[1;32m     11\u001b[0m     \u001b[0;32mdef\u001b[0m \u001b[0mcorrer\u001b[0m\u001b[0;34m(\u001b[0m\u001b[0mself\u001b[0m\u001b[0;34m)\u001b[0m\u001b[0;34m:\u001b[0m\u001b[0;34m\u001b[0m\u001b[0;34m\u001b[0m\u001b[0m\n\u001b[0;32m---> 12\u001b[0;31m         \u001b[0;32mreturn\u001b[0m \u001b[0;36m1\u001b[0m\u001b[0;34m/\u001b[0m\u001b[0mpeso\u001b[0m \u001b[0;31m#mas de onde vem esse peso?\u001b[0m\u001b[0;34m\u001b[0m\u001b[0;34m\u001b[0m\u001b[0m\n\u001b[0m\u001b[1;32m     13\u001b[0m \u001b[0;31m#         return 1/self.peso #mas de onde vem esse peso?\u001b[0m\u001b[0;34m\u001b[0m\u001b[0;34m\u001b[0m\u001b[0;34m\u001b[0m\u001b[0m\n\u001b[1;32m     14\u001b[0m \u001b[0;34m\u001b[0m\u001b[0m\n",
      "\u001b[0;31mNameError\u001b[0m: name 'peso' is not defined"
     ]
    }
   ],
   "source": [
    "class Cachorro:\n",
    "\n",
    "    \n",
    "    def __init__(self):\n",
    "        self.nome = \"cachorro sem nome\"\n",
    "        self.peso = 0.0\n",
    "        self.nascimento  = \"ainda não definido\"\n",
    "        #self indica que essas variáveis são de dentro do objeto (escopo de variáveis)\n",
    "\n",
    "\n",
    "    def correr(self):\n",
    "        return 1/peso #mas de onde vem esse peso?\n",
    "#         return 1/self.peso #mas de onde vem esse peso?\n",
    "\n",
    "    \n",
    "    def latir(self):\n",
    "        if self.peso >= 15.0:\n",
    "            return 'ruf ruf'\n",
    "        else:\n",
    "            return \"au au\"\n",
    "\n",
    "c = Cachorro()\n",
    "c.peso = 5.0\n",
    "c.correr()"
   ]
  },
  {
   "cell_type": "code",
   "execution_count": null,
   "metadata": {
    "id": "KyNyQXIE7jma",
    "outputId": "14238dca-5671-4da9-dabb-35e40b272b9f"
   },
   "outputs": [
    {
     "data": {
      "text/plain": [
       "'Brutos'"
      ]
     },
     "execution_count": 71,
     "metadata": {
      "tags": []
     },
     "output_type": "execute_result"
    }
   ],
   "source": [
    "# O construtor não precisa ser vazio/padrão...\n",
    "\n",
    "class Cachorro:\n",
    "\n",
    "    \n",
    "    def __init__(self,nome,peso,nascimento):\n",
    "        self.nome = nome\n",
    "        self.peso = peso\n",
    "        self.nascimento  = nascimento\n",
    "    \n",
    "    def latir(self):\n",
    "        if self.peso >= 15.0:\n",
    "            return 'ruf ruf'\n",
    "        else:\n",
    "            return \"au au\"\n",
    "\n",
    "d = Cachorro(\"Brutos\",14.5,\"20/10/2001\") # Entretanto é preciso sempre passar um valor para o construtor\n",
    "d.nome"
   ]
  },
  {
   "cell_type": "code",
   "execution_count": 27,
   "metadata": {
    "id": "VUTcf5327jmd",
    "outputId": "e3d99fa0-ed43-4f99-c5e2-5f0c30b57721"
   },
   "outputs": [
    {
     "ename": "AttributeError",
     "evalue": "type object 'Cachorro' has no attribute 'nome'",
     "output_type": "error",
     "traceback": [
      "\u001b[0;31m---------------------------------------------------------------------------\u001b[0m",
      "\u001b[0;31mAttributeError\u001b[0m                            Traceback (most recent call last)",
      "\u001b[0;32m<ipython-input-27-61f01bd17b41>\u001b[0m in \u001b[0;36m<module>\u001b[0;34m\u001b[0m\n\u001b[1;32m     25\u001b[0m \u001b[0mmeudog\u001b[0m\u001b[0;34m.\u001b[0m\u001b[0mtipo\u001b[0m \u001b[0;34m==\u001b[0m \u001b[0mCachorro\u001b[0m\u001b[0;34m.\u001b[0m\u001b[0mtipo\u001b[0m\u001b[0;34m\u001b[0m\u001b[0;34m\u001b[0m\u001b[0m\n\u001b[1;32m     26\u001b[0m \u001b[0;34m\u001b[0m\u001b[0m\n\u001b[0;32m---> 27\u001b[0;31m \u001b[0mCachorro\u001b[0m\u001b[0;34m.\u001b[0m\u001b[0mnome\u001b[0m \u001b[0;31m#Não existe um nome para a classe, mas sim para cada instância da classe\u001b[0m\u001b[0;34m\u001b[0m\u001b[0;34m\u001b[0m\u001b[0m\n\u001b[0m",
      "\u001b[0;31mAttributeError\u001b[0m: type object 'Cachorro' has no attribute 'nome'"
     ]
    }
   ],
   "source": [
    "#atributos de classe/instância\n",
    "class Cachorro:\n",
    "\n",
    "    tipo = \"mamífero\" #isso é um atributo de classe\n",
    " \n",
    "    def __init__(self,nome,peso,nascimento):\n",
    "        self.nome = nome\n",
    "        self.peso = peso\n",
    "        self.nascimento  = nascimento\n",
    "        #o self indica que o atributo pertence somente à instância\n",
    "    \n",
    "    \n",
    "    def latir(self):\n",
    "        if self.peso >= 15.0:\n",
    "            return 'ruf ruf'\n",
    "        else:\n",
    "            return \"au au\"\n",
    "\n",
    "    \n",
    "    \n",
    "meudog = Cachorro(\"Pankeka\",34.5,\"20/10/2017\")\n",
    "# meudog.tipo = \"estranho\"\n",
    "# meudog.tipo\n",
    "\n",
    "meudog.tipo == Cachorro.tipo\n",
    "\n",
    "Cachorro.nome #Não existe um nome para a classe, mas sim para cada instância da classe"
   ]
  },
  {
   "cell_type": "code",
   "execution_count": 28,
   "metadata": {
    "id": "8TPSmxGS7jmi",
    "outputId": "a602a440-7a56-4755-9449-5a47a5b72480"
   },
   "outputs": [
    {
     "data": {
      "text/plain": [
       "['romance', 'auto ajuda']"
      ]
     },
     "execution_count": 28,
     "metadata": {},
     "output_type": "execute_result"
    }
   ],
   "source": [
    "class Livros:\n",
    "    classificacao = [] #Variáveis de classe devem ser utilizadas com muito cuidado!!!!\n",
    "    \n",
    "    def __init__(self,titulo):\n",
    "        self.titulo = titulo\n",
    "        \n",
    "        \n",
    "a = Livros(\"Dom Casmurro\")\n",
    "a.classificacao.append(\"romance\")\n",
    "\n",
    "b = Livros(\"Quem mexeu no meu queijo\")\n",
    "b.classificacao.append('auto ajuda')\n",
    "\n",
    "b.classificacao"
   ]
  },
  {
   "cell_type": "code",
   "execution_count": 33,
   "metadata": {
    "id": "0tL_jYl-7jmm",
    "outputId": "929b9fb7-61dc-4534-ff98-e2c65277b0af"
   },
   "outputs": [
    {
     "data": {
      "text/plain": [
       "'Livros'"
      ]
     },
     "execution_count": 33,
     "metadata": {},
     "output_type": "execute_result"
    }
   ],
   "source": [
    "# Na dúvida, um objeto pode ser consultado quanto à qual classe pertence pelo atributo __class__.__name__\n",
    "\n",
    "b.__class__.__name__"
   ]
  },
  {
   "cell_type": "code",
   "execution_count": 35,
   "metadata": {
    "id": "Jl0xtBEX7jms"
   },
   "outputs": [],
   "source": [
    "#Atributos privados\n",
    "# ........"
   ]
  },
  {
   "cell_type": "markdown",
   "metadata": {},
   "source": [
    "## O método if _ _name_ _ == '_ _main_ _':"
   ]
  },
  {
   "cell_type": "code",
   "execution_count": 37,
   "metadata": {},
   "outputs": [
    {
     "name": "stdout",
     "output_type": "stream",
     "text": [
      "estou executando a classe Livros.. Entenderemos melhor mais adiante\n"
     ]
    }
   ],
   "source": [
    "class Livros:\n",
    "    classificacao = [] #Variáveis de classe devem ser utilizadas com muito cuidado!!!!\n",
    "    \n",
    "    def __init__(self,titulo):\n",
    "        self.titulo = titulo\n",
    "        \n",
    "\n",
    "if __name__ == '__main__':\n",
    "    print(\"estou executando a classe Livros.. Entenderemos melhor mais a frente\")\n",
    "    "
   ]
  },
  {
   "cell_type": "markdown",
   "metadata": {
    "id": "o1QDZL-GqmMD"
   },
   "source": [
    "## Agora que sabemos construir uma classe, podemos deixar essa classe disponível para qualquer outro script que faça parte do nosso sistema.  \n",
    "\n",
    "# Módulos em Python"
   ]
  },
  {
   "cell_type": "markdown",
   "metadata": {
    "id": "s1Gg_ktqoLdP",
    "outputId": "37a8eb1a-54a1-464e-cb44-e7f992e52761"
   },
   "source": [
    "*  um código python é perdido ao sair do ambiente de desenvolvimento (interpretador)\n",
    "para que um código persista é preciso criar um arquivo e salvar o código - isso se chama script\n",
    "\n",
    "* vamos criar um código de contas e colocar em um arquivo chamado contas.py\n",
    "\n",
    "\n",
    "#  Esse é um módulo que faz contas\n",
    "\n",
    "\n",
    " def soma(a,b): \\\n",
    " \treturn a+b\n",
    "\n",
    " def subtrai(a,b): \\\n",
    " \treturn a-b\n",
    "\n",
    " def multiplica(a,b): \\\n",
    " \treturn a*b\n",
    "\n",
    " def divide(a,b): \\\n",
    " \treturn a/b\n",
    "\n",
    " def potencia(a,b): \\\n",
    " \treturn a**b\n"
   ]
  },
  {
   "cell_type": "markdown",
   "metadata": {
    "id": "WEqBcIksa45-",
    "outputId": "f850fa04-f694-47af-f9db-76a641701627"
   },
   "source": [
    " Aqui, nosso módulo deve estar no mesmo diretório dos demais scripts \n",
    "\n",
    "* é preferível usar um arquivo separado para uma função que você escreveria em vários programas diferentes, \n",
    "* para não copiar a definição de função em cada um deles."
   ]
  },
  {
   "cell_type": "code",
   "execution_count": 8,
   "metadata": {
    "colab": {
     "base_uri": "https://localhost:8080/"
    },
    "id": "FUtbfeYlcxsm",
    "outputId": "1b02497a-9663-4467-91fa-0a3014fc7539"
   },
   "outputs": [
    {
     "data": {
      "text/plain": [
       "'contas'"
      ]
     },
     "execution_count": 8,
     "metadata": {},
     "output_type": "execute_result"
    }
   ],
   "source": [
    "# Para importar um módulo, basta utilizar o comando import\n",
    "\n",
    "import contas\n",
    "\n",
    "\n",
    "# o nome do módulo (como uma string) está disponível como o valor da variável global __name__   \n",
    "contas.__name__\n",
    "\n",
    "\n"
   ]
  },
  {
   "cell_type": "code",
   "execution_count": 9,
   "metadata": {
    "id": "FcaqKzMv7jm1",
    "outputId": "39e73091-aac8-42be-84e2-b443ddf1938b"
   },
   "outputs": [
    {
     "data": {
      "text/plain": [
       "16"
      ]
     },
     "execution_count": 9,
     "metadata": {},
     "output_type": "execute_result"
    }
   ],
   "source": [
    "#Para acessar uma função (método) do nosso módulo, basta usar a mesma estratégia dos métodos de uma classe\n",
    "\n",
    "# contas.soma(3,4) \n",
    "contas.potencia(2,4)"
   ]
  },
  {
   "cell_type": "code",
   "execution_count": 11,
   "metadata": {
    "id": "gxJsBneJ7jm4",
    "outputId": "3d138f1f-26f1-4040-b35b-6be5d856ea26"
   },
   "outputs": [
    {
     "data": {
      "text/plain": [
       "['__builtins__',\n",
       " '__cached__',\n",
       " '__doc__',\n",
       " '__file__',\n",
       " '__loader__',\n",
       " '__name__',\n",
       " '__package__',\n",
       " '__spec__',\n",
       " 'divide',\n",
       " 'multiplica',\n",
       " 'potencia',\n",
       " 'soma',\n",
       " 'subtrai']"
      ]
     },
     "execution_count": 11,
     "metadata": {},
     "output_type": "execute_result"
    }
   ],
   "source": [
    "# A função embutida __dir()__\n",
    "\n",
    "dir(contas) # dir mostra o namespace dos objetos\n",
    "# Sem argumentos, devolve a lista de nomes no escopo local atual\n",
    "# quais nomes são definidos por um módulo. Ela devolve uma lista ordenada de strings:"
   ]
  },
  {
   "cell_type": "code",
   "execution_count": 6,
   "metadata": {},
   "outputs": [
    {
     "data": {
      "text/plain": [
       "['Decimal',\n",
       " 'Fraction',\n",
       " 'StatisticsError',\n",
       " '__all__',\n",
       " '__builtins__',\n",
       " '__cached__',\n",
       " '__doc__',\n",
       " '__file__',\n",
       " '__loader__',\n",
       " '__name__',\n",
       " '__package__',\n",
       " '__spec__',\n",
       " '_coerce',\n",
       " '_convert',\n",
       " '_counts',\n",
       " '_exact_ratio',\n",
       " '_fail_neg',\n",
       " '_find_lteq',\n",
       " '_find_rteq',\n",
       " '_isfinite',\n",
       " '_ss',\n",
       " '_sum',\n",
       " 'bisect_left',\n",
       " 'bisect_right',\n",
       " 'collections',\n",
       " 'groupby',\n",
       " 'harmonic_mean',\n",
       " 'math',\n",
       " 'mean',\n",
       " 'median',\n",
       " 'median_grouped',\n",
       " 'median_high',\n",
       " 'median_low',\n",
       " 'mode',\n",
       " 'numbers',\n",
       " 'pstdev',\n",
       " 'pvariance',\n",
       " 'stdev',\n",
       " 'variance']"
      ]
     },
     "execution_count": 6,
     "metadata": {},
     "output_type": "execute_result"
    }
   ],
   "source": [
    "#DICA: Sempre que tiver dúvida sobre o que um módulo pode te oferecer, utilize a __dir()__\n",
    "\n",
    "import statistics\n",
    "dir(statistics)"
   ]
  },
  {
   "cell_type": "markdown",
   "metadata": {
    "id": "ZpJ7BQn47jm8"
   },
   "source": [
    "\n",
    "#  Vamos, então, construir uma classe que ficará disponível para qualquer script que queira utilizar.\n",
    "\n",
    "## a classe será uma calculadora"
   ]
  },
  {
   "cell_type": "code",
   "execution_count": null,
   "metadata": {
    "id": "d6w2wUCfrcVV",
    "outputId": "16301fad-5788-456c-a38e-16502e74891e"
   },
   "outputs": [
    {
     "data": {
      "text/plain": [
       "7"
      ]
     },
     "execution_count": 41,
     "metadata": {
      "tags": []
     },
     "output_type": "execute_result"
    }
   ],
   "source": [
    "class Calculadora:\n",
    "    \n",
    "    def __init__(self):\n",
    "        res = 0.0\n",
    "        \n",
    "    def soma(self,a,b):\n",
    "        return a + b\n",
    "    \n",
    "    def subtracao(self,a,b):\n",
    "        return a - b\n",
    "    \n",
    "    def multiplica(self,a,b):\n",
    "        return a*b\n",
    "\n",
    "    def divide(self,a,b):\n",
    "        return a/b\n",
    "\n",
    "    def potencia(self,a,b):\n",
    "        return a**b\n",
    "    \n"
   ]
  },
  {
   "cell_type": "code",
   "execution_count": null,
   "metadata": {
    "id": "fVZxgLD17jm_",
    "outputId": "6dfaf70a-f83c-4da7-a16e-65e314b299a1"
   },
   "outputs": [
    {
     "data": {
      "text/plain": [
       "44"
      ]
     },
     "execution_count": 6,
     "metadata": {
      "tags": []
     },
     "output_type": "execute_result"
    }
   ],
   "source": [
    "import calculadora #aqui estamos importando o módulo (arquivo calculadora), mas não especificamos o que vamos usar\n",
    "\n",
    "c1 = calculadora.Calculadora()\n",
    "c1.soma(3,41)"
   ]
  },
  {
   "cell_type": "code",
   "execution_count": 2,
   "metadata": {
    "id": "G6c_pC_p7jnC",
    "outputId": "3f3cd148-b2c4-4f3c-b9a3-365793f613d7"
   },
   "outputs": [
    {
     "ename": "NameError",
     "evalue": "name 'Impressora' is not defined",
     "output_type": "error",
     "traceback": [
      "\u001b[0;31m---------------------------------------------------------------------------\u001b[0m",
      "\u001b[0;31mNameError\u001b[0m                                 Traceback (most recent call last)",
      "\u001b[0;32m<ipython-input-2-fe09b33e9b91>\u001b[0m in \u001b[0;36m<module>\u001b[0;34m\u001b[0m\n\u001b[1;32m      3\u001b[0m \u001b[0mc2\u001b[0m\u001b[0;34m.\u001b[0m\u001b[0msoma\u001b[0m\u001b[0;34m(\u001b[0m\u001b[0;36m3\u001b[0m\u001b[0;34m,\u001b[0m\u001b[0;36m12\u001b[0m\u001b[0;34m)\u001b[0m\u001b[0;34m\u001b[0m\u001b[0;34m\u001b[0m\u001b[0m\n\u001b[1;32m      4\u001b[0m \u001b[0;34m\u001b[0m\u001b[0m\n\u001b[0;32m----> 5\u001b[0;31m \u001b[0mp1\u001b[0m \u001b[0;34m=\u001b[0m \u001b[0mImpressora\u001b[0m\u001b[0;34m(\u001b[0m\u001b[0;34m)\u001b[0m\u001b[0;34m\u001b[0m\u001b[0;34m\u001b[0m\u001b[0m\n\u001b[0m",
      "\u001b[0;31mNameError\u001b[0m: name 'Impressora' is not defined"
     ]
    }
   ],
   "source": [
    "from calculadora import Calculadora #Aqui nós dizemos que queremos importar somente a classe Calculadora do módulo calculadora\n",
    "c2 = Calculadora()\n",
    "c2.soma(3,12)\n",
    "\n",
    "p1 = Impressora()"
   ]
  },
  {
   "cell_type": "code",
   "execution_count": 2,
   "metadata": {},
   "outputs": [],
   "source": [
    "from calculadora import *"
   ]
  },
  {
   "cell_type": "code",
   "execution_count": 1,
   "metadata": {
    "id": "0bVj1iwt7jnF",
    "outputId": "cc6adcd5-8f9f-4c46-dec4-d0f0b49543c3"
   },
   "outputs": [
    {
     "data": {
      "text/plain": [
       "9"
      ]
     },
     "execution_count": 1,
     "metadata": {},
     "output_type": "execute_result"
    }
   ],
   "source": [
    "# podemos ainda nomear nosso módulo\n",
    "import calculadora as calc\n",
    "hp = calc.Calculadora() #uma instanciação da classe calculadora\n",
    "hp.soma(3,6)\n"
   ]
  },
  {
   "cell_type": "markdown",
   "metadata": {
    "id": "kvx-caHZ7jnI"
   },
   "source": [
    "#  Pacotes em Python"
   ]
  },
  {
   "cell_type": "markdown",
   "metadata": {
    "id": "b2OZ1SqRtJ40",
    "outputId": "d8a836fe-e032-4afe-d3ef-304494621b48"
   },
   "source": [
    "# como disponibilizar o pacote para uso?"
   ]
  },
  {
   "cell_type": "markdown",
   "metadata": {
    "id": "i98onhz9v2kw"
   },
   "source": [
    "    "
   ]
  },
  {
   "cell_type": "code",
   "execution_count": null,
   "metadata": {
    "id": "ofTMEIyvwjl6"
   },
   "outputs": [],
   "source": [
    "#Agora que já temos conhecimentos sobre classe, objetos, módulos e pacotes, vamos fazer um módulo de corretor ortográfico?\n",
    "# Na aula passada,o prof. Felipe disponibilizou um método de correção ortográfica...\n",
    "\n",
    "#nossa tarefa é construir um módulo para que todo texto que digitemos seja corrigido...\n",
    "\n",
    "#temos um arquivo chamado \"dataset_todas_palavras_portugues.txt\", vamos abri-lo e fazer um dicionário com todas as palavras\n"
   ]
  },
  {
   "cell_type": "code",
   "execution_count": 12,
   "metadata": {
    "id": "L9DCYWPDJQuY"
   },
   "outputs": [],
   "source": [
    "# uma coleção de módulos (um “pacote”) \n",
    "\n"
   ]
  },
  {
   "cell_type": "code",
   "execution_count": null,
   "metadata": {},
   "outputs": [],
   "source": [
    "o arquivo __init__.py\n",
    "\n",
    "The __init__.py file makes Python treat directories containing it as modules.\n",
    "\n"
   ]
  },
  {
   "cell_type": "markdown",
   "metadata": {
    "id": "x3N3Mzdx32t0"
   },
   "source": [
    "## Exemplo Corretor ortográfico"
   ]
  },
  {
   "cell_type": "code",
   "execution_count": null,
   "metadata": {
    "colab": {
     "base_uri": "https://localhost:8080/"
    },
    "id": "T_sM3qExJbxf",
    "outputId": "7b5917b0-6e6a-4a1f-d5c5-06bcb27ed373"
   },
   "outputs": [
    {
     "name": "stdout",
     "output_type": "stream",
     "text": [
      "{'ão': 'pão', 'po': 'pão', 'pã': 'pão', 'e': 'de', 'd': 'de', 'ueijo': 'queijo', 'qeijo': 'queijo', 'quijo': 'queijo', 'quejo': 'queijo', 'queio': 'queijo', 'queij': 'queijo', 'asa': 'casa', 'csa': 'casa', 'caa': 'casa', 'cas': 'casa', 'rem': 'trem', 'tem': 'trem', 'trm': 'trem', 'tre': 'trem', 'om': 'bom', 'bm': 'bom', 'bo': 'bom'}\n"
     ]
    }
   ],
   "source": [
    "# Cria dicionário para correção\n",
    "Corretor = {}\n",
    "\n",
    "# Incluir correção para a variação da palavra pão\n",
    "palavra = \"pão\"\n",
    "Termo = {palavra[0:x] + palavra[x+1:len(palavra)]:palavra for x in range(0, len(palavra))}\n",
    "for chave in Termo:\n",
    "  Corretor[chave] = Termo[chave]\n",
    "\n",
    "# Incluir correção para a variação da palavra de\n",
    "palavra = \"de\"\n",
    "Termo = {palavra[0:x] + palavra[x+1:len(palavra)]:palavra for x in range(0, len(palavra))}\n",
    "for chave in Termo:\n",
    "  Corretor[chave] = Termo[chave]\n",
    "\n",
    "\n",
    "# Incluir correção para a variação da palavra queijo\n",
    "palavra = \"queijo\"\n",
    "Termo = {palavra[0:x] + palavra[x+1:len(palavra)]:palavra for x in range(0, len(palavra))}\n",
    "for chave in Termo:\n",
    "  Corretor[chave] = Termo[chave]\n",
    "\n",
    "\n",
    "# Incluir correção para a variação da palavra casa\n",
    "palavra = \"casa\"\n",
    "Termo = {palavra[0:x] + palavra[x+1:len(palavra)]:palavra for x in range(0, len(palavra))}\n",
    "\n",
    "for chave in Termo:\n",
    "  Corretor[chave] = Termo[chave]\n",
    "\n",
    "# Trem\n",
    "palavra = \"trem\"\n",
    "Termo = {palavra[0:x] + palavra[x+1:len(palavra)]:palavra for x in range(0, len(palavra))}\n",
    "\n",
    "for chave in Termo:\n",
    "  Corretor[chave] = Termo[chave]\n",
    "\n",
    "# bom\n",
    "palavra = \"bom\"\n",
    "Termo = {palavra[0:x] + palavra[x+1:len(palavra)]:palavra for x in range(0, len(palavra))}\n",
    "\n",
    "for chave in Termo:\n",
    "  Corretor[chave] = Termo[chave]\n",
    "\n",
    "print(Corretor)"
   ]
  },
  {
   "cell_type": "code",
   "execution_count": null,
   "metadata": {
    "colab": {
     "base_uri": "https://localhost:8080/",
     "height": 54
    },
    "id": "Lx-Y-zA-3770",
    "outputId": "8b7ff0bd-1627-4ce6-a5be-2a25574ee429"
   },
   "outputs": [
    {
     "name": "stdout",
     "output_type": "stream",
     "text": [
      "['pão', 'de', 'queijo', 'é', 'um', 'trem', 'bom']\n"
     ]
    },
    {
     "data": {
      "application/vnd.google.colaboratory.intrinsic+json": {
       "type": "string"
      },
      "text/plain": [
       "'pão de queijo é um trem bom'"
      ]
     },
     "execution_count": 19,
     "metadata": {
      "tags": []
     },
     "output_type": "execute_result"
    }
   ],
   "source": [
    "frase = ['pão', 'de', 'quijo', 'é', 'um', 'trem', 'bm']\n",
    "frasecorrigida = []\n",
    "\n",
    "#Consultando o corretor\n",
    "for palavra in frase:\n",
    "    if palavra in Corretor:\n",
    "        frasecorrigida.append(Corretor[palavra])\n",
    "    else:\n",
    "      frasecorrigida.append(palavra)\n",
    "  \n",
    "print(frasecorrigida)\n",
    "\n",
    "# transformando em string\n",
    "Corrigido = ' '.join(frasecorrigida)\n",
    "\n",
    "Corrigido"
   ]
  },
  {
   "cell_type": "code",
   "execution_count": null,
   "metadata": {},
   "outputs": [],
   "source": [
    "# Execução de script via shell line\n",
    "#    python3 scriptARGS.py 1 2 3 4 5 6 7 8\n",
    "\n",
    "\n"
   ]
  },
  {
   "cell_type": "code",
   "execution_count": null,
   "metadata": {},
   "outputs": [],
   "source": [
    "\n",
    "# Falta apresentar o pypi\n",
    "\n",
    "# mostrar alguns modulos/pacotes mais famosso em python"
   ]
  },
  {
   "cell_type": "code",
   "execution_count": 11,
   "metadata": {},
   "outputs": [
    {
     "data": {
      "text/plain": [
       "3.141592653589793"
      ]
     },
     "execution_count": 11,
     "metadata": {},
     "output_type": "execute_result"
    }
   ],
   "source": [
    "import math\n",
    "\n",
    "math.pi\n",
    "\n"
   ]
  },
  {
   "cell_type": "code",
   "execution_count": 1,
   "metadata": {},
   "outputs": [
    {
     "name": "stdout",
     "output_type": "stream",
     "text": [
      "<class 'int'>   x =  36\n",
      "<class 'str'>   y =  hello\n",
      "<class 'float'> z =  3.45\n",
      "x = 1.89 | tipo:  <class 'float'>\n",
      "y = 1    | tipo:  <class 'int'>\n",
      "z = 1.89 | tipo:  <class 'str'>\n",
      "z = True | tipo:  <class 'bool'>\n",
      "z = (3+4j) | tipo:  <class 'complex'>\n",
      "False\n",
      "True\n",
      "Olá Mundo\n",
      "Já pode sair?Já pode sair?Já pode sair?Já pode sair?Já pode sair?\n",
      "\n",
      "Inserido o elemento 5 via variável y\n",
      "x =  [1, 2, 3, 4, 5]\n",
      "y =  [1, 2, 3, 4, 5]\n",
      "\n",
      "Inserido o elemento 7 via variável x\n",
      "x =  [1, 2, 3, 4, 5, 7]\n",
      "y =  [1, 2, 3, 4, 5, 7]\n",
      "<class 'tuple'> | (1, 2, 3, 'cinco', 7.0)\n",
      "<class 'tuple'> | (7, 8, '9', True, (1, 2, 3, 4))\n",
      "<class 'int'>   | t1[0] =  1\n",
      "<class 'str'>   | t1[3] =  cinco\n",
      "<class 'bool'>  | t2[3] =  True\n",
      "<class 'tuple'> | t2[4] =  (1, 2, 3, 4)\n",
      "<class 'int'>   | t2[4][1] =  2\n"
     ]
    },
    {
     "ename": "TypeError",
     "evalue": "'tuple' object does not support item assignment",
     "output_type": "error",
     "traceback": [
      "\u001b[0;31m---------------------------------------------------------------------------\u001b[0m",
      "\u001b[0;31mTypeError\u001b[0m                                 Traceback (most recent call last)",
      "\u001b[0;32m<ipython-input-1-eef1eba76764>\u001b[0m in \u001b[0;36m<module>\u001b[0;34m\u001b[0m\n\u001b[0;32m----> 1\u001b[0;31m \u001b[0;32mimport\u001b[0m \u001b[0mficpythonpkg\u001b[0m\u001b[0;34m.\u001b[0m\u001b[0maula01\u001b[0m\u001b[0;34m\u001b[0m\u001b[0;34m\u001b[0m\u001b[0m\n\u001b[0m",
      "\u001b[0;32m/mnt/DADOS/DOCS/ifsp/2020/semestre2/FICPython/codigos/ficpythonpkg/aula01.py\u001b[0m in \u001b[0;36m<module>\u001b[0;34m\u001b[0m\n\u001b[1;32m    161\u001b[0m \u001b[0;34m\u001b[0m\u001b[0m\n\u001b[1;32m    162\u001b[0m \u001b[0;31m# Se terntar inserir ou modificar um elemento na tupla, gera erro\u001b[0m\u001b[0;34m\u001b[0m\u001b[0;34m\u001b[0m\u001b[0;34m\u001b[0m\u001b[0m\n\u001b[0;32m--> 163\u001b[0;31m \u001b[0mt1\u001b[0m\u001b[0;34m[\u001b[0m\u001b[0;36m1\u001b[0m\u001b[0;34m]\u001b[0m \u001b[0;34m=\u001b[0m \u001b[0;36m7\u001b[0m\u001b[0;34m\u001b[0m\u001b[0;34m\u001b[0m\u001b[0m\n\u001b[0m\u001b[1;32m    164\u001b[0m \u001b[0;34m\u001b[0m\u001b[0m\n\u001b[1;32m    165\u001b[0m \u001b[0;31m# \"Somando\" duas tuplas\u001b[0m\u001b[0;34m\u001b[0m\u001b[0;34m\u001b[0m\u001b[0;34m\u001b[0m\u001b[0m\n",
      "\u001b[0;31mTypeError\u001b[0m: 'tuple' object does not support item assignment"
     ]
    }
   ],
   "source": [
    "import ficpythonpkg.aula01"
   ]
  }
 ],
 "metadata": {
  "colab": {
   "collapsed_sections": [],
   "name": "IPCD_Aula_02.ipynb",
   "provenance": []
  },
  "kernelspec": {
   "display_name": "Python 3",
   "language": "python",
   "name": "python3"
  },
  "language_info": {
   "codemirror_mode": {
    "name": "ipython",
    "version": 3
   },
   "file_extension": ".py",
   "mimetype": "text/x-python",
   "name": "python",
   "nbconvert_exporter": "python",
   "pygments_lexer": "ipython3",
   "version": "3.7.3"
  }
 },
 "nbformat": 4,
 "nbformat_minor": 1
}
