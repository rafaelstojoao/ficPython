{
  "nbformat": 4,
  "nbformat_minor": 0,
  "metadata": {
    "colab": {
      "name": "IPCD AULA 03.ipynb",
      "provenance": [],
      "collapsed_sections": []
    },
    "kernelspec": {
      "name": "python3",
      "display_name": "Python 3"
    }
  },
  "cells": [
    {
      "cell_type": "markdown",
      "metadata": {
        "id": "XI4ceKPehfVu"
      },
      "source": [
        "Numpy:\n",
        "\n",
        "* Visão Geral\n",
        "* Básico de Arrays\n",
        "* Manipulação das dimensões\n",
        "* Iterar e repartir\n",
        "* Indexação\n",
        "* Cópias e views\n"
      ]
    },
    {
      "cell_type": "markdown",
      "metadata": {
        "id": "LYdXsUMqh1CR"
      },
      "source": [
        "\n",
        "\n",
        "Numpy (Numeric Python) é um módulo para pyhton\n",
        "\n",
        "Boa parte implementada em C (velocidade).\n",
        "\n",
        "Arrays Multi-dimensionais e matrizes.\n",
        "\n",
        "Tratamento de grandes quantidades de dados (memória e velocidade).\n",
        "\n",
        "Grande quantidade de funções matemáticas para operar as matrizes e arrays.\n",
        "\n",
        "Muito utilizado em programação científica na implementação de seus módulos\n",
        "\n",
        "Necessita ser instalado.\n",
        "\n",
        "\n",
        "\n"
      ]
    },
    {
      "cell_type": "code",
      "metadata": {
        "id": "NS4RwrEfhnrD"
      },
      "source": [
        "# Importando o módulo do NumPy\n",
        "import numpy as np"
      ],
      "execution_count": null,
      "outputs": []
    },
    {
      "cell_type": "code",
      "metadata": {
        "id": "0aWUGB2Oj-EA",
        "outputId": "3719b68d-ffe5-43ad-aace-9dac855c4947",
        "colab": {
          "base_uri": "https://localhost:8080/"
        }
      },
      "source": [
        "# expemplo lidando com temperaturas\n",
        "# Aqui temos uma estrutra do tipo lista, nativa do Python\n",
        "cvalues = [20.1, 20.8, 21.9, 22.5, 22.7, 22.3, 21.8, 21.2, 20.9, 20.1]\n",
        "print(type(cvalues))\n",
        "print(cvalues)"
      ],
      "execution_count": null,
      "outputs": [
        {
          "output_type": "stream",
          "text": [
            "<class 'list'>\n",
            "[20.1, 20.8, 21.9, 22.5, 22.7, 22.3, 21.8, 21.2, 20.9, 20.1]\n"
          ],
          "name": "stdout"
        }
      ]
    },
    {
      "cell_type": "code",
      "metadata": {
        "id": "RPMaQCw6kZcQ",
        "outputId": "863994bd-7c15-4124-f7a8-f8278e559968",
        "colab": {
          "base_uri": "https://localhost:8080/"
        }
      },
      "source": [
        "# Criando o numpy array de uma dimensão\n",
        "# Para criar um NumPy array, utilizarmos a função array do módulo NumPy e passamos como parâmetro os elementos, no nosso exemplo, contindos em uma lista\n",
        "C = np.array(cvalues)\n",
        "\n",
        "# Estrutra utilizada utililizada leva o nome de ndarray que chamamos de NumPy array\n",
        "print(type(C))\n",
        "print(C)"
      ],
      "execution_count": null,
      "outputs": [
        {
          "output_type": "stream",
          "text": [
            "<class 'numpy.ndarray'>\n",
            "[20.1 20.8 21.9 22.5 22.7 22.3 21.8 21.2 20.9 20.1]\n"
          ],
          "name": "stdout"
        }
      ]
    },
    {
      "cell_type": "markdown",
      "metadata": {
        "id": "O1iujXNvlOFO"
      },
      "source": [
        "Agora vamos converter de Celsius para Fahrenheit"
      ]
    },
    {
      "cell_type": "code",
      "metadata": {
        "id": "T-OJ_eIvk3Tw",
        "outputId": "f8ff1d18-590b-461e-a343-e42e8dd2fb94",
        "colab": {
          "base_uri": "https://localhost:8080/"
        }
      },
      "source": [
        "# Usando for\n",
        "fvalues = []\n",
        "\n",
        "# lembra do for? Para iteração, percorremos o ndarray e convertemos valor por valor\n",
        "for x in cvalues:\n",
        "  fvalues.append(x*9/5 + 32)\n",
        "\n",
        "print(fvalues)\n",
        "\n",
        "\n",
        "# Podemos deixar uma pouco mais elegantes, mas principalmente, eficiente utilizando list comprehension\n",
        "# onde:\n",
        "# for x in cvalues -> para cada elmento contido em cvalues\n",
        "# x*9/5 + 32 -> aplico essa operação\n",
        "# list comprehension retorna um generator e não uma lista\n",
        "\n",
        "fvalues = [x*9/5 + 32 for x in cvalues] \n",
        "print(fvalues)\n",
        "print(type(fvalues))\n",
        "(type(x*9/5 + 32 for x in cvalues))"
      ],
      "execution_count": null,
      "outputs": [
        {
          "output_type": "stream",
          "text": [
            "[68.18, 69.44, 71.42, 72.5, 72.86, 72.14, 71.24000000000001, 70.16, 69.62, 68.18]\n",
            "[68.18, 69.44, 71.42, 72.5, 72.86, 72.14, 71.24000000000001, 70.16, 69.62, 68.18]\n",
            "<class 'list'>\n"
          ],
          "name": "stdout"
        },
        {
          "output_type": "execute_result",
          "data": {
            "text/plain": [
              "generator"
            ]
          },
          "metadata": {
            "tags": []
          },
          "execution_count": 4
        }
      ]
    },
    {
      "cell_type": "markdown",
      "metadata": {
        "id": "TGsKGILzzAaH"
      },
      "source": [
        "* Para uma introdução sobre a sintaxe:  [8 Levels of Using List Comprehension in Python](https://medium.com/techtofreedom/8-levels-of-using-list-comprehension-in-python-efc3c339a1f0)\n",
        "\n",
        "* Para entender o porque list comprehensions é mais eficiente, pesquisar por ele junto com o termo yield. [yield in list comprehensions and generator expressions](https://stackoverflow.com/questions/32139885/yield-in-list-comprehensions-and-generator-expressions)\n",
        "\n"
      ]
    },
    {
      "cell_type": "code",
      "metadata": {
        "id": "gw-3R9ZK02RO",
        "outputId": "7d1cf3a9-d42f-4ee5-a42a-a36c4674f38d",
        "colab": {
          "base_uri": "https://localhost:8080/"
        }
      },
      "source": [
        "# usando condicional no list comprehension\n",
        "# colocamos a condição (if x < 21) ao final da iteração\n",
        "fvalues = [ x*9/5 + 32 for x in cvalues if x < 21] \n",
        "print(fvalues)\n"
      ],
      "execution_count": null,
      "outputs": [
        {
          "output_type": "stream",
          "text": [
            "[68.18, 69.44, 69.62, 68.18]\n"
          ],
          "name": "stdout"
        }
      ]
    },
    {
      "cell_type": "code",
      "metadata": {
        "id": "Qs3MOMez1QZv",
        "outputId": "1516b919-785e-46c6-dbdd-967302352474",
        "colab": {
          "base_uri": "https://localhost:8080/"
        }
      },
      "source": [
        "# Para colocar o else (senâo), muda um pouco (pesquisar por operador ternário em Python)\n",
        "# O condicional vem antes no formato similar ao operadior ternário\n",
        "fvalues = [ 'ameno' if x < 21 else 'menos ameno' for x in cvalues] \n",
        "print(fvalues)\n"
      ],
      "execution_count": null,
      "outputs": [
        {
          "output_type": "stream",
          "text": [
            "['ameno', 'ameno', 'menos ameno', 'menos ameno', 'menos ameno', 'menos ameno', 'menos ameno', 'menos ameno', 'ameno', 'ameno']\n"
          ],
          "name": "stdout"
        }
      ]
    },
    {
      "cell_type": "code",
      "metadata": {
        "id": "Fol3oEg0lvNo",
        "outputId": "49e7ffdc-1e04-451a-cd94-5fb8b8404cde",
        "colab": {
          "base_uri": "https://localhost:8080/",
          "height": 265
        }
      },
      "source": [
        "# Plotando um gráfico. Veremos mais adiante no curso, mas fica uma amostra por hora.\n",
        "import matplotlib.pyplot as plt\n",
        "\n",
        "plt.plot(C)\n",
        "plt.show()"
      ],
      "execution_count": null,
      "outputs": [
        {
          "output_type": "display_data",
          "data": {
            "image/png": "[encoded data removed]",
            "text/plain": [
              "<Figure size 432x288 with 1 Axes>"
            ]
          },
          "metadata": {
            "tags": [],
            "needs_background": "light"
          }
        }
      ]
    },
    {
      "cell_type": "markdown",
      "metadata": {
        "id": "-D3iHH31m2oe"
      },
      "source": [
        "##Verificando a eficiência na utilização do módulo NumPy\n"
      ]
    },
    {
      "cell_type": "code",
      "metadata": {
        "id": "WfhuUxuCl0b-",
        "outputId": "11b63586-e337-4cb0-d15a-7346ebb011b8",
        "colab": {
          "base_uri": "https://localhost:8080/"
        }
      },
      "source": [
        "import numpy as np\n",
        "from timeit import Timer\n",
        "\n",
        "size_of_vec = 1000\n",
        "\n",
        "# duas listas de 1000 elementos\n",
        "X_list = range(size_of_vec)\n",
        "Y_list = range(size_of_vec)\n",
        "\n",
        "# dois ndarray de 1000 elementos\n",
        "X = np.arange(size_of_vec)\n",
        "Y = np.arange(size_of_vec)\n",
        "\n",
        "# Usando python puro para somar duas listas\n",
        "def pure_python_version():\n",
        "    Z = [X_list[i] + Y_list[i] for i in range(len(X_list)) ]\n",
        "\n",
        "# usando numpy para somar duas listas\n",
        "def numpy_version():\n",
        "    Z = X + Y\n",
        "\n",
        "\n",
        "#timer_obj = Timer(\"x = x + 1\", \"x = 0\")\n",
        "timer_obj1 = Timer(\"pure_python_version()\", \n",
        "                   \"from __main__ import pure_python_version\")\n",
        "timer_obj2 = Timer(\"numpy_version()\", \n",
        "                   \"from __main__ import numpy_version\")\n",
        "\n",
        "for i in range(3):\n",
        "    t1 = timer_obj1.timeit(10)\n",
        "    t2 = timer_obj2.timeit(10)\n",
        "    print(\"time for pure Python version: \", t1)\n",
        "    print(\"time for Numpy version: \", t2)\n",
        "    print(f\"Numpy was {t1 / t2:7.2f} times faster!\")\n",
        "\n"
      ],
      "execution_count": null,
      "outputs": [
        {
          "output_type": "stream",
          "text": [
            "time for pure Python version:  0.003386964000014814\n",
            "time for Numpy version:  3.733000002625886e-05\n",
            "Numpy was   90.73 times faster!\n",
            "time for pure Python version:  0.0033927849999884074\n",
            "time for Numpy version:  4.287000001568231e-05\n",
            "Numpy was   79.14 times faster!\n",
            "time for pure Python version:  0.003395324999985405\n",
            "time for Numpy version:  0.0001885689999880924\n",
            "Numpy was   18.01 times faster!\n"
          ],
          "name": "stdout"
        }
      ]
    },
    {
      "cell_type": "markdown",
      "metadata": {
        "id": "Hxe2euNmnjgW"
      },
      "source": [
        "# Vamos começar então\n",
        "\n",
        "## Criando Arrays"
      ]
    },
    {
      "cell_type": "code",
      "metadata": {
        "id": "34URZvEmnGL-",
        "outputId": "87a6eda7-5333-4dcf-a049-529cb6a543f0",
        "colab": {
          "base_uri": "https://localhost:8080/"
        }
      },
      "source": [
        "# Criando arrays de dimensão 1\n",
        "\n",
        "# array de zeros e de uns\n",
        "# percebam que o parâmetro é uma tupla - está entre parênteses\n",
        "arrayb1d = np.zeros((8))\n",
        "arrayc1d = np.ones((10))\n",
        "\n",
        "# Cria um array com 10 elementos\n",
        "arrayd1d = np.arange(10)\n",
        "\n",
        "# cinco numeros igualmente espacados (n1, n2, qtd)\n",
        "arraye1d = np.linspace(1,10,5)\n",
        "\n",
        "print('arrayb1d=',arrayb1d)\n",
        "print('arrayc1d=',arrayc1d)\n",
        "print('arrayd1d=',arrayd1d)\n",
        "print('arraye1d=',arraye1d)"
      ],
      "execution_count": null,
      "outputs": [
        {
          "output_type": "stream",
          "text": [
            "arrayb1d= [0. 0. 0. 0. 0. 0. 0. 0.]\n",
            "arrayc1d= [1. 1. 1. 1. 1. 1. 1. 1. 1. 1.]\n",
            "arrayd1d= [0 1 2 3 4 5 6 7 8 9]\n",
            "arraye1d= [ 1.    3.25  5.5   7.75 10.  ]\n"
          ],
          "name": "stdout"
        }
      ]
    },
    {
      "cell_type": "markdown",
      "metadata": {
        "id": "1i7RlisUqMxu"
      },
      "source": [
        "##Arrays de duas dimensões"
      ]
    },
    {
      "cell_type": "code",
      "metadata": {
        "id": "-44JpgDQqTBs",
        "outputId": "31ffeebf-ac55-4377-bfc1-7eaec72c747c",
        "colab": {
          "base_uri": "https://localhost:8080/"
        }
      },
      "source": [
        "#Lembrando parametros das funcoes sao tuplas \n",
        "\n",
        "# Numpy array 8x3\n",
        "arrayb2d = np.zeros((8,3))\n",
        "# Numpy array de \"Ums\" 5x10\n",
        "arrayc2d = np.ones((5,10))\n",
        "#Numpy array indentidade\n",
        "arrayd2d = np.identity(3)\n",
        "\n",
        "print('arrayb2d=\\n',arrayb2d)\n",
        "print('arrayc2d=\\n',arrayc2d)\n",
        "print('arrayd2d=\\n',arrayd2d)"
      ],
      "execution_count": null,
      "outputs": [
        {
          "output_type": "stream",
          "text": [
            "arrayb2d=\n",
            " [[0. 0. 0.]\n",
            " [0. 0. 0.]\n",
            " [0. 0. 0.]\n",
            " [0. 0. 0.]\n",
            " [0. 0. 0.]\n",
            " [0. 0. 0.]\n",
            " [0. 0. 0.]\n",
            " [0. 0. 0.]]\n",
            "arrayc2d=\n",
            " [[1. 1. 1. 1. 1. 1. 1. 1. 1. 1.]\n",
            " [1. 1. 1. 1. 1. 1. 1. 1. 1. 1.]\n",
            " [1. 1. 1. 1. 1. 1. 1. 1. 1. 1.]\n",
            " [1. 1. 1. 1. 1. 1. 1. 1. 1. 1.]\n",
            " [1. 1. 1. 1. 1. 1. 1. 1. 1. 1.]]\n",
            "arrayd2d=\n",
            " [[1. 0. 0.]\n",
            " [0. 1. 0.]\n",
            " [0. 0. 1.]]\n"
          ],
          "name": "stdout"
        }
      ]
    },
    {
      "cell_type": "markdown",
      "metadata": {
        "id": "zDYGqI6Z8Z_q"
      },
      "source": [
        "## Mais opções para criar o array"
      ]
    },
    {
      "cell_type": "code",
      "metadata": {
        "id": "cpfc5MO9oOTt",
        "outputId": "a09fad0b-38f8-4644-d962-a3230a11ed59",
        "colab": {
          "base_uri": "https://localhost:8080/"
        }
      },
      "source": [
        "# arange(Inicio, fim) -> o fim não é contido\n",
        "a = np.arange(1, 10)\n",
        "print(a)\n",
        "print(type(a[0]))\n",
        "# outro exemplo\n",
        "x = np.arange(10.4)\n",
        "print(x)\n",
        "print(type(x[0]))\n",
        "\n",
        "# posso determinar o intervalo\n",
        "# arange (Inicioi, fim, passos)\n",
        "x = np.arange(0.5, 10.4, 0.8)\n",
        "print(x)\n",
        "print(type(x[0]))\n",
        "\n",
        "#forçar a ser inteiro\n",
        "x = np.arange(0.5, 10.4, 0.8, int)\n",
        "print(x)\n",
        "print(type(x[0]))"
      ],
      "execution_count": null,
      "outputs": [
        {
          "output_type": "stream",
          "text": [
            "[1 2 3 4 5 6 7 8 9]\n",
            "<class 'numpy.int64'>\n",
            "[ 0.  1.  2.  3.  4.  5.  6.  7.  8.  9. 10.]\n",
            "<class 'numpy.float64'>\n",
            "[ 0.5  1.3  2.1  2.9  3.7  4.5  5.3  6.1  6.9  7.7  8.5  9.3 10.1]\n",
            "<class 'numpy.float64'>\n",
            "[ 0  1  2  3  4  5  6  7  8  9 10 11 12]\n",
            "<class 'numpy.int64'>\n"
          ],
          "name": "stdout"
        }
      ]
    },
    {
      "cell_type": "markdown",
      "metadata": {
        "id": "4lE1wgt2t9w8"
      },
      "source": [
        "##Atributos \n",
        "    \n",
        "    ndarray.ndim     - o número de eixos (dimensões) do array\n",
        "    ndarray.shape    - uma tupla de inteiros indicando o tamanho do array em cada dimensão  \n",
        "    ndarray.size     - o número total de elementos do array\n",
        "    ndarray.dtype    - um objeto que descreve o tipo dos elementos no array\n",
        "    ndarray.itemsize - o tamanho em bytes de cada elemento do array\n",
        "    ndarray.data     - o buffer contendo os elementos do array\n",
        "\n"
      ]
    },
    {
      "cell_type": "code",
      "metadata": {
        "id": "lyhNtNU_u0Mz",
        "outputId": "914b160f-087d-44e8-dc0c-82a97ba541dd",
        "colab": {
          "base_uri": "https://localhost:8080/"
        }
      },
      "source": [
        "# Criando array 1D a partir de uma estrutura List\n",
        "print(\"\\n 1D arrays\",5*'-','\\n')\n",
        "arraya1d = np.array([1,3,5,7,9,10])\n",
        "print('a1d=',arraya1d)\n",
        "\n",
        "\n",
        "print(\"\\n 2D arrays\",5*'-','\\n')\n",
        "# criando array 2D, a partir de uma estrutra List (de Lists!)\n",
        "arraya2d = np.array([[1,3,5,7,9,11],\n",
        "                  [2,4,6,8,10,12],\n",
        "                  [0,1,2,3,4,5]])\n",
        "print('arraya2d=\\n',arraya2d)"
      ],
      "execution_count": null,
      "outputs": [
        {
          "output_type": "stream",
          "text": [
            "\n",
            " 1D arrays ----- \n",
            "\n",
            "a1d= [ 1  3  5  7  9 10]\n",
            "\n",
            " 2D arrays ----- \n",
            "\n",
            "arraya2d=\n",
            " [[ 1  3  5  7  9 11]\n",
            " [ 2  4  6  8 10 12]\n",
            " [ 0  1  2  3  4  5]]\n"
          ],
          "name": "stdout"
        }
      ]
    },
    {
      "cell_type": "code",
      "metadata": {
        "id": "lJtqb-BQt71v",
        "outputId": "19215891-2f7b-48fb-8e25-f00aae75de10",
        "colab": {
          "base_uri": "https://localhost:8080/"
        }
      },
      "source": [
        "# ndarrays\n",
        "print('arraya1d=\\n',arraya1d)\n",
        "print('arrayb1d=\\n',arrayb1d)\n",
        "print('arraya2d=\\n',arraya2d)\n",
        "print('arrayc2d=\\n',arrayb2d)\n"
      ],
      "execution_count": null,
      "outputs": [
        {
          "output_type": "stream",
          "text": [
            "arraya1d=\n",
            " [ 1  3  5  7  9 10]\n",
            "arrayb1d=\n",
            " [0. 0. 0. 0. 0. 0. 0. 0.]\n",
            "arraya2d=\n",
            " [[ 1  3  5  7  9 11]\n",
            " [ 2  4  6  8 10 12]\n",
            " [ 0  1  2  3  4  5]]\n",
            "arrayc2d=\n",
            " [[0. 0. 0.]\n",
            " [0. 0. 0.]\n",
            " [0. 0. 0.]\n",
            " [0. 0. 0.]\n",
            " [0. 0. 0.]\n",
            " [0. 0. 0.]\n",
            " [0. 0. 0.]\n",
            " [0. 0. 0.]]\n"
          ],
          "name": "stdout"
        }
      ]
    },
    {
      "cell_type": "code",
      "metadata": {
        "id": "HGC4NtJypqng",
        "outputId": "e967a13b-fe7c-45d2-fbb4-1cc115c463bf",
        "colab": {
          "base_uri": "https://localhost:8080/"
        }
      },
      "source": [
        "# Número de eixos\n",
        "print(\" ndim: o numero de eixos\")\n",
        "print(arraya1d.ndim)\n",
        "print(arrayb1d.ndim)\n",
        "print(arraya2d.ndim)\n",
        "print(arrayc2d.ndim)"
      ],
      "execution_count": null,
      "outputs": [
        {
          "output_type": "stream",
          "text": [
            " ndim: o numero de eixos\n",
            "1\n",
            "1\n",
            "2\n",
            "2\n"
          ],
          "name": "stdout"
        }
      ]
    },
    {
      "cell_type": "code",
      "metadata": {
        "id": "FzU0kuFDvy6s",
        "outputId": "47823e49-6d5e-4a3e-8bc7-d64afdb8c669",
        "colab": {
          "base_uri": "https://localhost:8080/"
        }
      },
      "source": [
        "# Tamanho do ndarray\n",
        "print(\"\\n shape: tamanho do array em cada dimensao\")\n",
        "print(arraya1d.shape)\n",
        "print(arrayb1d.shape)\n",
        "print(arraya2d.shape)\n",
        "print(arrayc2d.shape)"
      ],
      "execution_count": null,
      "outputs": [
        {
          "output_type": "stream",
          "text": [
            "\n",
            " shape: tamanho do array em cada dimensao\n",
            "(6,)\n",
            "(8,)\n",
            "(3, 6)\n",
            "(5, 10)\n"
          ],
          "name": "stdout"
        }
      ]
    },
    {
      "cell_type": "code",
      "metadata": {
        "id": "z3cd78PTv3N0",
        "outputId": "7182db4c-5b0a-4826-8ba7-dde91431e687",
        "colab": {
          "base_uri": "https://localhost:8080/"
        }
      },
      "source": [
        "# número de elementos do ndarray\n",
        "print(\"\\n size: numero total de elementos\")\n",
        "print(arraya1d.size)\n",
        "print(arrayb1d.size)\n",
        "print(arraya2d.size)\n",
        "print(arrayc2d.size)"
      ],
      "execution_count": null,
      "outputs": [
        {
          "output_type": "stream",
          "text": [
            "\n",
            " size: numero total de elementos\n",
            "6\n",
            "8\n",
            "18\n",
            "50\n"
          ],
          "name": "stdout"
        }
      ]
    },
    {
      "cell_type": "code",
      "metadata": {
        "id": "MXMCmLJSv8mE",
        "outputId": "ea3fcfa9-57b6-40d5-a9f9-60865fd1dd45",
        "colab": {
          "base_uri": "https://localhost:8080/"
        }
      },
      "source": [
        "#Tipo de elementos do ndarray\n",
        "print(\"\\n dtype: tipo dos elementos\")\n",
        "print(arraya1d.dtype)\n",
        "print(arrayb1d.dtype)\n",
        "print(arraya2d.dtype)\n",
        "print(arrayc2d.dtype)"
      ],
      "execution_count": null,
      "outputs": [
        {
          "output_type": "stream",
          "text": [
            "\n",
            " dtype: tipo dos elementos\n",
            "int64\n",
            "float64\n",
            "int64\n",
            "float64\n"
          ],
          "name": "stdout"
        }
      ]
    },
    {
      "cell_type": "code",
      "metadata": {
        "id": "cwY6r8acwAcy",
        "outputId": "15739c28-eec9-4c7d-eee1-d9f8c9125fb7",
        "colab": {
          "base_uri": "https://localhost:8080/"
        }
      },
      "source": [
        "#tamanho em bytes de cada elemento\n",
        "print(\"\\n itemsize: tamanho em bytes de cada elemento\")\n",
        "print(arraya1d.itemsize)\n",
        "print(arrayb1d.itemsize)\n",
        "print(arraya2d.itemsize)\n",
        "print(arrayc2d.itemsize)"
      ],
      "execution_count": null,
      "outputs": [
        {
          "output_type": "stream",
          "text": [
            "\n",
            " itemsize: tamanho em bytes de cada elemento\n",
            "8\n",
            "8\n",
            "8\n",
            "8\n"
          ],
          "name": "stdout"
        }
      ]
    },
    {
      "cell_type": "code",
      "metadata": {
        "id": "2lQKyC36wERI",
        "outputId": "359a9829-e59f-4919-d45c-bf2a26633d13",
        "colab": {
          "base_uri": "https://localhost:8080/"
        }
      },
      "source": [
        "#buffer contendo os elemntos do array\n",
        "print(\"\\n data: buffer contendo os elementos do array\")\n",
        "print(arraya1d.data)\n",
        "print(arrayb1d.data)\n",
        "print(arraya2d.data)\n",
        "print(arrayc2d.data)"
      ],
      "execution_count": null,
      "outputs": [
        {
          "output_type": "stream",
          "text": [
            "\n",
            " data: buffer contendo os elementos do array\n",
            "<memory at 0x7f928912f888>\n",
            "<memory at 0x7f928912f888>\n",
            "<memory at 0x7f9288e897e0>\n",
            "<memory at 0x7f9288e897e0>\n"
          ],
          "name": "stdout"
        }
      ]
    },
    {
      "cell_type": "code",
      "metadata": {
        "id": "D1SsHJ66yNdW",
        "outputId": "a82d8bdf-d041-4808-ab7b-173026ec0dcb",
        "colab": {
          "base_uri": "https://localhost:8080/"
        }
      },
      "source": [
        "a = np.zeros((5))\n",
        "b = np.zeros((5,1))\n",
        "\n",
        "# As dimensoes são livres, ou seja, nao é linha nem coluna\n",
        "# sempre tentar especificar as dimensoes\n",
        "print('array de uma dimensão:')\n",
        "print(a)\n",
        "print(a.shape)\n",
        "print('\\narray de duas dimensão:5x1')\n",
        "print(b)\n",
        "print(b.shape)"
      ],
      "execution_count": null,
      "outputs": [
        {
          "output_type": "stream",
          "text": [
            "array de uma dimensão:\n",
            "[0. 0. 0. 0. 0.]\n",
            "(5,)\n",
            "\n",
            "array de duas dimensão:5x1\n",
            "[[0.]\n",
            " [0.]\n",
            " [0.]\n",
            " [0.]\n",
            " [0.]]\n",
            "(5, 1)\n"
          ],
          "name": "stdout"
        }
      ]
    },
    {
      "cell_type": "code",
      "metadata": {
        "id": "_0TChCYcyjjd",
        "outputId": "046c8ae2-c0b6-49dd-859c-1e17b1a937a8",
        "colab": {
          "base_uri": "https://localhost:8080/"
        }
      },
      "source": [
        "# Com NumPy, escalares são nparrays de zero dimensões\n",
        "import numpy as np\n",
        "x = np.array(42)\n",
        "print(\"x: \", x)\n",
        "print(\"O tipo de x: \", type(x))\n",
        "print(\"Dimensões de x:\", np.ndim(x))\n",
        "print(\"As dimensões de x:\", np.shape(x))"
      ],
      "execution_count": null,
      "outputs": [
        {
          "output_type": "stream",
          "text": [
            "x:  42\n",
            "O tipo de x:  <class 'numpy.ndarray'>\n",
            "Dimensões de x: 0\n",
            "As dimensões de x: ()\n"
          ],
          "name": "stdout"
        }
      ]
    },
    {
      "cell_type": "code",
      "metadata": {
        "id": "Cpwh5MJAzJEv",
        "outputId": "3c381027-0afc-4501-caa3-887158adbcac",
        "colab": {
          "base_uri": "https://localhost:8080/"
        }
      },
      "source": [
        "#np array de três dimensões\n",
        "B = np.array([ [[111, 112], [121, 122]],\n",
        "               [[211, 212], [221, 222]],\n",
        "               [[311, 312], [321, 322]] ])\n",
        "print(B)\n",
        "print(B.ndim)\n",
        "print(B.shape)\n"
      ],
      "execution_count": null,
      "outputs": [
        {
          "output_type": "stream",
          "text": [
            "[[[111 112]\n",
            "  [121 122]]\n",
            "\n",
            " [[211 212]\n",
            "  [221 222]]\n",
            "\n",
            " [[311 312]\n",
            "  [321 322]]]\n",
            "3\n",
            "(3, 2, 2)\n"
          ],
          "name": "stdout"
        }
      ]
    },
    {
      "cell_type": "markdown",
      "metadata": {
        "id": "6GsDTHPGzqhR"
      },
      "source": [
        "#shape - dimensões do array, é uma tupla"
      ]
    },
    {
      "cell_type": "code",
      "metadata": {
        "id": "sKklDElrzqPU",
        "outputId": "a21388f9-6cf6-4e52-e1ae-56e0ffe0181d",
        "colab": {
          "base_uri": "https://localhost:8080/"
        }
      },
      "source": [
        "x = np.array([ [67, 63, 87],\n",
        "               [77, 69, 59],\n",
        "               [85, 87, 99],\n",
        "               [79, 72, 71],\n",
        "               [63, 89, 93],\n",
        "               [68, 92, 78]])\n",
        "\n",
        "# função do módulo np\n",
        "print(np.shape(x))"
      ],
      "execution_count": null,
      "outputs": [
        {
          "output_type": "stream",
          "text": [
            "(6, 3)\n"
          ],
          "name": "stdout"
        }
      ]
    },
    {
      "cell_type": "code",
      "metadata": {
        "id": "zLmpDVQ2zWt-",
        "outputId": "da09a385-2265-4f6d-da02-4e49d9968898",
        "colab": {
          "base_uri": "https://localhost:8080/"
        }
      },
      "source": [
        "#propriedade do ndarray\n",
        "print(x.shape)"
      ],
      "execution_count": null,
      "outputs": [
        {
          "output_type": "stream",
          "text": [
            "(6, 3)\n"
          ],
          "name": "stdout"
        }
      ]
    },
    {
      "cell_type": "code",
      "metadata": {
        "id": "5Tba0qSQ0Iu1",
        "outputId": "b66d1f46-87a9-429e-8c8e-0534fb0256e7",
        "colab": {
          "base_uri": "https://localhost:8080/"
        }
      },
      "source": [
        "#Podemos redefinri a propriedade, sempre com um tupla\n",
        "x.shape = (3, 6)\n",
        "print(x)"
      ],
      "execution_count": null,
      "outputs": [
        {
          "output_type": "stream",
          "text": [
            "[[67 63 87 77 69 59]\n",
            " [85 87 99 79 72 71]\n",
            " [63 89 93 68 92 78]]\n"
          ],
          "name": "stdout"
        }
      ]
    },
    {
      "cell_type": "code",
      "metadata": {
        "id": "GM1QxHQh0Vy1",
        "outputId": "baff2cb9-3306-485b-9545-dbf5fcc0a8ad",
        "colab": {
          "base_uri": "https://localhost:8080/"
        }
      },
      "source": [
        "x.shape = (2, 9)\n",
        "print(x)\n",
        "\n"
      ],
      "execution_count": null,
      "outputs": [
        {
          "output_type": "stream",
          "text": [
            "[[67 63 87 77 69 59 85 87 99]\n",
            " [79 72 71 63 89 93 68 92 78]]\n"
          ],
          "name": "stdout"
        }
      ]
    },
    {
      "cell_type": "code",
      "metadata": {
        "id": "4DqPWFZG0cI1",
        "outputId": "aa8011d7-af1f-42ac-b2da-c9582ec6caf2",
        "colab": {
          "base_uri": "https://localhost:8080/",
          "height": 207
        }
      },
      "source": [
        "# mas deve ser sempre com o mesmo número de elementos - esse aqui vai dar erro\n",
        "x.shape = (2, 8)\n",
        "print(x)"
      ],
      "execution_count": null,
      "outputs": [
        {
          "output_type": "error",
          "ename": "ValueError",
          "evalue": "ignored",
          "traceback": [
            "\u001b[0;31m---------------------------------------------------------------------------\u001b[0m",
            "\u001b[0;31mValueError\u001b[0m                                Traceback (most recent call last)",
            "\u001b[0;32m<ipython-input-29-3b7e8ab85391>\u001b[0m in \u001b[0;36m<module>\u001b[0;34m()\u001b[0m\n\u001b[1;32m      1\u001b[0m \u001b[0;31m# mas deve ser sempre com o mesmo número de elementos - esse aqui vai dar erro\u001b[0m\u001b[0;34m\u001b[0m\u001b[0;34m\u001b[0m\u001b[0;34m\u001b[0m\u001b[0m\n\u001b[0;32m----> 2\u001b[0;31m \u001b[0mx\u001b[0m\u001b[0;34m.\u001b[0m\u001b[0mshape\u001b[0m \u001b[0;34m=\u001b[0m \u001b[0;34m(\u001b[0m\u001b[0;36m2\u001b[0m\u001b[0;34m,\u001b[0m \u001b[0;36m8\u001b[0m\u001b[0;34m)\u001b[0m\u001b[0;34m\u001b[0m\u001b[0;34m\u001b[0m\u001b[0m\n\u001b[0m\u001b[1;32m      3\u001b[0m \u001b[0mprint\u001b[0m\u001b[0;34m(\u001b[0m\u001b[0mx\u001b[0m\u001b[0;34m)\u001b[0m\u001b[0;34m\u001b[0m\u001b[0;34m\u001b[0m\u001b[0m\n",
            "\u001b[0;31mValueError\u001b[0m: cannot reshape array of size 18 into shape (2,8)"
          ]
        }
      ]
    },
    {
      "cell_type": "markdown",
      "metadata": {
        "id": "gcVlglY71RTp"
      },
      "source": [
        "#Acessando os elementos de um ndarray\n",
        "* Similar a outras estruturas em Python, como tuplas e listas, mas com alguns recursos mais poderosos\n"
      ]
    },
    {
      "cell_type": "code",
      "metadata": {
        "id": "1VBWgVuN3F37",
        "outputId": "42e5d27d-4eef-43a8-d6cb-a35fcb61c29e",
        "colab": {
          "base_uri": "https://localhost:8080/"
        }
      },
      "source": [
        "F = np.array([1, 1, 2, 3, 5, 8, 13, 21])\n",
        "\n",
        "# primeiro elemento de F\n",
        "print(\"primeiro elmento:\", F[0])\n",
        "# último elemento de F - similar a algumas estruturas do Python puro, strings inclusas\n",
        "print(\"segundo elemento:\", F[-1])"
      ],
      "execution_count": null,
      "outputs": [
        {
          "output_type": "stream",
          "text": [
            "primeiro elmento: 1\n",
            "segundo elemento: 21\n"
          ],
          "name": "stdout"
        }
      ]
    },
    {
      "cell_type": "code",
      "metadata": {
        "id": "kLlnDkLA3deo",
        "outputId": "0264c7b4-15ff-447b-be5e-d50c6f38b8d5",
        "colab": {
          "base_uri": "https://localhost:8080/"
        }
      },
      "source": [
        "A = np.array([ [3.4, 8.7, 9.9], \n",
        "               [1.1, -7.8, -0.7],\n",
        "               [4.1, 12.3, 4.8]])\n",
        "\n",
        "# Multidimensional \n",
        "print(A[1][0])\n",
        "# forma mais eficiente para acessar um NumPy array, colocar as dimensões separadas por vírgula\n",
        "print(A[1,0])"
      ],
      "execution_count": null,
      "outputs": [
        {
          "output_type": "stream",
          "text": [
            "1.1\n",
            "1.1\n"
          ],
          "name": "stdout"
        }
      ]
    },
    {
      "cell_type": "code",
      "metadata": {
        "id": "1B4jLQos4U8w",
        "outputId": "318444a9-9228-4b57-ef3f-4f856baf0245",
        "colab": {
          "base_uri": "https://localhost:8080/"
        }
      },
      "source": [
        "# fazendo iteração via for\n",
        "print(\"for:\")\n",
        "for r in arraya2d:\n",
        "    print(r)\n",
        "    \n",
        "print(\"\\nnflat:\")\n",
        "# todos os elmentos, funções e estrura do NumPy são mais rápidas e ocupam menos memória\n",
        "for i in arraya2d.flat:\n",
        "    print(i)\n",
        "  \n",
        "print(arraya2d.flat)\n",
        "print(lista)"
      ],
      "execution_count": null,
      "outputs": [
        {
          "output_type": "stream",
          "text": [
            "for:\n",
            "[ 1  3  5  7  9 11]\n",
            "[ 2  4  6  8 10 12]\n",
            "[0 1 2 3 4 5]\n",
            "\n",
            "nflat:\n",
            "1\n",
            "3\n",
            "5\n",
            "7\n",
            "9\n",
            "11\n",
            "2\n",
            "4\n",
            "6\n",
            "8\n",
            "10\n",
            "12\n",
            "0\n",
            "1\n",
            "2\n",
            "3\n",
            "4\n",
            "5\n",
            "<numpy.flatiter object at 0x2cde100>\n",
            "<numpy.flatiter object at 0x2cdec00>\n"
          ],
          "name": "stdout"
        }
      ]
    },
    {
      "cell_type": "markdown",
      "metadata": {
        "id": "Isg5AmC_1UCZ"
      },
      "source": [
        "#Slicing (fatiamento) - dois pontos (:)\n",
        "* Similar ao funcinamento de listas, strings, mas podemos usar em múltiplas dimensões\n",
        "\n",
        "> Bloco com recuo\n",
        "\n",
        "\n",
        "* Um slice é uma VIEW do array originla, ou seja, o dado não é copiado"
      ]
    },
    {
      "cell_type": "code",
      "metadata": {
        "id": "xqk8lWSO1ba5",
        "outputId": "4ac18691-c2ce-40d5-8387-1dc183b398a1",
        "colab": {
          "base_uri": "https://localhost:8080/"
        }
      },
      "source": [
        "# Uma dimensão\n",
        "S = np.array([0, 1, 2, 3, 4, 5, 6, 7, 8, 9])\n",
        "# fatia do segundo elemento ao quarto elemento\n",
        "print(\"S[2:5]\")\n",
        "print(S[2:5])\n",
        "#fatia desde o início até o terceiro elemento\n",
        "print(\"\\nS[:4]\")\n",
        "print(S[:4])\n",
        "#fatia do sexto elemnto até o último\n",
        "print(\"\\nS[6:]\")\n",
        "print(S[6:])\n",
        "#fatia do início ao fim\n",
        "print(\"\\nS[:]\")\n",
        "print(S[:])\n",
        "# fatia do último elemento até o fim\n",
        "print(\"\\nS[-1:]\")\n",
        "print(S[-1:])"
      ],
      "execution_count": null,
      "outputs": [
        {
          "output_type": "stream",
          "text": [
            "S[2:5]\n",
            "[2 3 4]\n",
            "\n",
            "S[:4]\n",
            "[0 1 2 3]\n",
            "\n",
            "S[6:]\n",
            "[6 7 8 9]\n",
            "\n",
            "S[:]\n",
            "[0 1 2 3 4 5 6 7 8 9]\n",
            "\n",
            "S[-1:]\n",
            "[9]\n"
          ],
          "name": "stdout"
        }
      ]
    },
    {
      "cell_type": "code",
      "metadata": {
        "id": "1gl01L145-wP",
        "outputId": "01961c4d-6675-4c4e-938a-cf5cd27f5e72",
        "colab": {
          "base_uri": "https://localhost:8080/"
        }
      },
      "source": [
        "# fatiando para duas dimensões\n",
        "A = np.array([\n",
        "[11, 12, 13, 14, 15],\n",
        "[21, 22, 23, 24, 25],\n",
        "[31, 32, 33, 34, 35],\n",
        "[41, 42, 43, 44, 45],\n",
        "[51, 52, 53, 54, 55]])\n",
        "\n",
        "print(A[:3, 2:])"
      ],
      "execution_count": null,
      "outputs": [
        {
          "output_type": "stream",
          "text": [
            "[[13 14 15]\n",
            " [23 24 25]\n",
            " [33 34 35]]\n"
          ],
          "name": "stdout"
        }
      ]
    },
    {
      "cell_type": "code",
      "metadata": {
        "id": "qZA8xS9x6JvB",
        "outputId": "f98d4acf-c3b5-409d-b51d-c70926e48b61",
        "colab": {
          "base_uri": "https://localhost:8080/"
        }
      },
      "source": [
        "print(A[3:, :])"
      ],
      "execution_count": null,
      "outputs": [
        {
          "output_type": "stream",
          "text": [
            "[[41 42 43 44 45]\n",
            " [51 52 53 54 55]]\n"
          ],
          "name": "stdout"
        }
      ]
    },
    {
      "cell_type": "code",
      "metadata": {
        "id": "l5EZ9gS76NWp",
        "outputId": "4f71a30d-a572-4bfa-f64f-ee9e033e804f",
        "colab": {
          "base_uri": "https://localhost:8080/"
        }
      },
      "source": [
        "print(A[:, 4:])"
      ],
      "execution_count": null,
      "outputs": [
        {
          "output_type": "stream",
          "text": [
            "[[15]\n",
            " [25]\n",
            " [35]\n",
            " [45]\n",
            " [55]]\n"
          ],
          "name": "stdout"
        }
      ]
    },
    {
      "cell_type": "code",
      "metadata": {
        "id": "NSmJHsB36PNw",
        "outputId": "870bcec0-79d9-42ba-e76c-ca5c47c4a349",
        "colab": {
          "base_uri": "https://localhost:8080/"
        }
      },
      "source": [
        "# para especificar a dimensao, sempre utilizar os dois pontos (:)\n",
        "# evitar utilizar indices fixos, para as dimensoes nao ficarem livres\n",
        "a = np.ones((3,3))\n",
        "print('a: matrix 3x3')\n",
        "l = []\n",
        "l.append(('[:2,1]',a[:2,1].shape))\n",
        "l.append(('[:,-1]',a[:,-1].shape))\n",
        "l.append(('[2]',a[2].shape))\n",
        "l.append(('[2,:]',a[2,:].shape))\n",
        "l.append(('[2:,:]',a[2:,:].shape))\n",
        "l.append(('[:2,1:]',a[:2,1:].shape))\n",
        "l.append(('[:,-1:]',a[:,-1:].shape))\n",
        "for i in l:\n",
        "    print(i)"
      ],
      "execution_count": null,
      "outputs": [
        {
          "output_type": "stream",
          "text": [
            "a: matrix 3x3\n",
            "('[:2,1]', (2,))\n",
            "('[:,-1]', (3,))\n",
            "('[2]', (3,))\n",
            "('[2,:]', (3,))\n",
            "('[2:,:]', (1, 3))\n",
            "('[:2,1:]', (2, 2))\n",
            "('[:,-1:]', (3, 1))\n"
          ],
          "name": "stdout"
        }
      ]
    },
    {
      "cell_type": "markdown",
      "metadata": {
        "id": "yLUj1lcMIPD2"
      },
      "source": [
        "##ravel e reshape\n",
        "* Não fazem cópia, logo alteram a estrutura original\n",
        "\n"
      ]
    },
    {
      "cell_type": "code",
      "metadata": {
        "id": "FPme6qIv8Pj6",
        "outputId": "b372284d-22f3-48dd-c37d-09939e8c8c92",
        "colab": {
          "base_uri": "https://localhost:8080/"
        }
      },
      "source": [
        "# ???? rever o que faz ou não faz cópia  \n",
        "# arange(9) -> cria um ndarray com nove elementos\n",
        "# reshape -> quebra o ndarray em um arranjo 3x3\n",
        "a = np.arange(9).reshape((3,3))\n",
        "print('a:\\n',a)\n",
        "\n",
        "# ravel() -> torna o arranjo flat de novo (uma dimensão)\n",
        "b = a.ravel()  \n",
        "print('\\nb = a.ravel():\\n',b)\n",
        "\n",
        "# propriedade do ndarray\n",
        "c = b.reshape(3,3)\n",
        "c[0][1] = 8\n",
        "print('\\nc = b.reshape(3,3):\\n',c) \n",
        "\n",
        "print(\"\\nb =\", b)\n"
      ],
      "execution_count": null,
      "outputs": [
        {
          "output_type": "stream",
          "text": [
            "a:\n",
            " [[0 1 2]\n",
            " [3 4 5]\n",
            " [6 7 8]]\n",
            "\n",
            "b = a.ravel():\n",
            " [0 1 2 3 4 5 6 7 8]\n",
            "\n",
            "c = b.reshape(3,3):\n",
            " [[0 8 2]\n",
            " [3 4 5]\n",
            " [6 7 8]]\n",
            "\n",
            "b = [0 8 2 3 4 5 6 7 8]\n"
          ],
          "name": "stdout"
        }
      ]
    },
    {
      "cell_type": "markdown",
      "metadata": {
        "id": "gs9fTISpJXbE"
      },
      "source": [
        "__Atenção__:\n",
        "- flatten() tem a mesma funcionalidade que ravel(), entretanto flatten() sempre gera uma cópia do array, enquanto ravel() não gerar uma cópia"
      ]
    },
    {
      "cell_type": "code",
      "metadata": {
        "id": "iMIBhOOdJbS6",
        "outputId": "14c97c76-8cc1-4ccf-b0e5-ea1024eb71d7",
        "colab": {
          "base_uri": "https://localhost:8080/"
        }
      },
      "source": [
        "print('a:\\n',a)\n",
        "b = a.ravel()\n",
        "b[1] = -2\n",
        "print('b = a.ravel() com  b[1]=-2\\n', b)\n",
        "print(\"não fez cópia\")\n",
        "print('a:\\n',a)\n",
        "\n",
        "print(5*'-')\n",
        "c = a.flatten()\n",
        "c[2] = -1\n",
        "\n",
        "print('c = a.flatten() with c[2]=-1\\n',c)\n",
        "print(\" fez cópia\")\n",
        "print('a:\\n',a)"
      ],
      "execution_count": null,
      "outputs": [
        {
          "output_type": "stream",
          "text": [
            "a:\n",
            " [[0 8 2]\n",
            " [3 4 5]\n",
            " [6 7 8]]\n",
            "b = a.ravel() com  b[1]=-2\n",
            " [ 0 -2  2  3  4  5  6  7  8]\n",
            "não fez cópia\n",
            "a:\n",
            " [[ 0 -2  2]\n",
            " [ 3  4  5]\n",
            " [ 6  7  8]]\n",
            "-----\n",
            "c = a.flatten() with c[2]=-1\n",
            " [ 0 -2 -1  3  4  5  6  7  8]\n",
            " fez cópia\n",
            "a:\n",
            " [[ 0 -2  2]\n",
            " [ 3  4  5]\n",
            " [ 6  7  8]]\n"
          ],
          "name": "stdout"
        }
      ]
    },
    {
      "cell_type": "markdown",
      "metadata": {
        "id": "o-TfXDndJf69"
      },
      "source": [
        "#Transpose\n"
      ]
    },
    {
      "cell_type": "code",
      "metadata": {
        "id": "bmk4LKYAJdhm",
        "outputId": "d5d589af-8a2d-4d4f-bb23-9f92038e7e26",
        "colab": {
          "base_uri": "https://localhost:8080/"
        }
      },
      "source": [
        "print(\"arraya2d\")\n",
        "print(arraya2d)\n",
        "print(arraya2d.shape)\n",
        "\n",
        "#transposta\n",
        "arraya2d_transposed = arraya2d.T\n",
        "print(\"\\nTransposto\")\n",
        "print(arraya2d_transposed)\n",
        "print(arraya2d_transposed.shape)"
      ],
      "execution_count": null,
      "outputs": [
        {
          "output_type": "stream",
          "text": [
            "arraya2d\n",
            "[[11  3  5  7  9 11]\n",
            " [ 2  4  6  8 10 12]\n",
            " [ 0  1  2  3  4  5]]\n",
            "(3, 6)\n",
            "\n",
            "Transposto\n",
            "[[11  2  0]\n",
            " [ 3  4  1]\n",
            " [ 5  6  2]\n",
            " [ 7  8  3]\n",
            " [ 9 10  4]\n",
            " [11 12  5]]\n",
            "(6, 3)\n"
          ],
          "name": "stdout"
        }
      ]
    },
    {
      "cell_type": "markdown",
      "metadata": {
        "id": "OA0IhCaMJp2r"
      },
      "source": [
        "#Tranbalhando com máscaras booleanas\n",
        "Um array de valores booleanos (máscara boolena) pode ser usado para selecionar elementos em outro array\n",
        "    Máscaras boolenas podem ser usadas para fazer atribuições de maneira mais elegante"
      ]
    },
    {
      "cell_type": "code",
      "metadata": {
        "id": "Xkph6QRZJfU0",
        "outputId": "b759d140-3971-45d9-f083-f7b3584a275e",
        "colab": {
          "base_uri": "https://localhost:8080/"
        }
      },
      "source": [
        "# Array de 18 elementos 3X6\n",
        "x = np.arange(18).reshape(3,6)\n",
        "print(x)\n",
        "\n",
        "#Delimitas os números maiores e menoreos (ou igual) a zete\n",
        "mask = (x > 7)\n",
        "\n",
        "print(\"\\n\",mask)\n",
        "# Imprime apenas os elementos quando for verdadeiro na máscacar, ou seja, maiores que 7\n",
        "print(\"\\n\", x[mask])\n",
        "\n",
        "# Zero os valores maiores que 7\n",
        "x[mask]=0\n",
        "print(\"\\n\",x)"
      ],
      "execution_count": null,
      "outputs": [
        {
          "output_type": "stream",
          "text": [
            "[[ 0  1  2  3  4  5]\n",
            " [ 6  7  8  9 10 11]\n",
            " [12 13 14 15 16 17]]\n",
            "\n",
            " [[False False False False False False]\n",
            " [False False  True  True  True  True]\n",
            " [ True  True  True  True  True  True]]\n",
            "\n",
            " [ 8  9 10 11 12 13 14 15 16 17]\n",
            "\n",
            " [[0 1 2 3 4 5]\n",
            " [6 7 0 0 0 0]\n",
            " [0 0 0 0 0 0]]\n"
          ],
          "name": "stdout"
        }
      ]
    },
    {
      "cell_type": "markdown",
      "metadata": {
        "id": "cdcAe-MAIDxY"
      },
      "source": [
        "# Voltando ao exemplos das temperaturas para aplicar máscara booleana"
      ]
    },
    {
      "cell_type": "code",
      "metadata": {
        "id": "M1oxQ3NCuf4x",
        "outputId": "06941414-ae50-4eb4-d768-353715c2aefb",
        "colab": {
          "base_uri": "https://localhost:8080/"
        }
      },
      "source": [
        "# Do nosso array de temperaturas, do início da aula\n",
        "print(\"Temepraturas em ºC\")\n",
        "print(C)\n",
        "\n",
        "#Mácara para temperaturaws amenas\n",
        "Cmask = (C<21)\n",
        "\n",
        "#Apenas as temperaturas amenas em  ºF\n",
        "print(\"\\nTemperaturas amenas em ºF\")\n",
        "print(C[Cmask]*9/5 + 32)"
      ],
      "execution_count": null,
      "outputs": [
        {
          "output_type": "stream",
          "text": [
            "Temepraturas em ºC\n",
            "[20.1 20.8 21.9 22.5 22.7 22.3 21.8 21.2 20.9 20.1]\n",
            "\n",
            "Temperaturas amenas em ºF\n",
            "[68.18 69.44 69.62 68.18]\n"
          ],
          "name": "stdout"
        }
      ]
    },
    {
      "cell_type": "markdown",
      "metadata": {
        "id": "AnKv6TxmJvsS"
      },
      "source": [
        "##Views\n",
        "\n",
        "    Uma view é criada ao fatiar (slice) um array\n",
        "    Uma view é uma referência a uma parte de um array\n",
        "    Alterar elementos da visualização altera o array original\n",
        "    Se necessário, você pode explicitamente fazer uma cópia\n",
        "\n"
      ]
    },
    {
      "cell_type": "code",
      "metadata": {
        "id": "T8TAnuu3JtyJ",
        "outputId": "00d31894-07b1-42c8-d8d1-07cc451f6581",
        "colab": {
          "base_uri": "https://localhost:8080/"
        }
      },
      "source": [
        "y = x[:,:3] # y é uma view de x\n",
        "print(x)\n",
        "print(y)\n",
        "print(5*'-')\n",
        "y[2,1] = -1\n",
        "print(x)\n",
        "print(y)"
      ],
      "execution_count": null,
      "outputs": [
        {
          "output_type": "stream",
          "text": [
            "[[0 1 2 3 4 5]\n",
            " [6 7 0 0 0 0]\n",
            " [0 0 0 0 0 0]]\n",
            "[[0 1 2]\n",
            " [6 7 0]\n",
            " [0 0 0]]\n",
            "-----\n",
            "[[ 0  1  2  3  4  5]\n",
            " [ 6  7  0  0  0  0]\n",
            " [ 0 -1  0  0  0  0]]\n",
            "[[ 0  1  2]\n",
            " [ 6  7  0]\n",
            " [ 0 -1  0]]\n"
          ],
          "name": "stdout"
        }
      ]
    },
    {
      "cell_type": "code",
      "metadata": {
        "id": "9R0Ix9D4J8dm",
        "outputId": "c9fa1e2f-8cbf-4278-cc63-6df93ecd70d5",
        "colab": {
          "base_uri": "https://localhost:8080/"
        }
      },
      "source": [
        "# fazendo uma cópia\n",
        "z = np.copy(x[:,:3])\n",
        "z[0,0] = -1\n",
        "print(x)\n",
        "print(z)"
      ],
      "execution_count": null,
      "outputs": [
        {
          "output_type": "stream",
          "text": [
            "[[ 0  1  2  3  4  5]\n",
            " [ 6  7  0  0  0  0]\n",
            " [ 0 -1  0  0  0  0]]\n",
            "[[-1  1  2]\n",
            " [ 6  7  0]\n",
            " [ 0 -1  0]]\n"
          ],
          "name": "stdout"
        }
      ]
    },
    {
      "cell_type": "markdown",
      "metadata": {
        "id": "X-cYmByLEqhA"
      },
      "source": [
        "#Operações com NumPY"
      ]
    },
    {
      "cell_type": "code",
      "metadata": {
        "id": "mnRg3EKTI_8o",
        "outputId": "bb5dc7a3-e975-428f-d5a7-2e4b27a01061",
        "colab": {
          "base_uri": "https://localhost:8080/"
        }
      },
      "source": [
        "import numpy as np\n",
        "lst = [2,3, 7.9, 3.3, 6.9, 0.11, 10.3, 12.9]\n",
        "v = np.array(lst)\n",
        "v = v + 2\n",
        "print(v)"
      ],
      "execution_count": null,
      "outputs": [
        {
          "output_type": "stream",
          "text": [
            "[ 4.    5.    9.9   5.3   8.9   2.11 12.3  14.9 ]\n"
          ],
          "name": "stdout"
        }
      ]
    },
    {
      "cell_type": "code",
      "metadata": {
        "id": "KkeqrknaFr9G",
        "outputId": "43e299bf-782f-4f63-d2d9-fcf46f011973",
        "colab": {
          "base_uri": "https://localhost:8080/"
        }
      },
      "source": [
        "# Mais rápido do que....\n",
        "v = np.random.randint(0, 100, 1000)\n",
        "\n",
        "%timeit v + 1"
      ],
      "execution_count": null,
      "outputs": [
        {
          "output_type": "stream",
          "text": [
            "The slowest run took 9.99 times longer than the fastest. This could mean that an intermediate result is being cached.\n",
            "100000 loops, best of 3: 2.28 µs per loop\n"
          ],
          "name": "stdout"
        }
      ]
    },
    {
      "cell_type": "code",
      "metadata": {
        "id": "_5dpS4Z5FuKG",
        "outputId": "50706e63-eb0c-490f-dfca-aae79ade0809",
        "colab": {
          "base_uri": "https://localhost:8080/"
        }
      },
      "source": [
        "# Python puro\n",
        "lst = list(v)\n",
        "\n",
        "%timeit [ val + 2 for val in lst]"
      ],
      "execution_count": null,
      "outputs": [
        {
          "output_type": "stream",
          "text": [
            "1000 loops, best of 3: 343 µs per loop\n"
          ],
          "name": "stdout"
        }
      ]
    },
    {
      "cell_type": "code",
      "metadata": {
        "id": "VtYh0-mGEtVf",
        "outputId": "24e2a724-6aa3-42aa-ecc1-3a986f561565",
        "colab": {
          "base_uri": "https://localhost:8080/"
        }
      },
      "source": [
        "# Operações entre arrays\n",
        "import numpy as np\n",
        "\n",
        "A = np.array([ [11, 12, 13], [21, 22, 23], [31, 32, 33] ])\n",
        "B = np.ones((3,3))\n",
        "\n",
        "print(\"A:\")\n",
        "print(A)\n",
        "\n",
        "print(\"B:\")\n",
        "print(B)\n",
        "\n",
        "\n",
        "print(\"\\nAdição para arrays: \")\n",
        "print(A + B)\n",
        "\n",
        "print(\"\\nMultiplicando dois arrays: \")\n",
        "print(A * (B + 1))"
      ],
      "execution_count": null,
      "outputs": [
        {
          "output_type": "stream",
          "text": [
            "A:\n",
            "[[11 12 13]\n",
            " [21 22 23]\n",
            " [31 32 33]]\n",
            "B:\n",
            "[[1. 1. 1.]\n",
            " [1. 1. 1.]\n",
            " [1. 1. 1.]]\n",
            "\n",
            "Adição para arrays: \n",
            "[[12. 13. 14.]\n",
            " [22. 23. 24.]\n",
            " [32. 33. 34.]]\n",
            "\n",
            "Multiplicando dois arrays: \n",
            "[[22. 24. 26.]\n",
            " [42. 44. 46.]\n",
            " [62. 64. 66.]]\n"
          ],
          "name": "stdout"
        }
      ]
    },
    {
      "cell_type": "code",
      "metadata": {
        "id": "SGSjYp3QFUkn",
        "outputId": "7f98d286-f9b2-48e6-bf3b-62ad8b893f28",
        "colab": {
          "base_uri": "https://localhost:8080/"
        }
      },
      "source": [
        "# Multiplicação de matrizes é outra função (dot)\n",
        "print(np.dot(A,B))"
      ],
      "execution_count": null,
      "outputs": [
        {
          "output_type": "stream",
          "text": [
            "[[36. 36. 36.]\n",
            " [66. 66. 66.]\n",
            " [96. 96. 96.]]\n"
          ],
          "name": "stdout"
        }
      ]
    },
    {
      "cell_type": "markdown",
      "metadata": {
        "id": "REUQpOq1G7_P"
      },
      "source": [
        "#Praticando\n",
        "* Construa um array 4x6\n",
        "* Usando a função reshape, construa a sua transposta (6x4)"
      ]
    },
    {
      "cell_type": "code",
      "metadata": {
        "id": "wo7qkxf7G68A"
      },
      "source": [
        "# coloque seu código abaixo"
      ],
      "execution_count": null,
      "outputs": []
    },
    {
      "cell_type": "markdown",
      "metadata": {
        "id": "OoKvJ8WEHqsJ"
      },
      "source": [
        ""
      ]
    },
    {
      "cell_type": "markdown",
      "metadata": {
        "id": "Z_hIDjnH01yK"
      },
      "source": [
        "#Dicionário\n"
      ]
    },
    {
      "cell_type": "code",
      "metadata": {
        "id": "3fkWInaQ1J2w",
        "outputId": "f681ea33-03e4-48f8-e5a2-5c0af4bf113b",
        "colab": {
          "base_uri": "https://localhost:8080/"
        }
      },
      "source": [
        "Corretor = {}\n",
        "paragrafo = \"Pão de queijo é bom demais\\n o Rato roeu a roupa do rei de roma\"\n",
        "array = np.array(paragrafo)\n",
        "palavras = paragrafo.split()\n",
        "print (palavras)\n",
        "\n",
        "for palavra in palavras:\n",
        "  Termo = {palavra[0:x] + palavra[x+1:len(palavra)]:palavra for x in range(0, len(palavra))}\n",
        "  for chave in Termo:\n",
        "    Corretor[chave] = Termo[chave]\n",
        "\n",
        "print(Corretor)"
      ],
      "execution_count": null,
      "outputs": [
        {
          "output_type": "stream",
          "text": [
            "['Pão', 'de', 'queijo', 'é', 'bom', 'demais', 'o', 'Rato', 'roeu', 'a', 'roupa', 'do', 'rei', 'de', 'roma']\n",
            "{'ão': 'Pão', 'Po': 'Pão', 'Pã': 'Pão', 'e': 'de', 'd': 'de', 'ueijo': 'queijo', 'qeijo': 'queijo', 'quijo': 'queijo', 'quejo': 'queijo', 'queio': 'queijo', 'queij': 'queijo', '': 'a', 'om': 'bom', 'bm': 'bom', 'bo': 'bom', 'emais': 'demais', 'dmais': 'demais', 'deais': 'demais', 'demis': 'demais', 'demas': 'demais', 'demai': 'demais', 'ato': 'Rato', 'Rto': 'Rato', 'Rao': 'Rato', 'Rat': 'Rato', 'oeu': 'roeu', 'reu': 'roeu', 'rou': 'roeu', 'roe': 'roeu', 'oupa': 'roupa', 'rupa': 'roupa', 'ropa': 'roupa', 'roua': 'roupa', 'roup': 'roupa', 'o': 'do', 'ei': 'rei', 'ri': 'rei', 're': 'rei', 'oma': 'roma', 'rma': 'roma', 'roa': 'roma', 'rom': 'roma'}\n"
          ],
          "name": "stdout"
        }
      ]
    },
    {
      "cell_type": "code",
      "metadata": {
        "id": "d-FQr-OD27wy",
        "outputId": "861d7ba6-3b3a-4fc8-915d-bf5511043fc9",
        "colab": {
          "base_uri": "https://localhost:8080/"
        }
      },
      "source": [
        "# com arrayhah\n",
        "Corretor = {}\n",
        "paragrafo = \"Pão de queijo é bom demais\"\n",
        "palavras = paragrafo.split()\n",
        "array = np.array(palavras)\n",
        "\n",
        "for palavra in array.flat:\n",
        "  Termo = {palavra[0:x] + palavra[x+1:len(palavra)]:palavra for x in range(0, len(palavra))}\n",
        "  for chave in Termo:\n",
        "    Corretor[chave] = Termo[chave]\n",
        "\n",
        "print(Corretor)"
      ],
      "execution_count": null,
      "outputs": [
        {
          "output_type": "stream",
          "text": [
            "{'ão': 'Pão', 'Po': 'Pão', 'Pã': 'Pão', 'e': 'de', 'd': 'de', 'ueijo': 'queijo', 'qeijo': 'queijo', 'quijo': 'queijo', 'quejo': 'queijo', 'queio': 'queijo', 'queij': 'queijo', '': 'é', 'om': 'bom', 'bm': 'bom', 'bo': 'bom', 'emais': 'demais', 'dmais': 'demais', 'deais': 'demais', 'demis': 'demais', 'demas': 'demais', 'demai': 'demais'}\n"
          ],
          "name": "stdout"
        }
      ]
    }
  ]
}