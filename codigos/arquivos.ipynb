{
 "cells": [
  {
   "cell_type": "markdown",
   "metadata": {},
   "source": [
    "# Introdução ao  Python com Ciência de Dados\n",
    "## Instituto Federal de Educação, Ciência e Tecnologia de São Paulo (IFSP) \n",
    "## Campus Birigui\n",
    "\n",
    "\n",
    "\n",
    "\n",
    "\n",
    "\n",
    "Professores:\n",
    "* Felipe Cavenaghi\n",
    "* Rafael Stoffalette João\n"
   ]
  },
  {
   "cell_type": "markdown",
   "metadata": {},
   "source": [
    "# Manipulação de arquivos de texto\n"
   ]
  },
  {
   "cell_type": "markdown",
   "metadata": {},
   "source": [
    "##  Para manipular o arquivo, temos que ter um arquivo...\n",
    "## deve ser armazenado na mesma pasta que o arquivo jupyter que contém esses códigos"
   ]
  },
  {
   "cell_type": "code",
   "execution_count": null,
   "metadata": {
    "scrolled": false
   },
   "outputs": [],
   "source": [
    "#os — Miscellaneous operating system interfaces\n",
    "from os import listdir\n",
    "\n",
    "listdir('./')"
   ]
  },
  {
   "cell_type": "markdown",
   "metadata": {},
   "source": [
    "# Para abrir um arquivo, utilizamos o comando open"
   ]
  },
  {
   "cell_type": "code",
   "execution_count": null,
   "metadata": {},
   "outputs": [],
   "source": [
    "arquivo = open(\"dados.txt\", \"r+\")\n",
    "#\n",
    "# \"r\" - Read/Leitura - Default value. Abre arquivo para leitura - Erro se o arquivo não existir\n",
    "\n",
    "# \"a\" - Append/Atualização - Abre o arquivo para inserção de conteúdo ao final. Cria o arquivo se não existir\n",
    "\n",
    "# \"w\" - Write/Escrita - Abre o arquivo para escrita. Cria o arquivo caso não exista\n",
    "\n",
    "# \"x\" - Create/Criação - Cria um arquivo. Retorna erro caso o arquivo já exista.\n",
    "\n",
    "\n",
    "\n",
    "# |          Mode          |  r   |  r+  |  w   |  w+  |  a   |  a+  |\n",
    "# | :--------------------: | :--: | :--: | :--: | :--: | :--: | :--: |\n",
    "# |          Read          |  +   |  +   |      |  +   |      |  +   |\n",
    "# |         Write          |      |  +   |  +   |  +   |  +   |  +   |\n",
    "# |         Create         |      |      |  +   |  +   |  +   |  +   |\n",
    "# |         Cover          |      |      |  +   |  +   |      |      |\n",
    "# | Point in the beginning |  +   |  +   |  +   |  +   |      |      |\n",
    "# |    Point in the end    |      |      |      |      |  +   |  +   |"
   ]
  },
  {
   "cell_type": "code",
   "execution_count": null,
   "metadata": {},
   "outputs": [],
   "source": [
    "# ler o conteúdo de um arquivo\n",
    "conteudo = arquivo.read()\n",
    "conteudo"
   ]
  },
  {
   "cell_type": "code",
   "execution_count": null,
   "metadata": {},
   "outputs": [],
   "source": [
    "#ler somente uma parte do arquivo\n",
    "\n",
    "arquivo.read(15)\n"
   ]
  },
  {
   "cell_type": "code",
   "execution_count": null,
   "metadata": {},
   "outputs": [],
   "source": [
    "#ler uma linha do arquivo\n",
    "print(arquivo.readline())\n"
   ]
  },
  {
   "cell_type": "code",
   "execution_count": null,
   "metadata": {},
   "outputs": [],
   "source": [
    "# passar por todas as linhas do arquivo\n",
    "\n",
    "for linha in arquivo:\n",
    "    print(linha)"
   ]
  },
  {
   "cell_type": "code",
   "execution_count": null,
   "metadata": {},
   "outputs": [],
   "source": [
    "#Para inserir conteúdo no arquivo\n",
    "\n",
    "arquivo.write(\"Conteúdo novo inserido \")\n"
   ]
  },
  {
   "cell_type": "markdown",
   "metadata": {},
   "source": [
    "# MUITO IMPORTANTE\n",
    "## Precisamos fechar o arquivo após sua utilização"
   ]
  },
  {
   "cell_type": "code",
   "execution_count": null,
   "metadata": {},
   "outputs": [],
   "source": [
    "arquivo.close()"
   ]
  },
  {
   "cell_type": "code",
   "execution_count": 41,
   "metadata": {},
   "outputs": [
    {
     "name": "stdout",
     "output_type": "stream",
     "text": [
      "4\n",
      "\n"
     ]
    }
   ],
   "source": [
    "#with se encarrega de fechar o arquivo quando não o utilizamos mais \n",
    "novoconteudo = \"x\"\n",
    "\n",
    "with open('dados.txt', \"r+\") as arq:\n",
    "    conteudo = arq.readlines()\n",
    "    tamanhoArquivo = len(conteudo)\n",
    "    print(tamanhoArquivo)\n",
    "    linha = arq.readline()\n",
    "    print(linha)"
   ]
  },
  {
   "cell_type": "code",
   "execution_count": null,
   "metadata": {},
   "outputs": [],
   "source": []
  }
 ],
 "metadata": {
  "kernelspec": {
   "display_name": "Python 3",
   "language": "python",
   "name": "python3"
  },
  "language_info": {
   "codemirror_mode": {
    "name": "ipython",
    "version": 3
   },
   "file_extension": ".py",
   "mimetype": "text/x-python",
   "name": "python",
   "nbconvert_exporter": "python",
   "pygments_lexer": "ipython3",
   "version": "3.7.3"
  }
 },
 "nbformat": 4,
 "nbformat_minor": 4
}
