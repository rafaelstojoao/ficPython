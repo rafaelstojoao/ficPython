{
 "cells": [
  {
   "cell_type": "markdown",
   "metadata": {},
   "source": [
    "# Introdução ao  Python com Ciência de Dados\n",
    "## Instituto Federal de Educação, Ciência e Tecnologia de São Paulo (IFSP) \n",
    "## Campus Birigui\n",
    "\n",
    "\n",
    "\n",
    "\n",
    "\n",
    "\n",
    "Professores:\n",
    "* Felipe Cavenaghi\n",
    "* Rafael Stoffalette João\n"
   ]
  },
  {
   "cell_type": "markdown",
   "metadata": {},
   "source": [
    "# Manipulação de arquivos de texto\n"
   ]
  },
  {
   "cell_type": "markdown",
   "metadata": {},
   "source": [
    "##  Para manipular o arquivo, temos que ter um arquivo? \n",
    "## deve ser armazenado na mesma pasta que o arquivo jupyter que contém esses códigos"
   ]
  },
  {
   "cell_type": "code",
   "execution_count": 53,
   "metadata": {
    "scrolled": false
   },
   "outputs": [
    {
     "data": {
      "text/plain": [
       "['bancoDeDados.ipynb',\n",
       " 'ficpythonpkg',\n",
       " 'meudb_aula01.db',\n",
       " 'dataset_todas_palavras_portugues.txt',\n",
       " 'rascunhos.ipynb',\n",
       " 'scriptARGS.py',\n",
       " 'IPCD_Aula_01.ipynb',\n",
       " '__pycache__',\n",
       " 'IPCD_Aula_02.ipynb',\n",
       " 'contas.py',\n",
       " 'arquivos.ipynb',\n",
       " 'calculadora.py',\n",
       " '.ipynb_checkpoints']"
      ]
     },
     "execution_count": 53,
     "metadata": {},
     "output_type": "execute_result"
    }
   ],
   "source": [
    "#os — Miscellaneous operating system interfaces\n",
    "from os import listdir\n",
    "\n",
    "listdir('/mnt/DADOS/DOCS/ifsp/2020/semestre2/FICPython/codigos/')"
   ]
  },
  {
   "cell_type": "markdown",
   "metadata": {},
   "source": [
    "# Para abrir um arquivo, utilizamos o comando open"
   ]
  },
  {
   "cell_type": "code",
   "execution_count": 58,
   "metadata": {},
   "outputs": [],
   "source": [
    "arquivo = open(\"./dados.txt\", \"r+\")\n",
    "\n",
    "# \"r\" - Read/Leitura - Default value. Abre arquivo para leitura - Erro se o arquivo não existir\n",
    "\n",
    "# \"a\" - Append/Atualização - Abre o arquivo para inserção de conteúdo ao final. Cria o arquivo se não existir\n",
    "\n",
    "# \"w\" - Write/Escrita - Abre o arquivo para escrita. Cria o arquivo caso não exista\n",
    "\n",
    "# \"x\" - Create/Criação - Cria um arquivo. Retorna erro caso o arquivo já exista.\n",
    "\n",
    "\n",
    "\n",
    "# |          Mode          |  r   |  r+  |  w   |  w+  |  a   |  a+  |\n",
    "# | :--------------------: | :--: | :--: | :--: | :--: | :--: | :--: |\n",
    "# |          Read          |  +   |  +   |      |  +   |      |  +   |\n",
    "# |         Write          |      |  +   |  +   |  +   |  +   |  +   |\n",
    "# |         Create         |      |      |  +   |  +   |  +   |  +   |\n",
    "# |         Cover          |      |      |  +   |  +   |      |      |\n",
    "# | Point in the beginning |  +   |  +   |  +   |  +   |      |      |\n",
    "# |    Point in the end    |      |      |      |      |  +   |  +   |"
   ]
  },
  {
   "cell_type": "code",
   "execution_count": 59,
   "metadata": {},
   "outputs": [
    {
     "data": {
      "text/plain": [
       "'Nome, idade\\nRafael, 12\\nCarlos, 15\\nJoão, 23\\nCelso, 19'"
      ]
     },
     "execution_count": 59,
     "metadata": {},
     "output_type": "execute_result"
    }
   ],
   "source": [
    "# ler o conteúdo de um arquivo\n",
    "conteudo = arquivo.read()\n",
    "conteudo\n",
    "# type(conteudo)"
   ]
  },
  {
   "cell_type": "code",
   "execution_count": null,
   "metadata": {},
   "outputs": [],
   "source": []
  },
  {
   "cell_type": "code",
   "execution_count": 76,
   "metadata": {},
   "outputs": [
    {
     "name": "stdout",
     "output_type": "stream",
     "text": [
      "Nome, idade\n",
      "\n",
      "Rafael, 12\n",
      "\n"
     ]
    }
   ],
   "source": [
    "#ler uma linha do arquivo\n",
    "\n",
    "arquivo.seek(0)\n",
    "\n",
    "# print(arquivo.read(10))\n",
    "\n",
    "print(arquivo.readline())\n",
    "\n"
   ]
  },
  {
   "cell_type": "code",
   "execution_count": 77,
   "metadata": {},
   "outputs": [
    {
     "name": "stdout",
     "output_type": "stream",
     "text": [
      "Nome, idade\n",
      "\n",
      "Rafael, 12\n",
      "\n",
      "Carlos, 15\n",
      "\n",
      "João, 23\n",
      "\n",
      "Celso, 19\n"
     ]
    }
   ],
   "source": [
    "# passar por todas as linhas do arquivo\n",
    "arquivo = open('dados.txt','r+')\n",
    "# arquivo.seek(0) #oou posicionar no byte 0\n",
    "\n",
    "for linha in arquivo:\n",
    "    print(linha)"
   ]
  },
  {
   "cell_type": "code",
   "execution_count": 83,
   "metadata": {},
   "outputs": [
    {
     "name": "stdout",
     "output_type": "stream",
     "text": [
      "Novo cabeçalho!el, 12\n",
      "\n",
      "Carlos, 15\n",
      "\n",
      "João, 23\n",
      "\n",
      "Celso, 19Conteúdo novo inserido!Conteúdo novo inserido!Conteúdo novo inserido!Conteúdo novo inserido!\n"
     ]
    }
   ],
   "source": [
    "#Para inserir conteúdo no arquivo\n",
    "\n",
    "arquivo.seek(0) #posicionamento do ponteiro novamente no início do arquivo\n",
    "arquivo.write(\"Novo cabeçalho!\")\n",
    "\n",
    "\n",
    "\n",
    "arquivo.seek(0) #posicionamento do ponteiro novamente no início do arquivo\n",
    "\n",
    "\n",
    "\n",
    "for linha in arquivo:\n",
    "    print(linha)\n"
   ]
  },
  {
   "cell_type": "markdown",
   "metadata": {},
   "source": [
    "# MUITO IMPORTANTE\n",
    "## Precisamos fechar o arquivo após sua utilização"
   ]
  },
  {
   "cell_type": "code",
   "execution_count": 86,
   "metadata": {},
   "outputs": [],
   "source": [
    "arquivo.close()\n",
    "\n",
    "# arquivo.read()"
   ]
  },
  {
   "cell_type": "code",
   "execution_count": 89,
   "metadata": {},
   "outputs": [
    {
     "name": "stdout",
     "output_type": "stream",
     "text": [
      "5\n",
      "Aquivo manipulado!\n"
     ]
    },
    {
     "ename": "ValueError",
     "evalue": "I/O operation on closed file.",
     "output_type": "error",
     "traceback": [
      "\u001b[0;31m---------------------------------------------------------------------------\u001b[0m",
      "\u001b[0;31mValueError\u001b[0m                                Traceback (most recent call last)",
      "\u001b[0;32m<ipython-input-89-1334bec6db0c>\u001b[0m in \u001b[0;36m<module>\u001b[0;34m\u001b[0m\n\u001b[1;32m     12\u001b[0m \u001b[0;34m\u001b[0m\u001b[0m\n\u001b[1;32m     13\u001b[0m \u001b[0mprint\u001b[0m\u001b[0;34m(\u001b[0m\u001b[0;34m'Aquivo manipulado!'\u001b[0m\u001b[0;34m)\u001b[0m\u001b[0;34m\u001b[0m\u001b[0;34m\u001b[0m\u001b[0m\n\u001b[0;32m---> 14\u001b[0;31m \u001b[0marq\u001b[0m\u001b[0;34m.\u001b[0m\u001b[0mseek\u001b[0m\u001b[0;34m(\u001b[0m\u001b[0;36m0\u001b[0m\u001b[0;34m)\u001b[0m\u001b[0;34m\u001b[0m\u001b[0;34m\u001b[0m\u001b[0m\n\u001b[0m\u001b[1;32m     15\u001b[0m \u001b[0marq\u001b[0m\u001b[0;34m.\u001b[0m\u001b[0mread\u001b[0m\u001b[0;34m(\u001b[0m\u001b[0;34m)\u001b[0m\u001b[0;34m\u001b[0m\u001b[0;34m\u001b[0m\u001b[0m\n",
      "\u001b[0;31mValueError\u001b[0m: I/O operation on closed file."
     ]
    }
   ],
   "source": [
    "\n",
    "\n",
    "\n",
    "#with se encarrega de fechar o arquivo quando não o utilizamos mais \n",
    "novoconteudo = \"x\"\n",
    "\n",
    "\n",
    "\n",
    "with open('dados.txt', \"r+\") as arq:\n",
    "    conteudo = arq.readlines()\n",
    "    tamanhoArquivo = len(conteudo)\n",
    "    print(tamanhoArquivo)\n",
    "    \n",
    "    \n",
    "    \n",
    "print('Aquivo manipulado!')\n",
    "arq.seek(0)\n",
    "arq.read()\n"
   ]
  },
  {
   "cell_type": "code",
   "execution_count": null,
   "metadata": {},
   "outputs": [],
   "source": []
  }
 ],
 "metadata": {
  "kernelspec": {
   "display_name": "Python 3",
   "language": "python",
   "name": "python3"
  },
  "language_info": {
   "codemirror_mode": {
    "name": "ipython",
    "version": 3
   },
   "file_extension": ".py",
   "mimetype": "text/x-python",
   "name": "python",
   "nbconvert_exporter": "python",
   "pygments_lexer": "ipython3",
   "version": "3.7.3"
  }
 },
 "nbformat": 4,
 "nbformat_minor": 4
}
