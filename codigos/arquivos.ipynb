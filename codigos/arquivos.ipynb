{
 "cells": [
  {
   "cell_type": "markdown",
   "metadata": {},
   "source": [
    "# Introdução ao  Python com Ciência de Dados\n",
    "## Instituto Federal de Educação, Ciência e Tecnologia de São Paulo (IFSP) \n",
    "## Campus Birigui\n",
    "\n",
    "\n",
    "\n",
    "\n",
    "\n",
    "\n",
    "Professores:\n",
    "* Felipe Cavenaghi\n",
    "* Rafael Stoffalette João\n"
   ]
  },
  {
   "cell_type": "markdown",
   "metadata": {},
   "source": [
    "# Manipulação de arquivos de texto\n"
   ]
  },
  {
   "cell_type": "markdown",
   "metadata": {},
   "source": [
    "##  Para manipular o arquivo, temos que ter um arquivo? \n",
    "## deve ser armazenado na mesma pasta que o arquivo jupyter que contém esses códigos"
   ]
  },
  {
   "cell_type": "code",
   "execution_count": 17,
   "metadata": {
    "scrolled": false
   },
   "outputs": [
    {
     "data": {
      "text/plain": [
       "['bancoDeDados.ipynb',\n",
       " 'manipuladados',\n",
       " 'ficpythonpkg',\n",
       " 'meudb_aula01.db',\n",
       " 'dataset_todas_palavras_portugues.txt',\n",
       " 'rascunhos.ipynb',\n",
       " 'scriptARGS.py',\n",
       " 'IPCD_Aula_01.ipynb',\n",
       " '__pycache__',\n",
       " 'IPCD_Aula_02.ipynb',\n",
       " 'contas.py',\n",
       " 'exemploClasseEmArquivo.py',\n",
       " 'arquivos.ipynb',\n",
       " 'calculadora.py',\n",
       " '.ipynb_checkpoints',\n",
       " 'aula02.zip']"
      ]
     },
     "execution_count": 17,
     "metadata": {},
     "output_type": "execute_result"
    }
   ],
   "source": [
    "#os — Miscellaneous operating system interfaces\n",
    "from os import listdir\n",
    "\n",
    "\n",
    "listdir('./')"
   ]
  },
  {
   "cell_type": "markdown",
   "metadata": {},
   "source": [
    "# Para abrir um arquivo, utilizamos o comando open"
   ]
  },
  {
   "cell_type": "code",
   "execution_count": 23,
   "metadata": {},
   "outputs": [],
   "source": [
    "arquivo = open(\"./dados.txt\", \"a+\")\n",
    "\n",
    "# \"r\" - Read/Leitura - Default value. Abre arquivo para leitura - Erro se o arquivo não existir\n",
    "\n",
    "# \"a\" - Append/Atualização - Abre o arquivo para inserção de conteúdo ao final. Cria o arquivo se não existir\n",
    "\n",
    "# \"w\" - Write/Escrita - Abre o arquivo para escrita. Cria o arquivo caso não exista\n",
    "\n",
    "# \"x\" - Create/Criação - Cria um arquivo. Retorna erro caso o arquivo já exista.\n",
    "\n",
    "\n",
    "\n",
    "# |          Mode          |  r   |  r+  |  w   |  w+  |  a   |  a+  |\n",
    "# | :--------------------: | :--: | :--: | :--: | :--: | :--: | :--: |\n",
    "# |          Read          |  +   |  +   |      |  +   |      |  +   |\n",
    "# |         Write          |      |  +   |  +   |  +   |  +   |  +   |\n",
    "# |         Create         |      |      |  +   |  +   |  +   |  +   |\n",
    "# |         Cover          |      |      |  +   |  +   |      |      |\n",
    "# | Point in the beginning |  +   |  +   |  +   |  +   |      |      |\n",
    "# |    Point in the end    |      |      |      |      |  +   |  +   |"
   ]
  },
  {
   "cell_type": "code",
   "execution_count": 27,
   "metadata": {},
   "outputs": [
    {
     "data": {
      "text/plain": [
       "'Nome, idade\\nRafael, 32\\nCaio, 25\\nLucas, 39\\nHeitor, 78'"
      ]
     },
     "execution_count": 27,
     "metadata": {},
     "output_type": "execute_result"
    }
   ],
   "source": [
    "# ler o conteúdo de um arquivo\n",
    "arquivo.seek(0)\n",
    "\n",
    "conteudo = arquivo.read()\n",
    "\n",
    "conteudo\n",
    "# type(conteudo)"
   ]
  },
  {
   "cell_type": "code",
   "execution_count": 28,
   "metadata": {},
   "outputs": [
    {
     "name": "stdout",
     "output_type": "stream",
     "text": [
      "Nome, idade\n",
      "\n"
     ]
    }
   ],
   "source": [
    "#ler uma linha do arquivo\n",
    "\n",
    "arquivo.seek(0)\n",
    "\n",
    "# print(arquivo.read(10))\n",
    "\n",
    "print(arquivo.readline())\n",
    "\n"
   ]
  },
  {
   "cell_type": "code",
   "execution_count": 33,
   "metadata": {},
   "outputs": [
    {
     "name": "stdout",
     "output_type": "stream",
     "text": [
      "Nome, idade\n",
      "\n",
      "Rafael, 32\n",
      "\n",
      "Caio, 25\n",
      "\n",
      "Lucas, 39\n",
      "\n",
      "Heitor, 78\n",
      "Nome, idade\n",
      "\n"
     ]
    }
   ],
   "source": [
    "# passar por todas as linhas do arquivo\n",
    "arquivo = open('dados.txt','r+')\n",
    "# arquivo.seek(0) #oou posicionar no byte 0\n",
    "\n",
    "for linha in arquivo:\n",
    "    print(linha)\n",
    "#     arquivo.seek(0)\n",
    "print(arquivo.readline())"
   ]
  },
  {
   "cell_type": "code",
   "execution_count": 36,
   "metadata": {},
   "outputs": [
    {
     "name": "stdout",
     "output_type": "stream",
     "text": [
      "novo cabeçalho\n",
      "\n",
      "el, 32\n",
      "\n",
      "Caio, 25\n",
      "\n",
      "Lucas, 39\n",
      "\n",
      "Heitor, 78Nova informação! \n",
      "\n",
      "Nova informação 2! \n",
      "\n"
     ]
    }
   ],
   "source": [
    "#Para inserir conteúdo no arquivo\n",
    "\n",
    "arquivo.seek(0) #posicionamento do ponteiro novamente no início do arquivo\n",
    "arquivo.write(\"novo cabeçalho\\n\")\n",
    "\n",
    "\n",
    "\n",
    "arquivo.seek(0) #posicionamento do ponteiro novamente no início do arquivo\n",
    "\n",
    "for linha in arquivo:\n",
    "    print(linha)\n"
   ]
  },
  {
   "cell_type": "markdown",
   "metadata": {},
   "source": [
    "# MUITO IMPORTANTE\n",
    "## Precisamos fechar o arquivo após sua utilização"
   ]
  },
  {
   "cell_type": "code",
   "execution_count": 39,
   "metadata": {},
   "outputs": [],
   "source": [
    "arquivo.close()\n",
    "\n",
    "# arquivo.read()"
   ]
  },
  {
   "cell_type": "code",
   "execution_count": 42,
   "metadata": {},
   "outputs": [
    {
     "name": "stdout",
     "output_type": "stream",
     "text": [
      "6\n",
      "Aquivo manipulado!\n",
      "novo cabeçalho\n",
      "el, 32\n",
      "Caio, 25\n",
      "Lucas, 39\n",
      "Heitor, 78Nova informação! \n",
      "Nova informação 2! \n",
      "\n"
     ]
    }
   ],
   "source": [
    "\n",
    "\n",
    "\n",
    "#with se encarrega de fechar o arquivo quando não o utilizamos mais \n",
    "\n",
    "with open('dados.txt', \"r+\") as arq:\n",
    "    conteudo = arq.readlines()\n",
    "    tamanhoArquivo = len(conteudo) #quantidade de linhas que tem no arquivo arq\n",
    "    print(tamanhoArquivo)\n",
    "    \n",
    "    \n",
    "\n",
    "    print('Aquivo manipulado!')\n",
    "    arq.seek(0)\n",
    "    print(arq.read())\n",
    "\n"
   ]
  },
  {
   "cell_type": "code",
   "execution_count": null,
   "metadata": {},
   "outputs": [],
   "source": []
  }
 ],
 "metadata": {
  "kernelspec": {
   "display_name": "Python 3",
   "language": "python",
   "name": "python3"
  },
  "language_info": {
   "codemirror_mode": {
    "name": "ipython",
    "version": 3
   },
   "file_extension": ".py",
   "mimetype": "text/x-python",
   "name": "python",
   "nbconvert_exporter": "python",
   "pygments_lexer": "ipython3",
   "version": "3.7.3"
  }
 },
 "nbformat": 4,
 "nbformat_minor": 4
}
