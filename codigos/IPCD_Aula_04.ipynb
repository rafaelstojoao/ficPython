{
  "nbformat": 4,
  "nbformat_minor": 0,
  "metadata": {
    "colab": {
      "name": "IPCD_Aula_04_editado.ipynb",
      "provenance": [],
      "collapsed_sections": []
    },
    "kernelspec": {
      "display_name": "Python 3",
      "language": "python",
      "name": "python3"
    },
    "language_info": {
      "codemirror_mode": {
        "name": "ipython",
        "version": 3
      },
      "file_extension": ".py",
      "mimetype": "text/x-python",
      "name": "python",
      "nbconvert_exporter": "python",
      "pygments_lexer": "ipython3",
      "version": "3.7.3"
    }
  },
  "cells": [
    {
      "cell_type": "markdown",
      "metadata": {
        "id": "dgqyFQd5WLTm"
      },
      "source": [
        "# Introdução ao  Python com Ciência de Dados\n",
        "\n",
        "Professores:\n",
        "* Felipe Cavenaghi\n",
        "* Rafael Stoffalette João\n",
        "\n",
        "## Ementa\n",
        "1. Python: \n",
        "  * Ambiente de Programação\n",
        "  * tipos de dados, sequências e operações, estruturas de controle e repetição\n",
        "  * Python: referências, funções, funções avançadas e comprehention\n",
        "  * Python: I/O e noções básicas de classes e objetos\n",
        "2. Numpy: \n",
        "   * array, slicing, copy e view\n",
        "   * operações com array\n",
        "3. Pandas: \n",
        "   * dataframes, series, index, Pandas I/O\n",
        "   * limpeza de dados\n",
        "4. Matplotlib:  construção de gráficos\n",
        "5. Introdução ao aprendizado de máquina\n",
        "6. Introdução ao processamento de linguagem Natural com NLTK"
      ]
    },
    {
      "cell_type": "markdown",
      "metadata": {
        "id": "ZihgwGfCf0NU"
      },
      "source": [
        "# Aula 04: Pandas\n",
        " * Acrônimo para \"Python and data analysis\" and \"panel data\".\n",
        "\n",
        "\n"
      ]
    },
    {
      "cell_type": "markdown",
      "metadata": {
        "id": "jdhAx-I7Q_bp"
      },
      "source": [
        "Uma **Série** é um conjunto/vetor de valores, com índice (assim como uma lista).\n",
        "* Séries são muito consideradas em análises de dados pois representam elementos ordenados cronologicamente - série temporal\n",
        "* uma série temporal a respeito de temperatura, por exemplo, indica um conjunto de valores de temperaturas que foram coletados na ordem em que ocorrem no vetor.\n",
        "\n",
        "\n"
      ]
    },
    {
      "cell_type": "markdown",
      "metadata": {
        "id": "P3UJ86VdaVRu"
      },
      "source": [
        "  Para utilizar a biblioteca pandas e criar uma série (temporal ou não) basta utilizar o comando\n",
        "  * import pandas\n",
        "  * import pandas as pd #você verá muitas aplicações com esse padrão..."
      ]
    },
    {
      "cell_type": "code",
      "metadata": {
        "id": "dlq-B5XyaNvu"
      },
      "source": [
        "import pandas as pd\n",
        "\n",
        "# podemos criar uma serie a partir de uma lista, por exemplo\n",
        "serie = pd.Series([10,100,1000,90,900])\n",
        "serie"
      ],
      "execution_count": null,
      "outputs": []
    },
    {
      "cell_type": "code",
      "metadata": {
        "id": "1HubVwNB3pwF"
      },
      "source": [
        "#podemos recuperar os índices da série e seus valores (similar a um dicionário)\n",
        "print(serie.index)\n",
        "print(serie.values)\n",
        "\n",
        "# Mesmo array do Numpy, na verdade pandas trabalha internamente com Numpy\n",
        "print(type(serie.values))\n",
        "print(type(serie))"
      ],
      "execution_count": null,
      "outputs": []
    },
    {
      "cell_type": "code",
      "metadata": {
        "id": "E9K2qSooS5VW"
      },
      "source": [
        "#como você irá se cansar de ouvir, Python é muito versátil e flexível. \n",
        "#podemos mudar o índice de uma série e 'forçar' ela a trabalhar como um dicionário\n",
        "\n",
        "serie = pd.Series([10,20,30,40,50],index=['a','b','c','d','e'])\n",
        "serie\n",
        "\n",
        "# o requisito para construir uma série é utilizar pelo menos um parâmetro (os valores), mas podemos indicar quais os índices queremos, também\n"
      ],
      "execution_count": null,
      "outputs": []
    },
    {
      "cell_type": "code",
      "metadata": {
        "id": "bpy-q6m5TiIR"
      },
      "source": [
        "# Texto de título padrão\n",
        "combustiveis = ['álcool','gasolina','diesel','gnv']\n",
        "precos = [2.90,4.65,3.89,2.93]\n",
        "\n",
        "# alocando e atribuindo a série\n",
        "precosCombustiveis = pd.Series(precos,index=combustiveis)\n",
        "print(precosCombustiveis)\n"
      ],
      "execution_count": null,
      "outputs": []
    },
    {
      "cell_type": "markdown",
      "metadata": {
        "id": "iyETpzXMvbX1"
      },
      "source": [
        "Acesso aos valores de uma Serie"
      ]
    },
    {
      "cell_type": "code",
      "metadata": {
        "id": "QIBHYBxMvWFC"
      },
      "source": [
        "# Acesso pelo index\n",
        "print(precosCombustiveis['gasolina'])\n",
        "\n",
        "# Múltiplos indices\n",
        "print('\\nMultiplos indices')\n",
        "print(precosCombustiveis[['gasolina', 'álcool']])\n",
        "\n",
        "# Slicing também funciona\n",
        "print('\\nSlicing...')\n",
        "print(serie[0:2])\n",
        "print('\\nSlicing nominal é inclusivo')\n",
        "print(serie['b':'e']) # para índice nominal, o slicing é inclusivo, ou seja,\n",
        "                      # o último elemento é incluido na fatia"
      ],
      "execution_count": null,
      "outputs": []
    },
    {
      "cell_type": "markdown",
      "metadata": {
        "id": "-1D5bmeRwvhX"
      },
      "source": [
        "# Como no Numpy, podemos fazer operações (aritméticas e de comparação) entre Séries com o MESMO INDICE"
      ]
    },
    {
      "cell_type": "code",
      "metadata": {
        "id": "DemeI1qr8UTv"
      },
      "source": [
        "combustiveis = ['álcool','gasolina','diesel','gnv']\n",
        "precosAgosto = [2.90,4.65,3.89,2.93]\n",
        "precosSetembro = [2.70,5.00,3.92,2.90]\n",
        "\n",
        "precosCombustiveisAgo = pd.Series(precosAgosto,index=combustiveis)\n",
        "precosCombustiveisSet = pd.Series(precosSetembro,index=combustiveis)\n",
        "\n",
        "# Operação para o cálculo da variação do preço dos combustíveis\n",
        "VariacaoAgoSet = (precosCombustiveisSet/precosCombustiveisAgo-1)*100\n",
        "\n",
        "#O resultado será outra serie com os mesmos indices\n",
        "print(type(VariacaoAgoSet))\n",
        "print(VariacaoAgoSet.index)\n",
        "print(5*'-')\n",
        "print(VariacaoAgoSet.values)\n",
        "print(5*'-')\n",
        "\n",
        "VariacaoAgoSet"
      ],
      "execution_count": null,
      "outputs": []
    },
    {
      "cell_type": "code",
      "metadata": {
        "id": "8CBU_J9Yi_Vj"
      },
      "source": [
        "#Máscaras também funcionam\n",
        "mask = ((precosCombustiveisSet/precosCombustiveisAgo-1)*100>0)\n",
        "print(mask)\n",
        "print(5*'-')\n",
        "print(precosCombustiveisSet[mask])\n"
      ],
      "execution_count": null,
      "outputs": []
    },
    {
      "cell_type": "code",
      "metadata": {
        "id": "mlXm2Z8g-uCV"
      },
      "source": [
        "#Os índices não precisam ser exatamente os mesmo, para os indices que não existirem em uma das séries, é atribuído NaN\n",
        "precosCombustiveisSet['Plutônio'] = 50.47\n",
        "\n",
        "VariacaoAgoSet = (precosCombustiveisSet/precosCombustiveisAgo-1)*100\n",
        "\n",
        "VariacaoAgoSet"
      ],
      "execution_count": null,
      "outputs": []
    },
    {
      "cell_type": "code",
      "metadata": {
        "id": "dgY43bObj4ET"
      },
      "source": [
        "# Trabalhando com máscara...\n",
        "mask = ((precosCombustiveisSet/precosCombustiveisAgo-1)*100>0)\n",
        "print(mask)\n",
        "print(5*'-')\n",
        "print(precosCombustiveisSet[mask])"
      ],
      "execution_count": null,
      "outputs": []
    },
    {
      "cell_type": "markdown",
      "metadata": {
        "id": "gxhGyNnDyBQN"
      },
      "source": [
        "#Reindex\n",
        "* Para alterar, adicionar ou remover indices\n",
        "* Não altera o indice origem, mas sim retorna a serie com a alteração\n"
      ]
    },
    {
      "cell_type": "code",
      "metadata": {
        "id": "7HhKaW9Bmo6B"
      },
      "source": [
        "#Para modifcar o indice, adicionando ou removendo series\n",
        "precosCombustiveisAgoAtlz = precosCombustiveisAgo.reindex(precosCombustiveisSet.index)\n",
        "print(precosCombustiveisAgoAtlz)"
      ],
      "execution_count": null,
      "outputs": []
    },
    {
      "cell_type": "code",
      "metadata": {
        "id": "yb2ePzdinx29"
      },
      "source": [
        "#Reindex\n",
        "#pra adicionar valores faltantes\n",
        "precosCombustiveisAgoFvalue = precosCombustiveisAgo.reindex((precosCombustiveisSet.index), fill_value = 0)\n",
        "print(precosCombustiveisAgoFvalue)"
      ],
      "execution_count": null,
      "outputs": []
    },
    {
      "cell_type": "code",
      "metadata": {
        "id": "ivF3F3mFp5S-"
      },
      "source": [
        "#reindex\n",
        "#Preenche com o valor mais próximo\n",
        "serie.index = [0,1,2,3,4]\n",
        "serieAuto = serie.reindex([0,1,2,3,4,5,6,7,-1], method='nearest')\n",
        "serieAuto"
      ],
      "execution_count": null,
      "outputs": []
    },
    {
      "cell_type": "markdown",
      "metadata": {
        "id": "bwNTt7Hjz6Vs"
      },
      "source": [
        "Temos também ordenação por índice e por valores\n",
        "* sort_index()\n",
        "* sort_values()\n",
        "* Também não altera na origem\n"
      ]
    },
    {
      "cell_type": "code",
      "metadata": {
        "id": "Oum3Et7Rrfu1"
      },
      "source": [
        "print('Por índice')\n",
        "print(serieAuto.sort_index())\n",
        "\n",
        "print(5*'-')\n",
        "print('Por valor')\n",
        "serieAuto[-1] = 15\n",
        "print(serieAuto.sort_values())\n",
        "\n",
        "print(5*'-')\n",
        "print('Não alterou a ordem na origem: inplace = False')\n",
        "print(serieAuto)"
      ],
      "execution_count": null,
      "outputs": []
    },
    {
      "cell_type": "code",
      "metadata": {
        "id": "4PYjvO4XVGr0"
      },
      "source": [
        "# funções estatísticas\n",
        "media = precosCombustiveis.mean() #facilita encontrar a média\n",
        "desviopadrao = precosCombustiveis.std() # e o desvio padrão dentro da série\n",
        "\n",
        "print(media)\n",
        "print(desviopadrao)"
      ],
      "execution_count": null,
      "outputs": []
    },
    {
      "cell_type": "code",
      "metadata": {
        "id": "8gkv-nrKVkR2"
      },
      "source": [
        "#vale a pena ver tudo que se pode fazer com o pandas.Series  em https://pandas.pydata.org/pandas-docs/stable/reference/api/pandas.Series.html\n",
        "#como ver o gráfico dos valores em 1 comando...\n",
        "\n",
        "# ...por default usa o matplotlib\n",
        "precosCombustiveis.plot()"
      ],
      "execution_count": null,
      "outputs": []
    },
    {
      "cell_type": "code",
      "metadata": {
        "id": "iVeCU8L1V79z"
      },
      "source": [
        "#ou verificar todos os valores únicos dentro de um conjunto de valores...\n",
        "import numpy as np\n",
        "\n",
        "# criando a serie a partir de um ndarray\n",
        "serie = pd.Series(np.random.randint(1,100,100))\n",
        "\n",
        "print('\\n Todos os elementos \\n',serie)\n",
        "print('\\n\\n Elementos únicos\\n',serie.unique())\n",
        "print('\\n\\n Elementos repetidos\\n',serie.duplicated())\n",
        "\n",
        "#Removendo os duplicados\n",
        "serieSemRepeticoes = serie.drop_duplicates()\n",
        "print('\\n\\n Série sem repetição de valores\\n',serieSemRepeticoes)\n",
        "\n",
        "# Comparando graficamente\n",
        "serie.plot()\n",
        "serieSemRepeticoes.plot()"
      ],
      "execution_count": null,
      "outputs": []
    },
    {
      "cell_type": "code",
      "metadata": {
        "id": "MhTPwZ-OUbI9"
      },
      "source": [
        "#Mas nosso foco aqui é análise, correto?  Então vamos logo ver alguns detalhes sobre nossos dados\n",
        "\n",
        "serieTemperaturas = pd.Series(np.random.rand(1000)) #criamos uma série de 1000 números decimais\n",
        "\n",
        "serieTemperaturas.describe()"
      ],
      "execution_count": null,
      "outputs": []
    },
    {
      "cell_type": "markdown",
      "metadata": {
        "id": "RqUEqv0qY8ge"
      },
      "source": [
        "# Séries são estruturas unidimensionais que podem ser facilmente manipuladas pelo pandas. \n",
        "\n",
        "\n",
        "\n",
        "Mas e quando precisamos lidar com mais dimensões?\n",
        "\n",
        "* Dimensão na mineração de dados representa a quantidade de atributos que a base de dados possui\n",
        "\n",
        "\n",
        "# Dataframe\n",
        "\n",
        "* Estrutura de dados tabular (semelhante a planilhas de dados)\n",
        "* Linhas e Colunas\n",
        "* Assim como NumPy, a coluna possui um tipo de dado único, porém...\n",
        "* o dataframe pode possuir diversas colunas de difentes tipos de dados.\n",
        "* Todas as series compartilham do mesmo índice\n",
        "\n",
        "\n"
      ]
    },
    {
      "cell_type": "code",
      "metadata": {
        "id": "vq8zwLjeY7vb"
      },
      "source": [
        "# range para o índice de 2014 até 2017\n",
        "years = range(2014, 2018)\n",
        "\n",
        "shop1 = pd.Series([2409.14, 2941.01, 3496.83, 3119.55], index=years)\n",
        "shop2 = pd.Series([1203.45, 3441.62, 3007.83, 3619.53], index=years)\n",
        "shop3 = pd.Series([3412.12, 3491.16, 3457.19, 1963.10], index=years)\n",
        "\n",
        "# Parâmetro axis: {0/’index’, 1/’columns’}, default 0\n",
        "shops_df = pd.concat([shop1, shop2, shop3], axis=1)\n",
        "print(type(shops_df))\n",
        "shops_df"
      ],
      "execution_count": null,
      "outputs": []
    },
    {
      "cell_type": "code",
      "metadata": {
        "id": "rtTfjAVUZiHD"
      },
      "source": [
        "# alterando os indices das colunas para para nomes de cidades\n",
        "# atribuindo uma lista\n",
        "cities = [\"Zürich\", \"Winterthur\", \"Freiburg\"]\n",
        "shops_df.columns = cities \n",
        "print(shops_df)\n",
        "\n",
        "# ou, alternativamente, dando nome para as series utilizandas\n",
        "shop1.name = \"Zürich\"\n",
        "shop2.name = \"Winterthur\"\n",
        "shop3.name = \"Freiburg\"\n",
        "\n",
        "print(\"------\")\n",
        "shops_df2 = pd.concat([shop1, shop2, shop3], axis=1)\n",
        "print(shops_df2)"
      ],
      "execution_count": null,
      "outputs": []
    },
    {
      "cell_type": "code",
      "metadata": {
        "id": "dKKsXE2P3GE5"
      },
      "source": [
        "# podemos criar um data frame a partir de dicionários\n",
        "\n",
        "# dicionários onde o par chave: valor\n",
        "# \"name:\" lista de cidades (string)\n",
        "# \"population: lista população (integer)\n",
        "# \"country: lista de paíse (string)\n",
        "\n",
        "cities = {\"name\": [\"London\", \"Berlin\", \"Madrid\", \"Rome\", \n",
        "                   \"Paris\", \"Vienna\", \"Bucharest\", \"Hamburg\", \n",
        "                   \"Budapest\", \"Warsaw\", \"Barcelona\", \n",
        "                   \"Munich\", \"Milan\"],\n",
        "          \"population\": [8615246, 3562166, 3165235, 2874038,\n",
        "                         2273305, 1805681, 1803425, 1760433,\n",
        "                         1754000, 1740119, 1602386, 1493900,\n",
        "                         1350680],\n",
        "          \"country\": [\"England\", \"Germany\", \"Spain\", \"Italy\",\n",
        "                      \"France\", \"Austria\", \"Romania\", \n",
        "                      \"Germany\", \"Hungary\", \"Poland\", \"Spain\",\n",
        "                      \"Germany\", \"Italy\"]}\n",
        "\n",
        "#Data frame onde as colunas serão as chaves.\n",
        "city_frame = pd.DataFrame(cities)\n",
        "city_frame"
      ],
      "execution_count": null,
      "outputs": []
    },
    {
      "cell_type": "markdown",
      "metadata": {
        "id": "McaKDWNwBMb7"
      },
      "source": [
        "Acessando os dados do dataframe"
      ]
    },
    {
      "cell_type": "code",
      "metadata": {
        "id": "FKnMfKWh4aaG"
      },
      "source": [
        "# obtendo os índices das colunas\n",
        "colunas = city_frame.columns.values\n",
        "print(colunas)\n",
        "print(type(colunas))"
      ],
      "execution_count": null,
      "outputs": []
    },
    {
      "cell_type": "code",
      "metadata": {
        "id": "jvkH13bL5IvE"
      },
      "source": [
        "city_frame.head()"
      ],
      "execution_count": null,
      "outputs": []
    },
    {
      "cell_type": "code",
      "metadata": {
        "id": "JbRqLiGf5N-2"
      },
      "source": [
        "# obtendo os typos das colunas\n",
        "city_frame.dtypes"
      ],
      "execution_count": null,
      "outputs": []
    },
    {
      "cell_type": "markdown",
      "metadata": {
        "id": "h2Th7shyBc9R"
      },
      "source": [
        "Podemos obter os valores a paritr do indice\n"
      ]
    },
    {
      "cell_type": "code",
      "metadata": {
        "id": "oE3GQvqe5OH1"
      },
      "source": [
        "# uma string entre []\n",
        "print(5*'-')\n",
        "print(city_frame['population'])\n",
        "\n",
        "# ou como se fosse uma propriedade, após o .\n",
        "print(5*'-')\n",
        "print(city_frame.country)\n",
        "\n",
        "# suporta busca via multindices\n",
        "print(5*'-')\n",
        "print(city_frame[['name','country']])"
      ],
      "execution_count": null,
      "outputs": []
    },
    {
      "cell_type": "markdown",
      "metadata": {
        "id": "t6X_ar2XCQTR"
      },
      "source": [
        "Na criação do dataframe, podemos determinar uma das colunas como índice das linhas"
      ]
    },
    {
      "cell_type": "code",
      "metadata": {
        "id": "K0juvEW85OL_"
      },
      "source": [
        "#Escolhendo uma coluna como índice\n",
        "city_frame = pd.DataFrame(cities,\n",
        "                          columns=[\"name\", \"population\"],\n",
        "                          index=cities[\"country\"])\n",
        "\n",
        "city_frame.head()"
      ],
      "execution_count": null,
      "outputs": []
    },
    {
      "cell_type": "markdown",
      "metadata": {
        "id": "Hzur7GZwCh3A"
      },
      "source": [
        "Temos reursos, também, para incluir novas colunas"
      ]
    },
    {
      "cell_type": "code",
      "metadata": {
        "id": "e5BjlBoV5OPo"
      },
      "source": [
        "# criando uma nova coluna\n",
        "city_frame['new_col'] = np.zeros((city_frame.shape[0])) # o comando shape funciona como no numpy\n",
        "print(city_frame)\n",
        "\n",
        "# removendo a nova coluna\n",
        "city_frame = city_frame.drop(['new_col'], axis=1) # OU del df_d['new_col']\n",
        "print(city_frame)\n",
        "\n",
        "\n",
        "\n",
        "#drop funciona tanto para coluna quanto para linha - especificar o eixo;\n",
        "print(city_frame.drop(['Poland'], axis=0))\n",
        "print(5*'-','não salva ateração na origem')\n",
        "print(city_frame)"
      ],
      "execution_count": null,
      "outputs": []
    },
    {
      "cell_type": "markdown",
      "metadata": {
        "id": "EH5R9JJXOkS5"
      },
      "source": [
        "Acessando colunas\n",
        "* loc: acessa pelos rótulos \n",
        "* iloc: seleciona linhas como se fosse uma matriz, com índices inteiros\n"
      ]
    },
    {
      "cell_type": "code",
      "metadata": {
        "id": "hUSrKXDJHHnQ"
      },
      "source": [
        "#Escolhendo uma coluna como índice\n",
        "city_frame = pd.DataFrame(cities,\n",
        "                          columns=[\"name\", \"population\"],\n",
        "                          index=cities[\"country\"])\n",
        "\n",
        "city_frame.head()"
      ],
      "execution_count": null,
      "outputs": []
    },
    {
      "cell_type": "markdown",
      "metadata": {
        "id": "4fsFd52hIaws"
      },
      "source": [
        "##iloc"
      ]
    },
    {
      "cell_type": "code",
      "metadata": {
        "id": "KjHqquNuOicO"
      },
      "source": [
        "# retorna uma linha como uma série (rótulo da linha se torna o rótulo de coluna)\n",
        "print(city_frame.iloc[2]) \n",
        "print(type(city_frame.iloc[2]))\n",
        "\n",
        "#slicing\n",
        "print(5*'-')\n",
        "print(city_frame.iloc[2:4])\n",
        "print(type(city_frame.iloc[2:4]))  \n",
        "\n",
        "#slicing duas dimenções\n",
        "print(5*'-')\n",
        "print(city_frame.iloc[2:4,1:])  \n",
        "print(type(city_frame.iloc[2:4,1:]))"
      ],
      "execution_count": null,
      "outputs": []
    },
    {
      "cell_type": "markdown",
      "metadata": {
        "id": "LaKP9K43Ifx8"
      },
      "source": [
        "## loc"
      ]
    },
    {
      "cell_type": "code",
      "metadata": {
        "id": "UeroqrBX5OSl"
      },
      "source": [
        "# busca pelo título da linha, retorna uma serie com os dados da coluna\n",
        "print(city_frame.loc['Hungary'])\n",
        "print(type(city_frame.loc['Hungary']))\n",
        "\n",
        "# suporta multiindice\n",
        "print(5*'-')\n",
        "print(city_frame.loc[['France', 'Spain']])\n",
        "\n",
        "# permite fazer comparções via expressoes boobleanas\n",
        "print(5*'-')\n",
        "print(city_frame.loc[city_frame['name'] == 'Berlin']) # loc aceita expressoes booleanas\n",
        "\n"
      ],
      "execution_count": null,
      "outputs": []
    },
    {
      "cell_type": "code",
      "metadata": {
        "id": "8xARlWOi5OVd"
      },
      "source": [
        "# as expressoes booleanas podem ser combinadas\n",
        "# & é o operador lógico AND e\n",
        "# | é o operador lógico OR\n",
        "print(city_frame.loc[(city_frame['name'] == 'Madrid') | (city_frame['population'] <= 1700000)])"
      ],
      "execution_count": null,
      "outputs": []
    },
    {
      "cell_type": "markdown",
      "metadata": {
        "id": "Avm24LnCTUdI"
      },
      "source": [
        "# Carregando arquivos"
      ]
    },
    {
      "cell_type": "code",
      "metadata": {
        "id": "fB9n9f5L5OX-"
      },
      "source": [
        "%%writefile simple.csv\n",
        "a,b,c,d,message\n",
        "1,2,3,4,hello\n",
        "5,6,7,8,world\n",
        "9,10,11,12,foo\n"
      ],
      "execution_count": null,
      "outputs": []
    },
    {
      "cell_type": "code",
      "metadata": {
        "id": "SFP-dsW45Oak"
      },
      "source": [
        "# Carregar um CSV simples\n",
        "import pandas as pd # importamos a bilbioteca\n",
        "\n",
        "# a primeira linha vira os índices das colunas\n",
        "df = pd.read_csv('simple.csv')\n",
        "print(df.columns.values)\n",
        "df.head()"
      ],
      "execution_count": null,
      "outputs": []
    },
    {
      "cell_type": "code",
      "metadata": {
        "id": "an3o3Ny0Tmyf"
      },
      "source": [
        "# uma coluna pode virar o índice das linhas;\n",
        "# podemos também dar nomes as colunas\n",
        "df = pd.read_csv('simple.csv',\n",
        "                 names=['c0','c1','c2','c3','c4'],\n",
        "                 index_col='c4')\n",
        "#df = pd.read_csv('simple.csv',index_col='c5')\n",
        "print(df.index.values)\n",
        "df.head()"
      ],
      "execution_count": null,
      "outputs": []
    },
    {
      "cell_type": "markdown",
      "metadata": {
        "id": "vxLYLvFMWCT4"
      },
      "source": [
        "Carregando arquivos do do google drive\n"
      ]
    },
    {
      "cell_type": "code",
      "metadata": {
        "id": "jSzC1Lb1WJ3O"
      },
      "source": [
        "from google.colab import drive\n",
        "drive.mount(\"/content/drive\")"
      ],
      "execution_count": null,
      "outputs": []
    },
    {
      "cell_type": "code",
      "metadata": {
        "id": "JPR-ynX_WTJG"
      },
      "source": [
        "# Assim, além dos arquivos locais, podemos acessar arquivos na nuvem, ....\n",
        "df = pd.read_csv('/content/drive/My Drive/PythonCD/dataset_todas_palavras_portugues.txt')\n",
        "df\n"
      ],
      "execution_count": null,
      "outputs": []
    },
    {
      "cell_type": "code",
      "metadata": {
        "id": "MJw64ET9Mptu"
      },
      "source": [
        "# disponiblizados online, .....\n",
        "\n",
        "# tsf é separado por tabulações, melhor do que vírgula do csv quando se lida com textos\n",
        "df = pd.read_csv(\"https://raw.githubusercontent.com/sidleal/porsimplessent/master/porsimples/porsimples_sentences.tsv\", sep='\\t')\n",
        "df\n"
      ],
      "execution_count": null,
      "outputs": []
    },
    {
      "cell_type": "code",
      "metadata": {
        "id": "sSxSAsOLQIc9"
      },
      "source": [
        "# Opa....temos o nosso né\n",
        "df = pd.read_csv(\"https://raw.githubusercontent.com/rafaelstojoao/python4dataScience/master/codigos/dataset_todas_palavras_portugues.txt\")\n",
        "df"
      ],
      "execution_count": null,
      "outputs": []
    },
    {
      "cell_type": "code",
      "metadata": {
        "id": "gzr-wzleMuzf"
      },
      "source": [
        "# ou ainda fazer o upload\n",
        "import io\n",
        "from google.colab import files\n",
        "uploaded =  files.upload()"
      ],
      "execution_count": null,
      "outputs": []
    },
    {
      "cell_type": "code",
      "metadata": {
        "id": "o5zd2pYGNLxr"
      },
      "source": [
        "df2 = pd.read_csv(io.BytesIO(uploaded['dataset_todas_palavras_portugues.txt']))\n",
        "df2"
      ],
      "execution_count": null,
      "outputs": []
    }
  ]
}